{
 "cells": [
  {
   "cell_type": "code",
   "execution_count": 1,
   "id": "e0327028",
   "metadata": {},
   "outputs": [],
   "source": [
    "\n",
    "# Custom functions\n",
    "from my_functions import *\n",
    "\n",
    "from matplotlib import pyplot\n",
    "import pickle\n",
    "\n",
    "# ML packages\n",
    "from sklearn.multiclass import OneVsRestClassifier\n",
    "from sklearn.feature_extraction.text import TfidfVectorizer\n",
    "from sklearn.preprocessing import Normalizer, MultiLabelBinarizer, LabelEncoder\n",
    "from sklearn.model_selection import train_test_split, cross_val_score, RandomizedSearchCV, cross_validate, ShuffleSplit, StratifiedKFold\n",
    "from sklearn.metrics import confusion_matrix, accuracy_score, f1_score, precision_score, recall_score,precision_recall_curve, auc, roc_auc_score, cohen_kappa_score\n",
    "\n",
    "#from scipy.sparse import hstack\n",
    "from xgboost import XGBClassifier\n",
    "\n",
    "# Used for SMOTE:\n",
    "from collections import Counter\n",
    "from imblearn.over_sampling import SMOTE\n",
    "from imblearn.under_sampling import RandomUnderSampler\n",
    "from imblearn.pipeline import Pipeline\n"
   ]
  },
  {
   "cell_type": "markdown",
   "id": "389641e6",
   "metadata": {},
   "source": [
    "#### Import data"
   ]
  },
  {
   "cell_type": "code",
   "execution_count": 2,
   "id": "247da432",
   "metadata": {},
   "outputs": [
    {
     "name": "stdout",
     "output_type": "stream",
     "text": [
      "269\n"
     ]
    }
   ],
   "source": [
    "# import Pickled data\n",
    "infile = open('bk_data_merged','rb')\n",
    "df_merge = pickle.load(infile)\n",
    "infile.close()\n",
    "print(len(df_merge))"
   ]
  },
  {
   "cell_type": "markdown",
   "id": "ec8623ae",
   "metadata": {},
   "source": [
    "## 1) Sentiment Analysis\n",
    "#### Labelling the reviews \n",
    "We will use the original (un-untransformed) reviews attribute for the sentiment analysis"
   ]
  },
  {
   "cell_type": "code",
   "execution_count": 3,
   "id": "185da18c",
   "metadata": {},
   "outputs": [
    {
     "data": {
      "text/html": [
       "<div>\n",
       "<style scoped>\n",
       "    .dataframe tbody tr th:only-of-type {\n",
       "        vertical-align: middle;\n",
       "    }\n",
       "\n",
       "    .dataframe tbody tr th {\n",
       "        vertical-align: top;\n",
       "    }\n",
       "\n",
       "    .dataframe thead th {\n",
       "        text-align: right;\n",
       "    }\n",
       "</style>\n",
       "<table border=\"1\" class=\"dataframe\">\n",
       "  <thead>\n",
       "    <tr style=\"text-align: right;\">\n",
       "      <th></th>\n",
       "      <th>title</th>\n",
       "      <th>year</th>\n",
       "      <th>genre</th>\n",
       "      <th>movie_description</th>\n",
       "      <th>critical_consensus</th>\n",
       "      <th>review</th>\n",
       "      <th>sentiment</th>\n",
       "      <th>sentiment_all</th>\n",
       "      <th>sentiment_pos</th>\n",
       "      <th>sentiment_neg</th>\n",
       "      <th>sentiment_neu</th>\n",
       "      <th>sentiment_comp</th>\n",
       "      <th>sentiment_overall</th>\n",
       "    </tr>\n",
       "  </thead>\n",
       "  <tbody>\n",
       "    <tr>\n",
       "      <th>0</th>\n",
       "      <td>The Hunger Games: Catching Fire</td>\n",
       "      <td>2013</td>\n",
       "      <td>[Adventure, Sci-Fi, Action]</td>\n",
       "      <td>After arriving safely home from their unpreced...</td>\n",
       "      <td>Smart, smoothly directed, and enriched with a ...</td>\n",
       "      <td>[Catching Fire delivers on the grim, roiling p...</td>\n",
       "      <td>{'neg': 0.105, 'neu': 0.65, 'pos': 0.246, 'com...</td>\n",
       "      <td>[{'neg': 0.339, 'neu': 0.389, 'pos': 0.272, 'c...</td>\n",
       "      <td>0.246</td>\n",
       "      <td>0.105</td>\n",
       "      <td>0.650</td>\n",
       "      <td>0.9986</td>\n",
       "      <td>positive</td>\n",
       "    </tr>\n",
       "    <tr>\n",
       "      <th>1</th>\n",
       "      <td>The Hunger Games: Mockingjay – Part 1</td>\n",
       "      <td>2014</td>\n",
       "      <td>[Action, Adventure, Sci-Fi]</td>\n",
       "      <td>Following her rescue from the devastating Quar...</td>\n",
       "      <td>The Hunger Games: Mockingjay - Part 1 sets up ...</td>\n",
       "      <td>[\"Mockingjay - Part 1,\" however well done, can...</td>\n",
       "      <td>{'neg': 0.039, 'neu': 0.771, 'pos': 0.19, 'com...</td>\n",
       "      <td>[{'neg': 0.0, 'neu': 0.764, 'pos': 0.236, 'com...</td>\n",
       "      <td>0.190</td>\n",
       "      <td>0.039</td>\n",
       "      <td>0.771</td>\n",
       "      <td>0.9974</td>\n",
       "      <td>positive</td>\n",
       "    </tr>\n",
       "  </tbody>\n",
       "</table>\n",
       "</div>"
      ],
      "text/plain": [
       "                                   title  year                        genre  \\\n",
       "0        The Hunger Games: Catching Fire  2013  [Adventure, Sci-Fi, Action]   \n",
       "1  The Hunger Games: Mockingjay – Part 1  2014  [Action, Adventure, Sci-Fi]   \n",
       "\n",
       "                                   movie_description  \\\n",
       "0  After arriving safely home from their unpreced...   \n",
       "1  Following her rescue from the devastating Quar...   \n",
       "\n",
       "                                  critical_consensus  \\\n",
       "0  Smart, smoothly directed, and enriched with a ...   \n",
       "1  The Hunger Games: Mockingjay - Part 1 sets up ...   \n",
       "\n",
       "                                              review  \\\n",
       "0  [Catching Fire delivers on the grim, roiling p...   \n",
       "1  [\"Mockingjay - Part 1,\" however well done, can...   \n",
       "\n",
       "                                           sentiment  \\\n",
       "0  {'neg': 0.105, 'neu': 0.65, 'pos': 0.246, 'com...   \n",
       "1  {'neg': 0.039, 'neu': 0.771, 'pos': 0.19, 'com...   \n",
       "\n",
       "                                       sentiment_all  sentiment_pos  \\\n",
       "0  [{'neg': 0.339, 'neu': 0.389, 'pos': 0.272, 'c...          0.246   \n",
       "1  [{'neg': 0.0, 'neu': 0.764, 'pos': 0.236, 'com...          0.190   \n",
       "\n",
       "   sentiment_neg  sentiment_neu  sentiment_comp sentiment_overall  \n",
       "0          0.105          0.650          0.9986          positive  \n",
       "1          0.039          0.771          0.9974          positive  "
      ]
     },
     "execution_count": 3,
     "metadata": {},
     "output_type": "execute_result"
    }
   ],
   "source": [
    "# Determine Sentiment of Reviews; see (Hutto, n.d.)\n",
    "df_merge['sentiment'] = df_merge['review'].apply(lambda x: sid_analyser(x, True))\n",
    "df_merge['sentiment_all'] = df_merge['review'].apply(lambda x: sid_analyser(x, False))\n",
    "\n",
    "# Split overall scores into seperate columns for plotting\n",
    "df_merge['sentiment_pos'] = df_merge['sentiment'].apply(lambda x: x['pos'])\n",
    "df_merge['sentiment_neg'] = df_merge['sentiment'].apply(lambda x: x['neg'])\n",
    "df_merge['sentiment_neu'] = df_merge['sentiment'].apply(lambda x: x['neu'])\n",
    "df_merge['sentiment_comp'] = df_merge['sentiment'].apply(lambda x: x['compound'])\n",
    "\n",
    "# Apply overall sentiment classification label\n",
    "df_merge['sentiment_overall'] = df_merge['sentiment'].apply(lambda x: sentiment_overall(x['compound']))\n",
    "\n",
    "df_merge.head(2)"
   ]
  },
  {
   "cell_type": "code",
   "execution_count": 4,
   "id": "9c258d66",
   "metadata": {},
   "outputs": [
    {
     "data": {
      "text/plain": [
       "positive    233\n",
       "negative     35\n",
       "neutral       1\n",
       "Name: sentiment_overall, dtype: int64"
      ]
     },
     "execution_count": 4,
     "metadata": {},
     "output_type": "execute_result"
    }
   ],
   "source": [
    "# note the data are imbalanced\n",
    "df_merge['sentiment_overall'].value_counts()"
   ]
  },
  {
   "cell_type": "code",
   "execution_count": 5,
   "id": "189b5fb2",
   "metadata": {},
   "outputs": [
    {
     "data": {
      "text/plain": [
       "Text(0.5, 1.0, 'Compound Sentiment')"
      ]
     },
     "execution_count": 5,
     "metadata": {},
     "output_type": "execute_result"
    },
    {
     "data": {
      "image/png": "[encoded data removed]",
      "text/plain": [
       "<Figure size 720x504 with 4 Axes>"
      ]
     },
     "metadata": {
      "needs_background": "light"
     },
     "output_type": "display_data"
    }
   ],
   "source": [
    "fig, axs = plt.subplots(2, 2, figsize = (10,7))\n",
    "\n",
    "# Plot the distribution of sentiment\n",
    "axs[0,0].hist(df_merge['sentiment_pos'])\n",
    "axs[0,0].set_title(\"Positive Sentiment\")\n",
    "axs[0,1].hist(df_merge['sentiment_neg'])\n",
    "axs[0,1].set_title(\"Negative Sentiment\")\n",
    "axs[1,0].hist(df_merge['sentiment_neu'])\n",
    "axs[1,0].set_title(\"Neutral Sentiment\")\n",
    "axs[1,1].hist(df_merge['sentiment_comp'])\n",
    "axs[1,1].set_title(\"Compound Sentiment\")"
   ]
  },
  {
   "cell_type": "markdown",
   "id": "32bfff20",
   "metadata": {},
   "source": [
    "**What is the neutral review?**\n",
    "\n",
    "It looks like the reviews are balanced between positive and negative. As this is the only film that VADER has classified as neutral, we will remove it from the dataset."
   ]
  },
  {
   "cell_type": "code",
   "execution_count": 6,
   "id": "22607ea0",
   "metadata": {},
   "outputs": [
    {
     "name": "stdout",
     "output_type": "stream",
     "text": [
      "Film:  ['Thunderball']\n"
     ]
    }
   ],
   "source": [
    "# What is the neutral review?\n",
    "print('Film: ', df_merge[df_merge['sentiment_overall'] == 'neutral']['title'].values)"
   ]
  },
  {
   "cell_type": "code",
   "execution_count": 7,
   "id": "4c069825",
   "metadata": {},
   "outputs": [
    {
     "data": {
      "text/plain": [
       "positive    5\n",
       "negative    3\n",
       "Name: 1, dtype: int64"
      ]
     },
     "execution_count": 7,
     "metadata": {},
     "output_type": "execute_result"
    }
   ],
   "source": [
    "# How are the reviews scored individually?\n",
    "df_merge.head()\n",
    "\n",
    "sent = []\n",
    "for i in list(df_merge[df_merge['sentiment_overall'] == 'neutral']['sentiment_all'])[0]:\n",
    "    sent.append([i['compound'], sentiment_overall(np.mean(i['compound']))])\n",
    "    \n",
    "pd.DataFrame(sent)[1].value_counts()"
   ]
  },
  {
   "cell_type": "code",
   "execution_count": 8,
   "id": "3167b81a",
   "metadata": {},
   "outputs": [],
   "source": [
    "# Classify as positive\n",
    "df_merge.loc[df_merge.title == 'Thunderball', 'sentiment_overall'] = 'positive'"
   ]
  },
  {
   "cell_type": "code",
   "execution_count": 9,
   "id": "41fd4423",
   "metadata": {},
   "outputs": [
    {
     "data": {
      "text/plain": [
       "positive    234\n",
       "negative     35\n",
       "Name: sentiment_overall, dtype: int64"
      ]
     },
     "execution_count": 9,
     "metadata": {},
     "output_type": "execute_result"
    }
   ],
   "source": [
    "# note the data are imbalanced\n",
    "df_merge['sentiment_overall'].value_counts()"
   ]
  },
  {
   "cell_type": "markdown",
   "id": "8e1dbcc4",
   "metadata": {},
   "source": [
    "## 2) Construct final data model\n",
    "### Data Cleanup"
   ]
  },
  {
   "cell_type": "code",
   "execution_count": 10,
   "id": "114ff900",
   "metadata": {},
   "outputs": [
    {
     "data": {
      "text/html": [
       "<div>\n",
       "<style scoped>\n",
       "    .dataframe tbody tr th:only-of-type {\n",
       "        vertical-align: middle;\n",
       "    }\n",
       "\n",
       "    .dataframe tbody tr th {\n",
       "        vertical-align: top;\n",
       "    }\n",
       "\n",
       "    .dataframe thead th {\n",
       "        text-align: right;\n",
       "    }\n",
       "</style>\n",
       "<table border=\"1\" class=\"dataframe\">\n",
       "  <thead>\n",
       "    <tr style=\"text-align: right;\">\n",
       "      <th></th>\n",
       "      <th>title</th>\n",
       "      <th>year</th>\n",
       "      <th>genre</th>\n",
       "      <th>movie_description</th>\n",
       "      <th>critical_consensus</th>\n",
       "      <th>review</th>\n",
       "      <th>sentiment</th>\n",
       "      <th>sentiment_all</th>\n",
       "      <th>sentiment_pos</th>\n",
       "      <th>sentiment_neg</th>\n",
       "      <th>sentiment_neu</th>\n",
       "      <th>sentiment_comp</th>\n",
       "      <th>sentiment_overall</th>\n",
       "    </tr>\n",
       "  </thead>\n",
       "  <tbody>\n",
       "    <tr>\n",
       "      <th>0</th>\n",
       "      <td>The Hunger Games: Catching Fire</td>\n",
       "      <td>2013</td>\n",
       "      <td>[Adventure, Sci-Fi, Action]</td>\n",
       "      <td>After arriving safely home from their unpreced...</td>\n",
       "      <td>Smart, smoothly directed, and enriched with a ...</td>\n",
       "      <td>[Catching Fire delivers on the grim, roiling p...</td>\n",
       "      <td>{'neg': 0.105, 'neu': 0.65, 'pos': 0.246, 'com...</td>\n",
       "      <td>[{'neg': 0.339, 'neu': 0.389, 'pos': 0.272, 'c...</td>\n",
       "      <td>0.246</td>\n",
       "      <td>0.105</td>\n",
       "      <td>0.650</td>\n",
       "      <td>0.9986</td>\n",
       "      <td>positive</td>\n",
       "    </tr>\n",
       "    <tr>\n",
       "      <th>1</th>\n",
       "      <td>The Hunger Games: Mockingjay – Part 1</td>\n",
       "      <td>2014</td>\n",
       "      <td>[Action, Adventure, Sci-Fi]</td>\n",
       "      <td>Following her rescue from the devastating Quar...</td>\n",
       "      <td>The Hunger Games: Mockingjay - Part 1 sets up ...</td>\n",
       "      <td>[\"Mockingjay - Part 1,\" however well done, can...</td>\n",
       "      <td>{'neg': 0.039, 'neu': 0.771, 'pos': 0.19, 'com...</td>\n",
       "      <td>[{'neg': 0.0, 'neu': 0.764, 'pos': 0.236, 'com...</td>\n",
       "      <td>0.190</td>\n",
       "      <td>0.039</td>\n",
       "      <td>0.771</td>\n",
       "      <td>0.9974</td>\n",
       "      <td>positive</td>\n",
       "    </tr>\n",
       "  </tbody>\n",
       "</table>\n",
       "</div>"
      ],
      "text/plain": [
       "                                   title  year                        genre  \\\n",
       "0        The Hunger Games: Catching Fire  2013  [Adventure, Sci-Fi, Action]   \n",
       "1  The Hunger Games: Mockingjay – Part 1  2014  [Action, Adventure, Sci-Fi]   \n",
       "\n",
       "                                   movie_description  \\\n",
       "0  After arriving safely home from their unpreced...   \n",
       "1  Following her rescue from the devastating Quar...   \n",
       "\n",
       "                                  critical_consensus  \\\n",
       "0  Smart, smoothly directed, and enriched with a ...   \n",
       "1  The Hunger Games: Mockingjay - Part 1 sets up ...   \n",
       "\n",
       "                                              review  \\\n",
       "0  [Catching Fire delivers on the grim, roiling p...   \n",
       "1  [\"Mockingjay - Part 1,\" however well done, can...   \n",
       "\n",
       "                                           sentiment  \\\n",
       "0  {'neg': 0.105, 'neu': 0.65, 'pos': 0.246, 'com...   \n",
       "1  {'neg': 0.039, 'neu': 0.771, 'pos': 0.19, 'com...   \n",
       "\n",
       "                                       sentiment_all  sentiment_pos  \\\n",
       "0  [{'neg': 0.339, 'neu': 0.389, 'pos': 0.272, 'c...          0.246   \n",
       "1  [{'neg': 0.0, 'neu': 0.764, 'pos': 0.236, 'com...          0.190   \n",
       "\n",
       "   sentiment_neg  sentiment_neu  sentiment_comp sentiment_overall  \n",
       "0          0.105          0.650          0.9986          positive  \n",
       "1          0.039          0.771          0.9974          positive  "
      ]
     },
     "execution_count": 10,
     "metadata": {},
     "output_type": "execute_result"
    }
   ],
   "source": [
    "df_merge.head(2)"
   ]
  },
  {
   "cell_type": "code",
   "execution_count": null,
   "id": "e006ba4c",
   "metadata": {},
   "outputs": [],
   "source": []
  },
  {
   "cell_type": "code",
   "execution_count": 11,
   "id": "bbaf640a",
   "metadata": {},
   "outputs": [
    {
     "data": {
      "text/html": [
       "<div>\n",
       "<style scoped>\n",
       "    .dataframe tbody tr th:only-of-type {\n",
       "        vertical-align: middle;\n",
       "    }\n",
       "\n",
       "    .dataframe tbody tr th {\n",
       "        vertical-align: top;\n",
       "    }\n",
       "\n",
       "    .dataframe thead th {\n",
       "        text-align: right;\n",
       "    }\n",
       "</style>\n",
       "<table border=\"1\" class=\"dataframe\">\n",
       "  <thead>\n",
       "    <tr style=\"text-align: right;\">\n",
       "      <th></th>\n",
       "      <th>title</th>\n",
       "      <th>year</th>\n",
       "      <th>genre</th>\n",
       "      <th>movie_description</th>\n",
       "      <th>critical_consensus</th>\n",
       "      <th>review</th>\n",
       "      <th>sentiment</th>\n",
       "      <th>sentiment_all</th>\n",
       "      <th>sentiment_pos</th>\n",
       "      <th>sentiment_neg</th>\n",
       "      <th>sentiment_neu</th>\n",
       "      <th>sentiment_comp</th>\n",
       "      <th>sentiment_overall</th>\n",
       "      <th>review_list</th>\n",
       "      <th>reviews</th>\n",
       "    </tr>\n",
       "  </thead>\n",
       "  <tbody>\n",
       "    <tr>\n",
       "      <th>0</th>\n",
       "      <td>The Hunger Games: Catching Fire</td>\n",
       "      <td>2013</td>\n",
       "      <td>[adventure, sci-fi, action]</td>\n",
       "      <td>arriving safely home unprecedented victory th ...</td>\n",
       "      <td>smart smoothly directed enriched deeper explor...</td>\n",
       "      <td>[Catching Fire delivers on the grim, roiling p...</td>\n",
       "      <td>{'neg': 0.105, 'neu': 0.65, 'pos': 0.246, 'com...</td>\n",
       "      <td>[{'neg': 0.339, 'neu': 0.389, 'pos': 0.272, 'c...</td>\n",
       "      <td>0.246</td>\n",
       "      <td>0.105</td>\n",
       "      <td>0.650</td>\n",
       "      <td>0.9986</td>\n",
       "      <td>positive</td>\n",
       "      <td>[catching fire delivers grim roiling promises ...</td>\n",
       "      <td>catching fire delivers grim roiling promises o...</td>\n",
       "    </tr>\n",
       "    <tr>\n",
       "      <th>1</th>\n",
       "      <td>The Hunger Games: Mockingjay – Part 1</td>\n",
       "      <td>2014</td>\n",
       "      <td>[action, adventure, sci-fi]</td>\n",
       "      <td>following rescue devastating quarter quell kat...</td>\n",
       "      <td>hunger games mockingjay part sets franchise fi...</td>\n",
       "      <td>[\"Mockingjay - Part 1,\" however well done, can...</td>\n",
       "      <td>{'neg': 0.039, 'neu': 0.771, 'pos': 0.19, 'com...</td>\n",
       "      <td>[{'neg': 0.0, 'neu': 0.764, 'pos': 0.236, 'com...</td>\n",
       "      <td>0.190</td>\n",
       "      <td>0.039</td>\n",
       "      <td>0.771</td>\n",
       "      <td>0.9974</td>\n",
       "      <td>positive</td>\n",
       "      <td>[mockingjay part however well done cant compet...</td>\n",
       "      <td>mockingjay part however well done cant compete...</td>\n",
       "    </tr>\n",
       "    <tr>\n",
       "      <th>3</th>\n",
       "      <td>Forrest Gump</td>\n",
       "      <td>1994</td>\n",
       "      <td>[comedy, drama &amp; romance]</td>\n",
       "      <td>slow witted forrest gump tom hanks never thoug...</td>\n",
       "      <td>forrest gump may overly sentimental film somew...</td>\n",
       "      <td>[A dark and driven work, haunted by violence, ...</td>\n",
       "      <td>{'neg': 0.087, 'neu': 0.723, 'pos': 0.19, 'com...</td>\n",
       "      <td>[{'neg': 0.597, 'neu': 0.403, 'pos': 0.0, 'com...</td>\n",
       "      <td>0.190</td>\n",
       "      <td>0.087</td>\n",
       "      <td>0.723</td>\n",
       "      <td>0.9968</td>\n",
       "      <td>positive</td>\n",
       "      <td>[dark driven work haunted violence cruelty sen...</td>\n",
       "      <td>dark driven work haunted violence cruelty sens...</td>\n",
       "    </tr>\n",
       "  </tbody>\n",
       "</table>\n",
       "</div>"
      ],
      "text/plain": [
       "                                   title  year                        genre  \\\n",
       "0        The Hunger Games: Catching Fire  2013  [adventure, sci-fi, action]   \n",
       "1  The Hunger Games: Mockingjay – Part 1  2014  [action, adventure, sci-fi]   \n",
       "3                           Forrest Gump  1994    [comedy, drama & romance]   \n",
       "\n",
       "                                   movie_description  \\\n",
       "0  arriving safely home unprecedented victory th ...   \n",
       "1  following rescue devastating quarter quell kat...   \n",
       "3  slow witted forrest gump tom hanks never thoug...   \n",
       "\n",
       "                                  critical_consensus  \\\n",
       "0  smart smoothly directed enriched deeper explor...   \n",
       "1  hunger games mockingjay part sets franchise fi...   \n",
       "3  forrest gump may overly sentimental film somew...   \n",
       "\n",
       "                                              review  \\\n",
       "0  [Catching Fire delivers on the grim, roiling p...   \n",
       "1  [\"Mockingjay - Part 1,\" however well done, can...   \n",
       "3  [A dark and driven work, haunted by violence, ...   \n",
       "\n",
       "                                           sentiment  \\\n",
       "0  {'neg': 0.105, 'neu': 0.65, 'pos': 0.246, 'com...   \n",
       "1  {'neg': 0.039, 'neu': 0.771, 'pos': 0.19, 'com...   \n",
       "3  {'neg': 0.087, 'neu': 0.723, 'pos': 0.19, 'com...   \n",
       "\n",
       "                                       sentiment_all  sentiment_pos  \\\n",
       "0  [{'neg': 0.339, 'neu': 0.389, 'pos': 0.272, 'c...          0.246   \n",
       "1  [{'neg': 0.0, 'neu': 0.764, 'pos': 0.236, 'com...          0.190   \n",
       "3  [{'neg': 0.597, 'neu': 0.403, 'pos': 0.0, 'com...          0.190   \n",
       "\n",
       "   sentiment_neg  sentiment_neu  sentiment_comp sentiment_overall  \\\n",
       "0          0.105          0.650          0.9986          positive   \n",
       "1          0.039          0.771          0.9974          positive   \n",
       "3          0.087          0.723          0.9968          positive   \n",
       "\n",
       "                                         review_list  \\\n",
       "0  [catching fire delivers grim roiling promises ...   \n",
       "1  [mockingjay part however well done cant compet...   \n",
       "3  [dark driven work haunted violence cruelty sen...   \n",
       "\n",
       "                                             reviews  \n",
       "0  catching fire delivers grim roiling promises o...  \n",
       "1  mockingjay part however well done cant compete...  \n",
       "3  dark driven work haunted violence cruelty sens...  "
      ]
     },
     "execution_count": 11,
     "metadata": {},
     "output_type": "execute_result"
    }
   ],
   "source": [
    "# Clean text\n",
    "# 1) Remove non-letters\n",
    "# 2) Remove stop words for descriptions and reviews\n",
    "# 3) Lemmatize text for descriptions and reviews\n",
    "df_merge['movie_description'] = df_merge['movie_description'].apply(lambda x: clean_text(x, True)) \n",
    "df_merge['critical_consensus'] = df_merge['critical_consensus'].apply(lambda x: clean_text(x, True))\n",
    "df_merge['review_list'] = df_merge['review'].apply(lambda x: clean_text_list(x, True)) \n",
    "df_merge['reviews'] = df_merge['review_list'].apply(lambda x: ', '.join(x))\n",
    "\n",
    "# convert to lower case\n",
    "df_merge['genre'] = df_merge['genre'].apply(lambda x: '| '.join(x).lower().split('| '))\n",
    "#df_merge['genre'] = df_merge['genre'].apply(lambda x: x.lower().split(', '))\n",
    "\n",
    "df_merge.head(3)"
   ]
  },
  {
   "cell_type": "code",
   "execution_count": 12,
   "id": "e7aad245",
   "metadata": {},
   "outputs": [
    {
     "data": {
      "image/png": "[encoded data removed]",
      "text/plain": [
       "<Figure size 288x576 with 1 Axes>"
      ]
     },
     "metadata": {
      "needs_background": "light"
     },
     "output_type": "display_data"
    }
   ],
   "source": [
    "freq_words_chart(df_merge['movie_description'], 50, 'Description', 4)"
   ]
  },
  {
   "cell_type": "code",
   "execution_count": 13,
   "id": "d8d837e5",
   "metadata": {},
   "outputs": [
    {
     "data": {
      "image/png": "[encoded data removed]",
      "text/plain": [
       "<Figure size 288x576 with 1 Axes>"
      ]
     },
     "metadata": {
      "needs_background": "light"
     },
     "output_type": "display_data"
    }
   ],
   "source": [
    "freq_words_chart(df_merge['reviews'], 50, 'Reviews', 4)"
   ]
  },
  {
   "cell_type": "code",
   "execution_count": 14,
   "id": "d9fb932b",
   "metadata": {},
   "outputs": [
    {
     "data": {
      "image/png": "[encoded data removed]",
      "text/plain": [
       "<Figure size 288x576 with 1 Axes>"
      ]
     },
     "metadata": {
      "needs_background": "light"
     },
     "output_type": "display_data"
    }
   ],
   "source": [
    "freq_words_chart(df_merge['critical_consensus'], 50, 'critical_consensus', 4)"
   ]
  },
  {
   "cell_type": "code",
   "execution_count": 15,
   "id": "9572d258",
   "metadata": {},
   "outputs": [
    {
     "data": {
      "text/plain": [
       "Text(0.5, 1.0, 'Description word count distribution')"
      ]
     },
     "execution_count": 15,
     "metadata": {},
     "output_type": "execute_result"
    },
    {
     "data": {
      "image/png": "[encoded data removed]",
      "text/plain": [
       "<Figure size 432x288 with 1 Axes>"
      ]
     },
     "metadata": {
      "needs_background": "light"
     },
     "output_type": "display_data"
    }
   ],
   "source": [
    "des_len = df_merge['movie_description'].apply(lambda x: len(x))\n",
    "sns.histplot(des_len)\n",
    "plt.title('Description word count distribution')"
   ]
  },
  {
   "cell_type": "code",
   "execution_count": 16,
   "id": "f950fdf9",
   "metadata": {},
   "outputs": [
    {
     "data": {
      "text/plain": [
       "Text(0.5, 1.0, 'Review word count distribution')"
      ]
     },
     "execution_count": 16,
     "metadata": {},
     "output_type": "execute_result"
    },
    {
     "data": {
      "image/png": "[encoded data removed]",
      "text/plain": [
       "<Figure size 432x288 with 1 Axes>"
      ]
     },
     "metadata": {
      "needs_background": "light"
     },
     "output_type": "display_data"
    }
   ],
   "source": [
    "rev_len = df_merge['reviews'].apply(lambda x: len(x))\n",
    "sns.histplot(rev_len)\n",
    "plt.title('Review word count distribution')"
   ]
  },
  {
   "cell_type": "code",
   "execution_count": 17,
   "id": "958146ed",
   "metadata": {},
   "outputs": [
    {
     "data": {
      "text/plain": [
       "Text(0.5, 1.0, 'Review word count critical_consensus')"
      ]
     },
     "execution_count": 17,
     "metadata": {},
     "output_type": "execute_result"
    },
    {
     "data": {
      "image/png": "[encoded data removed]",
      "text/plain": [
       "<Figure size 432x288 with 1 Axes>"
      ]
     },
     "metadata": {
      "needs_background": "light"
     },
     "output_type": "display_data"
    }
   ],
   "source": [
    "rev_len = df_merge['critical_consensus'].apply(lambda x: len(x))\n",
    "sns.histplot(rev_len)\n",
    "plt.title('Review word count critical_consensus')"
   ]
  },
  {
   "cell_type": "markdown",
   "id": "081e5f56",
   "metadata": {},
   "source": [
    "#### Final Dataframe\n",
    "Remove columns:\n",
    "* **review:** original review data\n",
    "* **worldwide_gross**: not important for this model\n",
    "* **review_list:** list of cleaned review data\n",
    "* **sentiment_overall, sentiment_all, sentiment_pos, sentiment_neg, sentiment_neu, sentiment_comp:** we only need sentiment "
   ]
  },
  {
   "cell_type": "code",
   "execution_count": 18,
   "id": "1027b0b5",
   "metadata": {},
   "outputs": [
    {
     "data": {
      "text/html": [
       "<div>\n",
       "<style scoped>\n",
       "    .dataframe tbody tr th:only-of-type {\n",
       "        vertical-align: middle;\n",
       "    }\n",
       "\n",
       "    .dataframe tbody tr th {\n",
       "        vertical-align: top;\n",
       "    }\n",
       "\n",
       "    .dataframe thead th {\n",
       "        text-align: right;\n",
       "    }\n",
       "</style>\n",
       "<table border=\"1\" class=\"dataframe\">\n",
       "  <thead>\n",
       "    <tr style=\"text-align: right;\">\n",
       "      <th></th>\n",
       "      <th>title</th>\n",
       "      <th>genre</th>\n",
       "      <th>sentiment</th>\n",
       "      <th>text</th>\n",
       "    </tr>\n",
       "  </thead>\n",
       "  <tbody>\n",
       "    <tr>\n",
       "      <th>0</th>\n",
       "      <td>The Hunger Games: Catching Fire (2013)</td>\n",
       "      <td>[adventure, sci-fi, action]</td>\n",
       "      <td>1</td>\n",
       "      <td>arriving safely home unprecedented victory th ...</td>\n",
       "    </tr>\n",
       "    <tr>\n",
       "      <th>1</th>\n",
       "      <td>The Hunger Games: Mockingjay – Part 1 (2014)</td>\n",
       "      <td>[action, adventure, sci-fi]</td>\n",
       "      <td>1</td>\n",
       "      <td>following rescue devastating quarter quell kat...</td>\n",
       "    </tr>\n",
       "    <tr>\n",
       "      <th>3</th>\n",
       "      <td>Forrest Gump (1994)</td>\n",
       "      <td>[comedy, drama &amp; romance]</td>\n",
       "      <td>1</td>\n",
       "      <td>slow witted forrest gump tom hanks never thoug...</td>\n",
       "    </tr>\n",
       "  </tbody>\n",
       "</table>\n",
       "</div>"
      ],
      "text/plain": [
       "                                          title                        genre  \\\n",
       "0        The Hunger Games: Catching Fire (2013)  [adventure, sci-fi, action]   \n",
       "1  The Hunger Games: Mockingjay – Part 1 (2014)  [action, adventure, sci-fi]   \n",
       "3                           Forrest Gump (1994)    [comedy, drama & romance]   \n",
       "\n",
       "   sentiment                                               text  \n",
       "0          1  arriving safely home unprecedented victory th ...  \n",
       "1          1  following rescue devastating quarter quell kat...  \n",
       "3          1  slow witted forrest gump tom hanks never thoug...  "
      ]
     },
     "execution_count": 18,
     "metadata": {},
     "output_type": "execute_result"
    }
   ],
   "source": [
    "df_model = df_merge.copy()\n",
    "\n",
    "# Binary label for overall sentiment\n",
    "df_model['sentiment']=df_model['sentiment_overall'].apply(lambda x: 1 if x=='positive' else 0)\n",
    "\n",
    "# Merge title and year columns\n",
    "df_model['title'] = df_model.apply(lambda x: x.title + ' (' + str(x.year) + ')', axis = 1)\n",
    "\n",
    "# Merge X variables\n",
    "df_model['text'] = (df_model[\"movie_description\"].astype(str)\n",
    "                    .str.cat(df_model[\"critical_consensus\"], sep =\" \")\n",
    "                    .str.cat(df_model[\"reviews\"], sep =\" \")\n",
    "                    ).str.strip()\n",
    "\n",
    "# Final DataFrame\n",
    "cols = ['title', 'genre', 'sentiment', 'text']\n",
    "df_model = df_model.loc[:, cols]\n",
    "\n",
    "df_model.head(3)"
   ]
  },
  {
   "cell_type": "code",
   "execution_count": 19,
   "id": "ff24c906",
   "metadata": {},
   "outputs": [
    {
     "name": "stdout",
     "output_type": "stream",
     "text": [
      "Number of films to model:  269\n"
     ]
    }
   ],
   "source": [
    "print('Number of films to model: ',len(df_model))"
   ]
  },
  {
   "cell_type": "markdown",
   "id": "20575f1e",
   "metadata": {},
   "source": [
    "### Data Wrangling for Model"
   ]
  },
  {
   "cell_type": "code",
   "execution_count": 42,
   "id": "48297fcc",
   "metadata": {},
   "outputs": [],
   "source": [
    "# Multilabel Binarizer - applied on y (target) variable\n",
    "from sklearn.preprocessing import OneHotEncoder\n",
    "multilabel_binarizer = MultiLabelBinarizer()\n",
    "multilabel_binarizer.fit(df_model['genre'])\n",
    "\n",
    "# transform target variable\n",
    "y = multilabel_binarizer.transform(df_model['genre'])\n",
    "\n",
    "# Transform text to non-numeric form using a TFIDF vectorizer\n",
    "tfidf_vectorizer = TfidfVectorizer(max_features = 1500)\n",
    "\n",
    "# Split into training and test data sets\n",
    "X = df_model ['text']\n",
    "X_train, X_test, y_train, y_test = train_test_split(X\n",
    "                                                    , y\n",
    "                                                    , test_size = 0.2\n",
    "                                                    , random_state = 0)\n",
    "\n",
    "# Store an unaltered copy of the test data for recommender system demonstration\n",
    "X_test_copy = X_test.copy()\n",
    "\n",
    "# Create TF-IDF features\n",
    "X_train = tfidf_vectorizer.fit_transform(X_train)\n",
    "X_test = tfidf_vectorizer.transform(X_test)\n",
    "\n",
    "# Normalise X data sets\n",
    "norm = Normalizer()\n",
    "X_train = norm.fit_transform(X_train)\n",
    "X_test  = norm.transform(X_test)"
   ]
  },
  {
   "cell_type": "markdown",
   "id": "b1c532cb",
   "metadata": {},
   "source": [
    "### XGBoost"
   ]
  },
  {
   "cell_type": "code",
   "execution_count": 21,
   "id": "9ce7cfb5",
   "metadata": {},
   "outputs": [
    {
     "data": {
      "text/plain": [
       "{'estimator__max_depth': [1, 3, 5, 7, 9],\n",
       " 'estimator__learning_rate': [0.0001, 0.001, 0.01, 0.1, 0.2, 0.3],\n",
       " 'estimator__n_estimators': [100, 200, 400, 600, 800, 1000],\n",
       " 'estimator__colsample_bytree': [0.3, 0.5, 0.7],\n",
       " 'estimator__gamma': [0, 1, 5],\n",
       " 'estimator__subsample': [0.5, 0.7, 1]}"
      ]
     },
     "execution_count": 21,
     "metadata": {},
     "output_type": "execute_result"
    }
   ],
   "source": [
    "# Create the random grid\n",
    "xg_params = {\n",
    "    \"estimator__max_depth\": [1, 3, 5, 7, 9],\n",
    "    \"estimator__learning_rate\": [0.0001, 0.001, 0.01, 0.1, 0.2, 0.3],\n",
    "    \"estimator__n_estimators\":  [100, 200, 400, 600, 800, 1000],\n",
    "    \"estimator__colsample_bytree\": [0.3, 0.5, 0.7],\n",
    "    \"estimator__gamma\": [0, 1, 5],\n",
    "    \"estimator__subsample\": [0.5 ,0.7 ,1]\n",
    "}\n",
    "\n",
    "xg_params"
   ]
  },
  {
   "cell_type": "code",
   "execution_count": 22,
   "id": "08162a04",
   "metadata": {},
   "outputs": [
    {
     "name": "stdout",
     "output_type": "stream",
     "text": [
      "Wall time: 18min 12s\n"
     ]
    },
    {
     "data": {
      "text/plain": [
       "RandomizedSearchCV(cv=ShuffleSplit(n_splits=10, random_state=0, test_size=0.2, train_size=None),\n",
       "                   estimator=OneVsRestClassifier(estimator=XGBClassifier(base_score=None,\n",
       "                                                                         booster=None,\n",
       "                                                                         colsample_bylevel=None,\n",
       "                                                                         colsample_bynode=None,\n",
       "                                                                         colsample_bytree=None,\n",
       "                                                                         enable_categorical=False,\n",
       "                                                                         gamma=None,\n",
       "                                                                         gpu_id=None,\n",
       "                                                                         importance_type=None,\n",
       "                                                                         interaction_constraints=None,\n",
       "                                                                         learning_...\n",
       "                   n_iter=50, n_jobs=-1,\n",
       "                   param_distributions={'estimator__colsample_bytree': [0.3,\n",
       "                                                                        0.5,\n",
       "                                                                        0.7],\n",
       "                                        'estimator__gamma': [0, 1, 5],\n",
       "                                        'estimator__learning_rate': [0.0001,\n",
       "                                                                     0.001,\n",
       "                                                                     0.01, 0.1,\n",
       "                                                                     0.2, 0.3],\n",
       "                                        'estimator__max_depth': [1, 3, 5, 7, 9],\n",
       "                                        'estimator__n_estimators': [100, 200,\n",
       "                                                                    400, 600,\n",
       "                                                                    800, 1000],\n",
       "                                        'estimator__subsample': [0.5, 0.7, 1]},\n",
       "                   random_state=1, return_train_score=True, scoring='f1_micro')"
      ]
     },
     "execution_count": 22,
     "metadata": {},
     "output_type": "execute_result"
    }
   ],
   "source": [
    "%%time\n",
    "xgc = OneVsRestClassifier(XGBClassifier(random_state = 1, verbosity  = 0, use_label_encoder=False, n_jobs = -1))\n",
    "\n",
    "# search across 50 different combinations, and use all available cores\n",
    "# Fit the random search model\n",
    "clf_xgc_random = RandomizedSearchCV(estimator = xgc\n",
    "                               , param_distributions = xg_params\n",
    "                               , n_iter = 50\n",
    "                               , cv = ShuffleSplit(n_splits=10, test_size=0.2, random_state=0)\n",
    "                               , verbose=0\n",
    "                               , random_state=1\n",
    "                               , n_jobs = -1\n",
    "                               , scoring = 'f1_micro'\n",
    "                               , return_train_score = True)\n",
    "\n",
    "clf_xgc_random.fit(X_train, y_train)"
   ]
  },
  {
   "cell_type": "code",
   "execution_count": 23,
   "id": "7d46b3e7",
   "metadata": {},
   "outputs": [
    {
     "data": {
      "text/plain": [
       "{'estimator__subsample': 1,\n",
       " 'estimator__n_estimators': 400,\n",
       " 'estimator__max_depth': 3,\n",
       " 'estimator__learning_rate': 0.2,\n",
       " 'estimator__gamma': 1,\n",
       " 'estimator__colsample_bytree': 0.7}"
      ]
     },
     "execution_count": 23,
     "metadata": {},
     "output_type": "execute_result"
    }
   ],
   "source": [
    "# Best hyperparameter values\n",
    "best_params = clf_xgc_random.best_params_\n",
    "clf_xgc_random.best_params_"
   ]
  },
  {
   "cell_type": "code",
   "execution_count": 24,
   "id": "d3a7499f",
   "metadata": {},
   "outputs": [
    {
     "name": "stdout",
     "output_type": "stream",
     "text": [
      "Wall time: 4.4 s\n"
     ]
    },
    {
     "data": {
      "text/plain": [
       "OneVsRestClassifier(estimator=XGBClassifier(base_score=None, booster=None,\n",
       "                                            colsample_bylevel=None,\n",
       "                                            colsample_bynode=None,\n",
       "                                            colsample_bytree=None,\n",
       "                                            enable_categorical=False, gamma=1,\n",
       "                                            gpu_id=None, importance_type=None,\n",
       "                                            interaction_constraints=None,\n",
       "                                            learning_rate=0.2,\n",
       "                                            max_delta_step=None, max_depth=3,\n",
       "                                            min_child_weight=None, missing=nan,\n",
       "                                            monotone_constraints=None,\n",
       "                                            n_estimators=400, n_jobs=-1,\n",
       "                                            num_parallel_tree=None,\n",
       "                                            predictor=None, random_state=1,\n",
       "                                            reg_alpha=None, reg_lambda=None,\n",
       "                                            scale_pos_weight=None, subsample=1,\n",
       "                                            tree_method=None,\n",
       "                                            use_label_encoder=False,\n",
       "                                            validate_parameters=None,\n",
       "                                            verbosity=0))"
      ]
     },
     "execution_count": 24,
     "metadata": {},
     "output_type": "execute_result"
    }
   ],
   "source": [
    "%%time\n",
    "# Fit final model with best parameter estimates\n",
    "xg_final = OneVsRestClassifier(XGBClassifier( max_depth = best_params['estimator__max_depth']\n",
    "                       , learning_rate = best_params['estimator__learning_rate']\n",
    "                       , n_estimators = best_params['estimator__n_estimators']\n",
    "                       , gamma = best_params['estimator__gamma']\n",
    "                       , subsample = best_params['estimator__subsample']\n",
    "                       , n_jobs = -1\n",
    "                       , random_state = 1 \n",
    "                       , use_label_encoder=False\n",
    "                       , verbosity  = 0))\n",
    "\n",
    "xg_final.fit(X_train, y_train )"
   ]
  },
  {
   "cell_type": "code",
   "execution_count": 25,
   "id": "55399fcb",
   "metadata": {},
   "outputs": [
    {
     "name": "stdout",
     "output_type": "stream",
     "text": [
      "Wall time: 2min 16s\n"
     ]
    }
   ],
   "source": [
    "%%time\n",
    "\n",
    "# Cross validated metrics\n",
    "def cv_score (score, cv):\n",
    "    return cross_val_score(xg_final\n",
    "                        , X_train\n",
    "                        , y_train\n",
    "                        , cv = cv\n",
    "                        , scoring = score\n",
    "                        , verbose = 0\n",
    "                        , n_jobs = -1)\n",
    "\n",
    "scores_lst = []\n",
    "for i in [\"accuracy\",\"f1_micro\", \"recall_micro\", \"precision_micro\", \"roc_auc\"]:\n",
    "    scores_lst.append(cv_score(i, 10))"
   ]
  },
  {
   "cell_type": "code",
   "execution_count": 26,
   "id": "0e6f9271",
   "metadata": {},
   "outputs": [],
   "source": [
    "# Cross validated results\n",
    "cv_scores_xg = pd.DataFrame(scores_lst).transpose()\n",
    "cv_scores_xg.columns = [\"accuracy\",\"f1_score\", \"recall_score\", \"precision_score\", \"roc_auc\"]\n",
    "cv_scores_xg = pd.DataFrame(cv_scores_xg.mean()).transpose()"
   ]
  },
  {
   "cell_type": "code",
   "execution_count": 27,
   "id": "9f365c13",
   "metadata": {},
   "outputs": [],
   "source": [
    "# Performance on training data\n",
    "y_pred_xg = xg_final.predict(X_train)\n",
    "train_scores_xg = pd.DataFrame.from_dict({'accuracy' : accuracy_score(y_train, y_pred_xg)\n",
    "                                 , 'f1_score': f1_score(y_train, y_pred_xg, average=\"micro\")\n",
    "                                 , 'recall_score': recall_score(y_train, y_pred_xg, average=\"micro\")\n",
    "                                 , 'precision_score': precision_score(y_train, y_pred_xg, average=\"micro\")\n",
    "                                 , 'roc_auc': roc_auc_score(y_train, y_pred_xg, average=\"micro\")\n",
    "                                }, orient = 'index').transpose()"
   ]
  },
  {
   "cell_type": "code",
   "execution_count": 46,
   "id": "b0431300",
   "metadata": {},
   "outputs": [],
   "source": [
    "# Performance on Test data\n",
    "y_pred_xg_fin = xg_final.predict(X_test)\n",
    "test_scores_xg = pd.DataFrame.from_dict({'accuracy' : accuracy_score(y_test, y_pred_xg_fin)\n",
    "                                 , 'f1_score': f1_score(y_test, y_pred_xg_fin, average=\"micro\")\n",
    "                                 , 'recall_score': recall_score(y_test, y_pred_xg_fin, average=\"micro\")\n",
    "                                 , 'precision_score': precision_score(y_test, y_pred_xg_fin, average=\"micro\")\n",
    "                                 , 'roc_auc': roc_auc_score(y_test, y_pred_xg_fin, average=\"micro\")\n",
    "                                }, orient = 'index').transpose()"
   ]
  },
  {
   "cell_type": "code",
   "execution_count": 47,
   "id": "6facf6e8",
   "metadata": {},
   "outputs": [
    {
     "data": {
      "text/html": [
       "<div>\n",
       "<style scoped>\n",
       "    .dataframe tbody tr th:only-of-type {\n",
       "        vertical-align: middle;\n",
       "    }\n",
       "\n",
       "    .dataframe tbody tr th {\n",
       "        vertical-align: top;\n",
       "    }\n",
       "\n",
       "    .dataframe thead th {\n",
       "        text-align: right;\n",
       "    }\n",
       "</style>\n",
       "<table border=\"1\" class=\"dataframe\">\n",
       "  <thead>\n",
       "    <tr style=\"text-align: right;\">\n",
       "      <th></th>\n",
       "      <th>accuracy</th>\n",
       "      <th>f1_score</th>\n",
       "      <th>recall_score</th>\n",
       "      <th>precision_score</th>\n",
       "      <th>roc_auc</th>\n",
       "    </tr>\n",
       "    <tr>\n",
       "      <th>Scores</th>\n",
       "      <th></th>\n",
       "      <th></th>\n",
       "      <th></th>\n",
       "      <th></th>\n",
       "      <th></th>\n",
       "    </tr>\n",
       "  </thead>\n",
       "  <tbody>\n",
       "    <tr>\n",
       "      <th>Training</th>\n",
       "      <td>0.995349</td>\n",
       "      <td>0.999092</td>\n",
       "      <td>0.998185</td>\n",
       "      <td>1.000000</td>\n",
       "      <td>0.999093</td>\n",
       "    </tr>\n",
       "    <tr>\n",
       "      <th>CV</th>\n",
       "      <td>0.187662</td>\n",
       "      <td>0.682374</td>\n",
       "      <td>0.611590</td>\n",
       "      <td>0.782157</td>\n",
       "      <td>0.837679</td>\n",
       "    </tr>\n",
       "    <tr>\n",
       "      <th>Test</th>\n",
       "      <td>0.203704</td>\n",
       "      <td>0.714829</td>\n",
       "      <td>0.661972</td>\n",
       "      <td>0.776860</td>\n",
       "      <td>0.784434</td>\n",
       "    </tr>\n",
       "  </tbody>\n",
       "</table>\n",
       "</div>"
      ],
      "text/plain": [
       "          accuracy  f1_score  recall_score  precision_score   roc_auc\n",
       "Scores                                                               \n",
       "Training  0.995349  0.999092      0.998185         1.000000  0.999093\n",
       "CV        0.187662  0.682374      0.611590         0.782157  0.837679\n",
       "Test      0.203704  0.714829      0.661972         0.776860  0.784434"
      ]
     },
     "execution_count": 47,
     "metadata": {},
     "output_type": "execute_result"
    }
   ],
   "source": [
    "# Dataframe of metric scores\n",
    "scores_xg = pd.concat([train_scores_xg, cv_scores_xg, test_scores_xg])\n",
    "scores_xg['Scores'] = ['Training', 'CV', 'Test']\n",
    "scores_xg.set_index(['Scores'])"
   ]
  },
  {
   "cell_type": "markdown",
   "id": "5d16b307",
   "metadata": {},
   "source": [
    "### Example use of the recommender system"
   ]
  },
  {
   "cell_type": "code",
   "execution_count": 48,
   "id": "63c38130",
   "metadata": {},
   "outputs": [
    {
     "name": "stdout",
     "output_type": "stream",
     "text": [
      "Film:  The Santa Clause 3: The Escape Clause (2006)\n",
      "Sentiment of reviews:  positive\n",
      "Genre(s):  ('comedy', 'kids, family & animation')\n",
      "Prediction:  ('comedy', 'kids, family & animation')\n",
      "------\n",
      "Film:  Transformers: Age of Extinction (2014)\n",
      "Sentiment of reviews:  positive\n",
      "Genre(s):  ('action', 'adventure', 'sci-fi')\n",
      "Prediction:  ('action', 'adventure', 'fantasy')\n",
      "------\n",
      "Film:  The Lord of the Rings: The Fellowship of the Ring (2001)\n",
      "Sentiment of reviews:  positive\n",
      "Genre(s):  ('adventure', 'fantasy')\n",
      "Prediction:  ('action', 'adventure')\n",
      "------\n",
      "Film:  Signs (2002)\n",
      "Sentiment of reviews:  negative\n",
      "Genre(s):  ('mystery, thriller & horror', 'sci-fi')\n",
      "Prediction:  ('drama & romance', 'fantasy', 'mystery, thriller & horror')\n",
      "------\n",
      "Film:  Jerry Maguire (1996)\n",
      "Sentiment of reviews:  positive\n",
      "Genre(s):  ('comedy', 'drama & romance')\n",
      "Prediction:  ('comedy',)\n",
      "------\n"
     ]
    }
   ],
   "source": [
    "# Selection of filmes by genre\n",
    "lst = [1,25,31,39,45] \n",
    "\n",
    "# Lookup reference\n",
    "x_text_ref = pd.DataFrame(X_test_copy).reset_index()\n",
    "\n",
    "# Print out predicted genres against real genres\n",
    "for i in lst:\n",
    "    idx = x_text_ref.loc[x_text_ref.index == i, 'index'].values[0]\n",
    "    \n",
    "    print ('Film: ', df_model.loc[idx,'title'] )\n",
    "    print ('Sentiment of reviews: ', np.where(df_model.loc[idx,'sentiment'] == 1, 'positive', 'negative'))\n",
    "    print ('Genre(s): ', multilabel_binarizer.inverse_transform(y_test)[i])\n",
    "    print ('Prediction: ', multilabel_binarizer.inverse_transform(y_pred_xg_fin)[i])\n",
    "    print ('------')"
   ]
  }
 ],
 "metadata": {
  "kernelspec": {
   "display_name": "Python 3 (ipykernel)",
   "language": "python",
   "name": "python3"
  },
  "language_info": {
   "codemirror_mode": {
    "name": "ipython",
    "version": 3
   },
   "file_extension": ".py",
   "mimetype": "text/x-python",
   "name": "python",
   "nbconvert_exporter": "python",
   "pygments_lexer": "ipython3",
   "version": "3.9.7"
  }
 },
 "nbformat": 4,
 "nbformat_minor": 5
}
