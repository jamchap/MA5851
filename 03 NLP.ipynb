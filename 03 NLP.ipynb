{
 "cells": [
  {
   "cell_type": "code",
   "execution_count": 42,
   "id": "e0327028",
   "metadata": {},
   "outputs": [],
   "source": [
    "\n",
    "# Custom functions\n",
    "from my_functions import *\n",
    "\n",
    "from matplotlib import pyplot\n",
    "import pickle\n",
    "\n",
    "# ML packages\n",
    "from sklearn.multiclass import OneVsRestClassifier\n",
    "from sklearn.feature_extraction.text import TfidfVectorizer\n",
    "from sklearn.preprocessing import Normalizer, MultiLabelBinarizer, LabelEncoder\n",
    "from sklearn.model_selection import train_test_split, cross_val_score, RandomizedSearchCV, cross_validate, StratifiedKFold\n",
    "from sklearn.metrics import confusion_matrix, accuracy_score, f1_score, precision_score, recall_score,precision_recall_curve, auc, roc_auc_score, cohen_kappa_score\n",
    "\n",
    "#from scipy.sparse import hstack\n",
    "from xgboost import XGBClassifier\n",
    "\n",
    "# Used for SMOTE:\n",
    "from collections import Counter\n",
    "from imblearn.over_sampling import SMOTE\n",
    "from imblearn.under_sampling import RandomUnderSampler\n",
    "from imblearn.pipeline import Pipeline\n"
   ]
  },
  {
   "cell_type": "markdown",
   "id": "389641e6",
   "metadata": {},
   "source": [
    "#### Import data"
   ]
  },
  {
   "cell_type": "code",
   "execution_count": 43,
   "id": "247da432",
   "metadata": {},
   "outputs": [
    {
     "name": "stdout",
     "output_type": "stream",
     "text": [
      "251\n"
     ]
    }
   ],
   "source": [
    "# import Pickled data\n",
    "infile = open('bk_data_merged','rb')\n",
    "df_merge = pickle.load(infile)\n",
    "infile.close()\n",
    "print(len(df_merge))"
   ]
  },
  {
   "cell_type": "markdown",
   "id": "ec8623ae",
   "metadata": {},
   "source": [
    "## 1) Sentiment Analysis\n",
    "#### Labelling the reviews \n",
    "We will use the original (un-untransformed) reviews attribute for the sentiment analysis"
   ]
  },
  {
   "cell_type": "code",
   "execution_count": 44,
   "id": "185da18c",
   "metadata": {},
   "outputs": [
    {
     "data": {
      "text/html": [
       "<div>\n",
       "<style scoped>\n",
       "    .dataframe tbody tr th:only-of-type {\n",
       "        vertical-align: middle;\n",
       "    }\n",
       "\n",
       "    .dataframe tbody tr th {\n",
       "        vertical-align: top;\n",
       "    }\n",
       "\n",
       "    .dataframe thead th {\n",
       "        text-align: right;\n",
       "    }\n",
       "</style>\n",
       "<table border=\"1\" class=\"dataframe\">\n",
       "  <thead>\n",
       "    <tr style=\"text-align: right;\">\n",
       "      <th></th>\n",
       "      <th>title</th>\n",
       "      <th>year</th>\n",
       "      <th>genre</th>\n",
       "      <th>movie_description</th>\n",
       "      <th>critical_consensus</th>\n",
       "      <th>review</th>\n",
       "      <th>sentiment</th>\n",
       "      <th>sentiment_all</th>\n",
       "      <th>sentiment_pos</th>\n",
       "      <th>sentiment_neg</th>\n",
       "      <th>sentiment_neu</th>\n",
       "      <th>sentiment_comp</th>\n",
       "      <th>sentiment_overall</th>\n",
       "    </tr>\n",
       "  </thead>\n",
       "  <tbody>\n",
       "    <tr>\n",
       "      <th>0</th>\n",
       "      <td>The Hunger Games: Catching Fire</td>\n",
       "      <td>2013</td>\n",
       "      <td>[Adventure, Sci-Fi, Action]</td>\n",
       "      <td>After arriving safely home from their unpreced...</td>\n",
       "      <td>Smart, smoothly directed, and enriched with a ...</td>\n",
       "      <td>[Catching Fire delivers on the grim, roiling p...</td>\n",
       "      <td>{'neg': 0.105, 'neu': 0.65, 'pos': 0.246, 'com...</td>\n",
       "      <td>[{'neg': 0.339, 'neu': 0.389, 'pos': 0.272, 'c...</td>\n",
       "      <td>0.246</td>\n",
       "      <td>0.105</td>\n",
       "      <td>0.650</td>\n",
       "      <td>0.9986</td>\n",
       "      <td>positive</td>\n",
       "    </tr>\n",
       "    <tr>\n",
       "      <th>1</th>\n",
       "      <td>The Hunger Games: Mockingjay – Part 1</td>\n",
       "      <td>2014</td>\n",
       "      <td>[Action, Adventure, Sci-Fi]</td>\n",
       "      <td>Following her rescue from the devastating Quar...</td>\n",
       "      <td>The Hunger Games: Mockingjay - Part 1 sets up ...</td>\n",
       "      <td>[\"Mockingjay - Part 1,\" however well done, can...</td>\n",
       "      <td>{'neg': 0.039, 'neu': 0.771, 'pos': 0.19, 'com...</td>\n",
       "      <td>[{'neg': 0.0, 'neu': 0.764, 'pos': 0.236, 'com...</td>\n",
       "      <td>0.190</td>\n",
       "      <td>0.039</td>\n",
       "      <td>0.771</td>\n",
       "      <td>0.9974</td>\n",
       "      <td>positive</td>\n",
       "    </tr>\n",
       "  </tbody>\n",
       "</table>\n",
       "</div>"
      ],
      "text/plain": [
       "                                   title  year                        genre  \\\n",
       "0        The Hunger Games: Catching Fire  2013  [Adventure, Sci-Fi, Action]   \n",
       "1  The Hunger Games: Mockingjay – Part 1  2014  [Action, Adventure, Sci-Fi]   \n",
       "\n",
       "                                   movie_description  \\\n",
       "0  After arriving safely home from their unpreced...   \n",
       "1  Following her rescue from the devastating Quar...   \n",
       "\n",
       "                                  critical_consensus  \\\n",
       "0  Smart, smoothly directed, and enriched with a ...   \n",
       "1  The Hunger Games: Mockingjay - Part 1 sets up ...   \n",
       "\n",
       "                                              review  \\\n",
       "0  [Catching Fire delivers on the grim, roiling p...   \n",
       "1  [\"Mockingjay - Part 1,\" however well done, can...   \n",
       "\n",
       "                                           sentiment  \\\n",
       "0  {'neg': 0.105, 'neu': 0.65, 'pos': 0.246, 'com...   \n",
       "1  {'neg': 0.039, 'neu': 0.771, 'pos': 0.19, 'com...   \n",
       "\n",
       "                                       sentiment_all  sentiment_pos  \\\n",
       "0  [{'neg': 0.339, 'neu': 0.389, 'pos': 0.272, 'c...          0.246   \n",
       "1  [{'neg': 0.0, 'neu': 0.764, 'pos': 0.236, 'com...          0.190   \n",
       "\n",
       "   sentiment_neg  sentiment_neu  sentiment_comp sentiment_overall  \n",
       "0          0.105          0.650          0.9986          positive  \n",
       "1          0.039          0.771          0.9974          positive  "
      ]
     },
     "execution_count": 44,
     "metadata": {},
     "output_type": "execute_result"
    }
   ],
   "source": [
    "# Determine Sentiment of Reviews; see (Hutto, n.d.)\n",
    "df_merge['sentiment'] = df_merge['review'].apply(lambda x: sid_analyser(x, True))\n",
    "df_merge['sentiment_all'] = df_merge['review'].apply(lambda x: sid_analyser(x, False))\n",
    "\n",
    "# Split overall scores into seperate columns for plotting\n",
    "df_merge['sentiment_pos'] = df_merge['sentiment'].apply(lambda x: x['pos'])\n",
    "df_merge['sentiment_neg'] = df_merge['sentiment'].apply(lambda x: x['neg'])\n",
    "df_merge['sentiment_neu'] = df_merge['sentiment'].apply(lambda x: x['neu'])\n",
    "df_merge['sentiment_comp'] = df_merge['sentiment'].apply(lambda x: x['compound'])\n",
    "\n",
    "# Apply overall sentiment classification label\n",
    "df_merge['sentiment_overall'] = df_merge['sentiment'].apply(lambda x: sentiment_overall(x['compound']))\n",
    "\n",
    "df_merge.head(2)"
   ]
  },
  {
   "cell_type": "code",
   "execution_count": 45,
   "id": "9c258d66",
   "metadata": {},
   "outputs": [
    {
     "data": {
      "text/plain": [
       "positive    215\n",
       "negative     35\n",
       "neutral       1\n",
       "Name: sentiment_overall, dtype: int64"
      ]
     },
     "execution_count": 45,
     "metadata": {},
     "output_type": "execute_result"
    }
   ],
   "source": [
    "# note the data are imbalanced\n",
    "df_merge['sentiment_overall'].value_counts()"
   ]
  },
  {
   "cell_type": "code",
   "execution_count": 46,
   "id": "189b5fb2",
   "metadata": {},
   "outputs": [
    {
     "data": {
      "text/plain": [
       "Text(0.5, 1.0, 'Compound Sentiment')"
      ]
     },
     "execution_count": 46,
     "metadata": {},
     "output_type": "execute_result"
    },
    {
     "data": {
      "image/png": "[encoded data removed]",
      "text/plain": [
       "<Figure size 720x504 with 4 Axes>"
      ]
     },
     "metadata": {
      "needs_background": "light"
     },
     "output_type": "display_data"
    }
   ],
   "source": [
    "fig, axs = plt.subplots(2, 2, figsize = (10,7))\n",
    "\n",
    "# Plot the distribution of sentiment\n",
    "axs[0,0].hist(df_merge['sentiment_pos'])\n",
    "axs[0,0].set_title(\"Positive Sentiment\")\n",
    "axs[0,1].hist(df_merge['sentiment_neg'])\n",
    "axs[0,1].set_title(\"Negative Sentiment\")\n",
    "axs[1,0].hist(df_merge['sentiment_neu'])\n",
    "axs[1,0].set_title(\"Neutral Sentiment\")\n",
    "axs[1,1].hist(df_merge['sentiment_comp'])\n",
    "axs[1,1].set_title(\"Compound Sentiment\")"
   ]
  },
  {
   "cell_type": "markdown",
   "id": "32bfff20",
   "metadata": {},
   "source": [
    "**What is the neutral review?**\n",
    "\n",
    "It looks like the reviews are balanced between positive and negative. As this is the only film that VADER has classified as neutral, we will remove it from the dataset."
   ]
  },
  {
   "cell_type": "code",
   "execution_count": 47,
   "id": "22607ea0",
   "metadata": {},
   "outputs": [
    {
     "name": "stdout",
     "output_type": "stream",
     "text": [
      "Film:  ['Thunderball']\n"
     ]
    }
   ],
   "source": [
    "# What is the neutral review?\n",
    "print('Film: ', df_merge[df_merge['sentiment_overall'] == 'neutral']['title'].values)"
   ]
  },
  {
   "cell_type": "code",
   "execution_count": 48,
   "id": "4c069825",
   "metadata": {},
   "outputs": [
    {
     "data": {
      "text/plain": [
       "positive    5\n",
       "negative    3\n",
       "Name: 1, dtype: int64"
      ]
     },
     "execution_count": 48,
     "metadata": {},
     "output_type": "execute_result"
    }
   ],
   "source": [
    "# How are the reviews scored individually?\n",
    "df_merge.head()\n",
    "\n",
    "sent = []\n",
    "for i in list(df_merge[df_merge['sentiment_overall'] == 'neutral']['sentiment_all'])[0]:\n",
    "    sent.append([i['compound'], sentiment_overall(np.mean(i['compound']))])\n",
    "    \n",
    "pd.DataFrame(sent)[1].value_counts()"
   ]
  },
  {
   "cell_type": "code",
   "execution_count": 49,
   "id": "3167b81a",
   "metadata": {},
   "outputs": [],
   "source": [
    "# Classify as positive\n",
    "df_merge.loc[df_merge.title == 'Thunderball', 'sentiment_overall'] = 'positive'"
   ]
  },
  {
   "cell_type": "code",
   "execution_count": 50,
   "id": "41fd4423",
   "metadata": {},
   "outputs": [
    {
     "data": {
      "text/plain": [
       "positive    216\n",
       "negative     35\n",
       "Name: sentiment_overall, dtype: int64"
      ]
     },
     "execution_count": 50,
     "metadata": {},
     "output_type": "execute_result"
    }
   ],
   "source": [
    "# note the data are imbalanced\n",
    "df_merge['sentiment_overall'].value_counts()"
   ]
  },
  {
   "cell_type": "markdown",
   "id": "8e1dbcc4",
   "metadata": {},
   "source": [
    "## 2) Construct final data model\n",
    "### Data Cleanup"
   ]
  },
  {
   "cell_type": "code",
   "execution_count": 51,
   "id": "114ff900",
   "metadata": {},
   "outputs": [
    {
     "data": {
      "text/html": [
       "<div>\n",
       "<style scoped>\n",
       "    .dataframe tbody tr th:only-of-type {\n",
       "        vertical-align: middle;\n",
       "    }\n",
       "\n",
       "    .dataframe tbody tr th {\n",
       "        vertical-align: top;\n",
       "    }\n",
       "\n",
       "    .dataframe thead th {\n",
       "        text-align: right;\n",
       "    }\n",
       "</style>\n",
       "<table border=\"1\" class=\"dataframe\">\n",
       "  <thead>\n",
       "    <tr style=\"text-align: right;\">\n",
       "      <th></th>\n",
       "      <th>title</th>\n",
       "      <th>year</th>\n",
       "      <th>genre</th>\n",
       "      <th>movie_description</th>\n",
       "      <th>critical_consensus</th>\n",
       "      <th>review</th>\n",
       "      <th>sentiment</th>\n",
       "      <th>sentiment_all</th>\n",
       "      <th>sentiment_pos</th>\n",
       "      <th>sentiment_neg</th>\n",
       "      <th>sentiment_neu</th>\n",
       "      <th>sentiment_comp</th>\n",
       "      <th>sentiment_overall</th>\n",
       "    </tr>\n",
       "  </thead>\n",
       "  <tbody>\n",
       "    <tr>\n",
       "      <th>0</th>\n",
       "      <td>The Hunger Games: Catching Fire</td>\n",
       "      <td>2013</td>\n",
       "      <td>[Adventure, Sci-Fi, Action]</td>\n",
       "      <td>After arriving safely home from their unpreced...</td>\n",
       "      <td>Smart, smoothly directed, and enriched with a ...</td>\n",
       "      <td>[Catching Fire delivers on the grim, roiling p...</td>\n",
       "      <td>{'neg': 0.105, 'neu': 0.65, 'pos': 0.246, 'com...</td>\n",
       "      <td>[{'neg': 0.339, 'neu': 0.389, 'pos': 0.272, 'c...</td>\n",
       "      <td>0.246</td>\n",
       "      <td>0.105</td>\n",
       "      <td>0.650</td>\n",
       "      <td>0.9986</td>\n",
       "      <td>positive</td>\n",
       "    </tr>\n",
       "    <tr>\n",
       "      <th>1</th>\n",
       "      <td>The Hunger Games: Mockingjay – Part 1</td>\n",
       "      <td>2014</td>\n",
       "      <td>[Action, Adventure, Sci-Fi]</td>\n",
       "      <td>Following her rescue from the devastating Quar...</td>\n",
       "      <td>The Hunger Games: Mockingjay - Part 1 sets up ...</td>\n",
       "      <td>[\"Mockingjay - Part 1,\" however well done, can...</td>\n",
       "      <td>{'neg': 0.039, 'neu': 0.771, 'pos': 0.19, 'com...</td>\n",
       "      <td>[{'neg': 0.0, 'neu': 0.764, 'pos': 0.236, 'com...</td>\n",
       "      <td>0.190</td>\n",
       "      <td>0.039</td>\n",
       "      <td>0.771</td>\n",
       "      <td>0.9974</td>\n",
       "      <td>positive</td>\n",
       "    </tr>\n",
       "  </tbody>\n",
       "</table>\n",
       "</div>"
      ],
      "text/plain": [
       "                                   title  year                        genre  \\\n",
       "0        The Hunger Games: Catching Fire  2013  [Adventure, Sci-Fi, Action]   \n",
       "1  The Hunger Games: Mockingjay – Part 1  2014  [Action, Adventure, Sci-Fi]   \n",
       "\n",
       "                                   movie_description  \\\n",
       "0  After arriving safely home from their unpreced...   \n",
       "1  Following her rescue from the devastating Quar...   \n",
       "\n",
       "                                  critical_consensus  \\\n",
       "0  Smart, smoothly directed, and enriched with a ...   \n",
       "1  The Hunger Games: Mockingjay - Part 1 sets up ...   \n",
       "\n",
       "                                              review  \\\n",
       "0  [Catching Fire delivers on the grim, roiling p...   \n",
       "1  [\"Mockingjay - Part 1,\" however well done, can...   \n",
       "\n",
       "                                           sentiment  \\\n",
       "0  {'neg': 0.105, 'neu': 0.65, 'pos': 0.246, 'com...   \n",
       "1  {'neg': 0.039, 'neu': 0.771, 'pos': 0.19, 'com...   \n",
       "\n",
       "                                       sentiment_all  sentiment_pos  \\\n",
       "0  [{'neg': 0.339, 'neu': 0.389, 'pos': 0.272, 'c...          0.246   \n",
       "1  [{'neg': 0.0, 'neu': 0.764, 'pos': 0.236, 'com...          0.190   \n",
       "\n",
       "   sentiment_neg  sentiment_neu  sentiment_comp sentiment_overall  \n",
       "0          0.105          0.650          0.9986          positive  \n",
       "1          0.039          0.771          0.9974          positive  "
      ]
     },
     "execution_count": 51,
     "metadata": {},
     "output_type": "execute_result"
    }
   ],
   "source": [
    "df_merge.head(2)"
   ]
  },
  {
   "cell_type": "code",
   "execution_count": 52,
   "id": "bbaf640a",
   "metadata": {},
   "outputs": [
    {
     "data": {
      "text/html": [
       "<div>\n",
       "<style scoped>\n",
       "    .dataframe tbody tr th:only-of-type {\n",
       "        vertical-align: middle;\n",
       "    }\n",
       "\n",
       "    .dataframe tbody tr th {\n",
       "        vertical-align: top;\n",
       "    }\n",
       "\n",
       "    .dataframe thead th {\n",
       "        text-align: right;\n",
       "    }\n",
       "</style>\n",
       "<table border=\"1\" class=\"dataframe\">\n",
       "  <thead>\n",
       "    <tr style=\"text-align: right;\">\n",
       "      <th></th>\n",
       "      <th>title</th>\n",
       "      <th>year</th>\n",
       "      <th>genre</th>\n",
       "      <th>movie_description</th>\n",
       "      <th>critical_consensus</th>\n",
       "      <th>review</th>\n",
       "      <th>sentiment</th>\n",
       "      <th>sentiment_all</th>\n",
       "      <th>sentiment_pos</th>\n",
       "      <th>sentiment_neg</th>\n",
       "      <th>sentiment_neu</th>\n",
       "      <th>sentiment_comp</th>\n",
       "      <th>sentiment_overall</th>\n",
       "      <th>review_list</th>\n",
       "      <th>reviews</th>\n",
       "    </tr>\n",
       "  </thead>\n",
       "  <tbody>\n",
       "    <tr>\n",
       "      <th>0</th>\n",
       "      <td>The Hunger Games: Catching Fire</td>\n",
       "      <td>2013</td>\n",
       "      <td>adventure, sci-fi, action</td>\n",
       "      <td>arriving safely home unprecedented victory th ...</td>\n",
       "      <td>smart smoothly directed enriched deeper explor...</td>\n",
       "      <td>[Catching Fire delivers on the grim, roiling p...</td>\n",
       "      <td>{'neg': 0.105, 'neu': 0.65, 'pos': 0.246, 'com...</td>\n",
       "      <td>[{'neg': 0.339, 'neu': 0.389, 'pos': 0.272, 'c...</td>\n",
       "      <td>0.246</td>\n",
       "      <td>0.105</td>\n",
       "      <td>0.650</td>\n",
       "      <td>0.9986</td>\n",
       "      <td>positive</td>\n",
       "      <td>[catching fire delivers grim roiling promises ...</td>\n",
       "      <td>catching fire delivers grim roiling promises o...</td>\n",
       "    </tr>\n",
       "    <tr>\n",
       "      <th>1</th>\n",
       "      <td>The Hunger Games: Mockingjay – Part 1</td>\n",
       "      <td>2014</td>\n",
       "      <td>action, adventure, sci-fi</td>\n",
       "      <td>following rescue devastating quarter quell kat...</td>\n",
       "      <td>hunger games mockingjay part sets franchise fi...</td>\n",
       "      <td>[\"Mockingjay - Part 1,\" however well done, can...</td>\n",
       "      <td>{'neg': 0.039, 'neu': 0.771, 'pos': 0.19, 'com...</td>\n",
       "      <td>[{'neg': 0.0, 'neu': 0.764, 'pos': 0.236, 'com...</td>\n",
       "      <td>0.190</td>\n",
       "      <td>0.039</td>\n",
       "      <td>0.771</td>\n",
       "      <td>0.9974</td>\n",
       "      <td>positive</td>\n",
       "      <td>[mockingjay part however well done cant compet...</td>\n",
       "      <td>mockingjay part however well done cant compete...</td>\n",
       "    </tr>\n",
       "    <tr>\n",
       "      <th>3</th>\n",
       "      <td>Forrest Gump</td>\n",
       "      <td>1994</td>\n",
       "      <td>comedy, drama &amp; romance</td>\n",
       "      <td>slow witted forrest gump tom hanks never thoug...</td>\n",
       "      <td>forrest gump may overly sentimental film somew...</td>\n",
       "      <td>[A dark and driven work, haunted by violence, ...</td>\n",
       "      <td>{'neg': 0.087, 'neu': 0.723, 'pos': 0.19, 'com...</td>\n",
       "      <td>[{'neg': 0.597, 'neu': 0.403, 'pos': 0.0, 'com...</td>\n",
       "      <td>0.190</td>\n",
       "      <td>0.087</td>\n",
       "      <td>0.723</td>\n",
       "      <td>0.9968</td>\n",
       "      <td>positive</td>\n",
       "      <td>[dark driven work haunted violence cruelty sen...</td>\n",
       "      <td>dark driven work haunted violence cruelty sens...</td>\n",
       "    </tr>\n",
       "  </tbody>\n",
       "</table>\n",
       "</div>"
      ],
      "text/plain": [
       "                                   title  year                      genre  \\\n",
       "0        The Hunger Games: Catching Fire  2013  adventure, sci-fi, action   \n",
       "1  The Hunger Games: Mockingjay – Part 1  2014  action, adventure, sci-fi   \n",
       "3                           Forrest Gump  1994    comedy, drama & romance   \n",
       "\n",
       "                                   movie_description  \\\n",
       "0  arriving safely home unprecedented victory th ...   \n",
       "1  following rescue devastating quarter quell kat...   \n",
       "3  slow witted forrest gump tom hanks never thoug...   \n",
       "\n",
       "                                  critical_consensus  \\\n",
       "0  smart smoothly directed enriched deeper explor...   \n",
       "1  hunger games mockingjay part sets franchise fi...   \n",
       "3  forrest gump may overly sentimental film somew...   \n",
       "\n",
       "                                              review  \\\n",
       "0  [Catching Fire delivers on the grim, roiling p...   \n",
       "1  [\"Mockingjay - Part 1,\" however well done, can...   \n",
       "3  [A dark and driven work, haunted by violence, ...   \n",
       "\n",
       "                                           sentiment  \\\n",
       "0  {'neg': 0.105, 'neu': 0.65, 'pos': 0.246, 'com...   \n",
       "1  {'neg': 0.039, 'neu': 0.771, 'pos': 0.19, 'com...   \n",
       "3  {'neg': 0.087, 'neu': 0.723, 'pos': 0.19, 'com...   \n",
       "\n",
       "                                       sentiment_all  sentiment_pos  \\\n",
       "0  [{'neg': 0.339, 'neu': 0.389, 'pos': 0.272, 'c...          0.246   \n",
       "1  [{'neg': 0.0, 'neu': 0.764, 'pos': 0.236, 'com...          0.190   \n",
       "3  [{'neg': 0.597, 'neu': 0.403, 'pos': 0.0, 'com...          0.190   \n",
       "\n",
       "   sentiment_neg  sentiment_neu  sentiment_comp sentiment_overall  \\\n",
       "0          0.105          0.650          0.9986          positive   \n",
       "1          0.039          0.771          0.9974          positive   \n",
       "3          0.087          0.723          0.9968          positive   \n",
       "\n",
       "                                         review_list  \\\n",
       "0  [catching fire delivers grim roiling promises ...   \n",
       "1  [mockingjay part however well done cant compet...   \n",
       "3  [dark driven work haunted violence cruelty sen...   \n",
       "\n",
       "                                             reviews  \n",
       "0  catching fire delivers grim roiling promises o...  \n",
       "1  mockingjay part however well done cant compete...  \n",
       "3  dark driven work haunted violence cruelty sens...  "
      ]
     },
     "execution_count": 52,
     "metadata": {},
     "output_type": "execute_result"
    }
   ],
   "source": [
    "# Clean text\n",
    "# 1) Remove non-letters\n",
    "# 2) Remove stop words for descriptions and reviews\n",
    "# 3) Lemmatize text for descriptions and reviews\n",
    "df_merge['movie_description'] = df_merge['movie_description'].apply(lambda x: clean_text(x, True)) \n",
    "df_merge['critical_consensus'] = df_merge['critical_consensus'].apply(lambda x: clean_text(x, True))\n",
    "df_merge['review_list'] = df_merge['review'].apply(lambda x: clean_text_list(x, True)) \n",
    "df_merge['reviews'] = df_merge['review_list'].apply(lambda x: ', '.join(x))\n",
    "\n",
    "# Change from list to string\n",
    "df_merge['genre'] = df_merge['genre'].apply(lambda x: ', '.join(x).lower())\n",
    "\n",
    "df_merge.head(3)"
   ]
  },
  {
   "cell_type": "code",
   "execution_count": 53,
   "id": "e7aad245",
   "metadata": {},
   "outputs": [
    {
     "data": {
      "image/png": "[encoded data removed]",
      "text/plain": [
       "<Figure size 288x576 with 1 Axes>"
      ]
     },
     "metadata": {
      "needs_background": "light"
     },
     "output_type": "display_data"
    }
   ],
   "source": [
    "freq_words_chart(df_merge['movie_description'], 50, 'Description', 4)"
   ]
  },
  {
   "cell_type": "code",
   "execution_count": 54,
   "id": "d8d837e5",
   "metadata": {},
   "outputs": [
    {
     "data": {
      "image/png": "[encoded data removed]",
      "text/plain": [
       "<Figure size 288x576 with 1 Axes>"
      ]
     },
     "metadata": {
      "needs_background": "light"
     },
     "output_type": "display_data"
    }
   ],
   "source": [
    "freq_words_chart(df_merge['reviews'], 50, 'Reviews', 4)"
   ]
  },
  {
   "cell_type": "code",
   "execution_count": 55,
   "id": "d9fb932b",
   "metadata": {},
   "outputs": [
    {
     "data": {
      "image/png": "[encoded data removed]",
      "text/plain": [
       "<Figure size 288x576 with 1 Axes>"
      ]
     },
     "metadata": {
      "needs_background": "light"
     },
     "output_type": "display_data"
    }
   ],
   "source": [
    "freq_words_chart(df_merge['critical_consensus'], 50, 'critical_consensus', 4)"
   ]
  },
  {
   "cell_type": "code",
   "execution_count": 56,
   "id": "9572d258",
   "metadata": {},
   "outputs": [
    {
     "data": {
      "text/plain": [
       "Text(0.5, 1.0, 'Description word count distribution')"
      ]
     },
     "execution_count": 56,
     "metadata": {},
     "output_type": "execute_result"
    },
    {
     "data": {
      "image/png": "[encoded data removed]",
      "text/plain": [
       "<Figure size 432x288 with 1 Axes>"
      ]
     },
     "metadata": {
      "needs_background": "light"
     },
     "output_type": "display_data"
    }
   ],
   "source": [
    "des_len = df_merge['movie_description'].apply(lambda x: len(x))\n",
    "sns.histplot(des_len)\n",
    "plt.title('Description word count distribution')"
   ]
  },
  {
   "cell_type": "code",
   "execution_count": 57,
   "id": "f950fdf9",
   "metadata": {},
   "outputs": [
    {
     "data": {
      "text/plain": [
       "Text(0.5, 1.0, 'Review word count distribution')"
      ]
     },
     "execution_count": 57,
     "metadata": {},
     "output_type": "execute_result"
    },
    {
     "data": {
      "image/png": "[encoded data removed]",
      "text/plain": [
       "<Figure size 432x288 with 1 Axes>"
      ]
     },
     "metadata": {
      "needs_background": "light"
     },
     "output_type": "display_data"
    }
   ],
   "source": [
    "rev_len = df_merge['reviews'].apply(lambda x: len(x))\n",
    "sns.histplot(rev_len)\n",
    "plt.title('Review word count distribution')"
   ]
  },
  {
   "cell_type": "code",
   "execution_count": 58,
   "id": "958146ed",
   "metadata": {},
   "outputs": [
    {
     "data": {
      "text/plain": [
       "Text(0.5, 1.0, 'Review word count critical_consensus')"
      ]
     },
     "execution_count": 58,
     "metadata": {},
     "output_type": "execute_result"
    },
    {
     "data": {
      "image/png": "[encoded data removed]",
      "text/plain": [
       "<Figure size 432x288 with 1 Axes>"
      ]
     },
     "metadata": {
      "needs_background": "light"
     },
     "output_type": "display_data"
    }
   ],
   "source": [
    "rev_len = df_merge['critical_consensus'].apply(lambda x: len(x))\n",
    "sns.histplot(rev_len)\n",
    "plt.title('Review word count critical_consensus')"
   ]
  },
  {
   "cell_type": "markdown",
   "id": "081e5f56",
   "metadata": {},
   "source": [
    "#### Final Dataframe\n",
    "Remove columns:\n",
    "* **review:** original review data\n",
    "* **worldwide_gross**: not important for this model\n",
    "* **review_list:** list of cleaned review data\n",
    "* **sentiment_overall, sentiment_all, sentiment_pos, sentiment_neg, sentiment_neu, sentiment_comp:** we only need sentiment "
   ]
  },
  {
   "cell_type": "code",
   "execution_count": 20,
   "id": "1027b0b5",
   "metadata": {},
   "outputs": [
    {
     "data": {
      "text/html": [
       "<div>\n",
       "<style scoped>\n",
       "    .dataframe tbody tr th:only-of-type {\n",
       "        vertical-align: middle;\n",
       "    }\n",
       "\n",
       "    .dataframe tbody tr th {\n",
       "        vertical-align: top;\n",
       "    }\n",
       "\n",
       "    .dataframe thead th {\n",
       "        text-align: right;\n",
       "    }\n",
       "</style>\n",
       "<table border=\"1\" class=\"dataframe\">\n",
       "  <thead>\n",
       "    <tr style=\"text-align: right;\">\n",
       "      <th></th>\n",
       "      <th>title</th>\n",
       "      <th>year</th>\n",
       "      <th>genre</th>\n",
       "      <th>movie_description</th>\n",
       "      <th>critical_consensus</th>\n",
       "      <th>review</th>\n",
       "      <th>sentiment</th>\n",
       "      <th>sentiment_all</th>\n",
       "      <th>sentiment_pos</th>\n",
       "      <th>sentiment_neg</th>\n",
       "      <th>sentiment_neu</th>\n",
       "      <th>sentiment_comp</th>\n",
       "      <th>sentiment_overall</th>\n",
       "      <th>review_list</th>\n",
       "      <th>reviews</th>\n",
       "      <th>text</th>\n",
       "    </tr>\n",
       "  </thead>\n",
       "  <tbody>\n",
       "    <tr>\n",
       "      <th>0</th>\n",
       "      <td>The Hunger Games: Catching Fire (2013)</td>\n",
       "      <td>2013</td>\n",
       "      <td>adventure, sci-fi, action</td>\n",
       "      <td>arriving safely home unprecedented victory th ...</td>\n",
       "      <td>smart smoothly directed enriched deeper explor...</td>\n",
       "      <td>[Catching Fire delivers on the grim, roiling p...</td>\n",
       "      <td>1</td>\n",
       "      <td>[{'neg': 0.339, 'neu': 0.389, 'pos': 0.272, 'c...</td>\n",
       "      <td>0.246</td>\n",
       "      <td>0.105</td>\n",
       "      <td>0.650</td>\n",
       "      <td>0.9986</td>\n",
       "      <td>positive</td>\n",
       "      <td>[catching fire delivers grim roiling promises ...</td>\n",
       "      <td>catching fire delivers grim roiling promises o...</td>\n",
       "      <td>1 arriving safely home unprecedented victory t...</td>\n",
       "    </tr>\n",
       "    <tr>\n",
       "      <th>1</th>\n",
       "      <td>The Hunger Games: Mockingjay – Part 1 (2014)</td>\n",
       "      <td>2014</td>\n",
       "      <td>action, adventure, sci-fi</td>\n",
       "      <td>following rescue devastating quarter quell kat...</td>\n",
       "      <td>hunger games mockingjay part sets franchise fi...</td>\n",
       "      <td>[\"Mockingjay - Part 1,\" however well done, can...</td>\n",
       "      <td>1</td>\n",
       "      <td>[{'neg': 0.0, 'neu': 0.764, 'pos': 0.236, 'com...</td>\n",
       "      <td>0.190</td>\n",
       "      <td>0.039</td>\n",
       "      <td>0.771</td>\n",
       "      <td>0.9974</td>\n",
       "      <td>positive</td>\n",
       "      <td>[mockingjay part however well done cant compet...</td>\n",
       "      <td>mockingjay part however well done cant compete...</td>\n",
       "      <td>1 following rescue devastating quarter quell k...</td>\n",
       "    </tr>\n",
       "    <tr>\n",
       "      <th>3</th>\n",
       "      <td>Forrest Gump (1994)</td>\n",
       "      <td>1994</td>\n",
       "      <td>comedy, drama &amp; romance</td>\n",
       "      <td>slow witted forrest gump tom hanks never thoug...</td>\n",
       "      <td>forrest gump may overly sentimental film somew...</td>\n",
       "      <td>[A dark and driven work, haunted by violence, ...</td>\n",
       "      <td>1</td>\n",
       "      <td>[{'neg': 0.597, 'neu': 0.403, 'pos': 0.0, 'com...</td>\n",
       "      <td>0.190</td>\n",
       "      <td>0.087</td>\n",
       "      <td>0.723</td>\n",
       "      <td>0.9968</td>\n",
       "      <td>positive</td>\n",
       "      <td>[dark driven work haunted violence cruelty sen...</td>\n",
       "      <td>dark driven work haunted violence cruelty sens...</td>\n",
       "      <td>1 slow witted forrest gump tom hanks never tho...</td>\n",
       "    </tr>\n",
       "  </tbody>\n",
       "</table>\n",
       "</div>"
      ],
      "text/plain": [
       "                                          title  year  \\\n",
       "0        The Hunger Games: Catching Fire (2013)  2013   \n",
       "1  The Hunger Games: Mockingjay – Part 1 (2014)  2014   \n",
       "3                           Forrest Gump (1994)  1994   \n",
       "\n",
       "                       genre  \\\n",
       "0  adventure, sci-fi, action   \n",
       "1  action, adventure, sci-fi   \n",
       "3    comedy, drama & romance   \n",
       "\n",
       "                                   movie_description  \\\n",
       "0  arriving safely home unprecedented victory th ...   \n",
       "1  following rescue devastating quarter quell kat...   \n",
       "3  slow witted forrest gump tom hanks never thoug...   \n",
       "\n",
       "                                  critical_consensus  \\\n",
       "0  smart smoothly directed enriched deeper explor...   \n",
       "1  hunger games mockingjay part sets franchise fi...   \n",
       "3  forrest gump may overly sentimental film somew...   \n",
       "\n",
       "                                              review  sentiment  \\\n",
       "0  [Catching Fire delivers on the grim, roiling p...          1   \n",
       "1  [\"Mockingjay - Part 1,\" however well done, can...          1   \n",
       "3  [A dark and driven work, haunted by violence, ...          1   \n",
       "\n",
       "                                       sentiment_all  sentiment_pos  \\\n",
       "0  [{'neg': 0.339, 'neu': 0.389, 'pos': 0.272, 'c...          0.246   \n",
       "1  [{'neg': 0.0, 'neu': 0.764, 'pos': 0.236, 'com...          0.190   \n",
       "3  [{'neg': 0.597, 'neu': 0.403, 'pos': 0.0, 'com...          0.190   \n",
       "\n",
       "   sentiment_neg  sentiment_neu  sentiment_comp sentiment_overall  \\\n",
       "0          0.105          0.650          0.9986          positive   \n",
       "1          0.039          0.771          0.9974          positive   \n",
       "3          0.087          0.723          0.9968          positive   \n",
       "\n",
       "                                         review_list  \\\n",
       "0  [catching fire delivers grim roiling promises ...   \n",
       "1  [mockingjay part however well done cant compet...   \n",
       "3  [dark driven work haunted violence cruelty sen...   \n",
       "\n",
       "                                             reviews  \\\n",
       "0  catching fire delivers grim roiling promises o...   \n",
       "1  mockingjay part however well done cant compete...   \n",
       "3  dark driven work haunted violence cruelty sens...   \n",
       "\n",
       "                                                text  \n",
       "0  1 arriving safely home unprecedented victory t...  \n",
       "1  1 following rescue devastating quarter quell k...  \n",
       "3  1 slow witted forrest gump tom hanks never tho...  "
      ]
     },
     "execution_count": 20,
     "metadata": {},
     "output_type": "execute_result"
    }
   ],
   "source": [
    "df_model = df_merge.copy()\n",
    "\n",
    "# Binary label for overall sentiment\n",
    "df_model['sentiment']=df_model['sentiment_overall'].apply(lambda x: 1 if x=='positive' else 0)\n",
    "\n",
    "# Merge title and year columns\n",
    "df_model['title'] = df_model.apply(lambda x: x.title + ' (' + str(x.year) + ')', axis = 1)\n",
    "\n",
    "# Merge X variables\n",
    "df_model['text'] = (df_model[\"sentiment\"].astype(str)\n",
    "                    .str.cat(df_model[\"movie_description\"], sep =\" \")\n",
    "                    .str.cat(df_model[\"critical_consensus\"], sep =\" \")\n",
    "                    .str.cat(df_model[\"reviews\"], sep =\" \")\n",
    "                    ).str.strip()\n",
    "\n",
    "# Final DataFrame\n",
    "#cols = ['title', 'genre', 'sentiment', 'text']\n",
    "#df_model = df_model.loc[:, cols]\n",
    "\n",
    "df_model.head(3)"
   ]
  },
  {
   "cell_type": "code",
   "execution_count": 21,
   "id": "ff24c906",
   "metadata": {},
   "outputs": [
    {
     "name": "stdout",
     "output_type": "stream",
     "text": [
      "Number of films to model:  251\n"
     ]
    }
   ],
   "source": [
    "print('Number of films to model: ',len(df_model))"
   ]
  },
  {
   "cell_type": "markdown",
   "id": "20575f1e",
   "metadata": {},
   "source": [
    "### Data Wrangling for Model"
   ]
  },
  {
   "cell_type": "code",
   "execution_count": null,
   "id": "48297fcc",
   "metadata": {},
   "outputs": [],
   "source": [
    "# Multilabel Binarizer - applied on y (target) variable\n",
    "from sklearn.preprocessing import OneHotEncoder\n",
    "multilabel_binarizer = MultiLabelBinarizer()\n",
    "multilabel_binarizer.fit(df_model['genre'])\n",
    "\n",
    "# transform target variable\n",
    "y = multilabel_binarizer.transform(df_model['genre'])\n",
    "\n",
    "# Transform text to non-numeric form.\n",
    "# TFIDF vectorizer\n",
    "tfidf_vectorizer = TfidfVectorizer(max_features = 1500)\n",
    "\n",
    "# Split into training and test data sets\n",
    "X = df_model['text']\n",
    "X_train, X_test, y_train, y_test = train_test_split(X\n",
    "                                                    , y\n",
    "                                                    , test_size = 0.2\n",
    "                                                    , random_state = 0)\n",
    "\n",
    "# Create TF-IDF features\n",
    "X_train = tfidf_vectorizer.fit_transform(X_train)\n",
    "X_test = tfidf_vectorizer.transform(X_test.values.astype('U'))\n",
    "\n",
    "# Normalise X data sets\n",
    "norm = Normalizer()\n",
    "X_train = norm.fit_transform(X_train)\n",
    "X_test  = norm.transform(X_test)"
   ]
  },
  {
   "cell_type": "raw",
   "id": "b12656fa",
   "metadata": {},
   "source": [
    "pipe = Pipeline([\n",
    "    ('vectorizer', TfidfVectorizer())\n",
    "    ,('scaler', Normalizer())\n",
    "    ,('OVR', OneVsRestClassifier())\n",
    "    ,('smote', Pipeline(steps=steps)) # Smote\n",
    "    ,('model', XGBClassifier())])\n"
   ]
  },
  {
   "cell_type": "markdown",
   "id": "bb672f96",
   "metadata": {},
   "source": [
    "#### Treating the Imbalanced data\n",
    "SMOTE (Synthetic Minority Oversampling Technique) based sampling"
   ]
  },
  {
   "cell_type": "raw",
   "id": "e26dec42",
   "metadata": {},
   "source": [
    "counter = Counter(y)\n",
    "print(counter)"
   ]
  },
  {
   "cell_type": "raw",
   "id": "bbf32987",
   "metadata": {},
   "source": [
    "# define pipeline\n",
    "over = SMOTE(sampling_strategy=0.9, random_state  = 1)\n",
    "under = RandomUnderSampler(sampling_strategy=0.9, random_state  = 1)\n",
    "smote_steps = [('o', over), ('u', under)]\n",
    "pipeline = Pipeline(steps=steps)\n",
    "\n",
    "# transform the dataset\n",
    "X_train, y_train = pipeline.fit_resample(X_train, y_train)\n",
    "\n",
    "# summarize the new class distribution\n",
    "counter = Counter(y_train)\n",
    "print(counter)"
   ]
  },
  {
   "cell_type": "raw",
   "id": "19a5749f",
   "metadata": {},
   "source": [
    "pipeline = Pipeline(steps=steps)"
   ]
  },
  {
   "cell_type": "markdown",
   "id": "b1c532cb",
   "metadata": {},
   "source": [
    "### XGBoost"
   ]
  },
  {
   "cell_type": "code",
   "execution_count": null,
   "id": "9ce7cfb5",
   "metadata": {},
   "outputs": [],
   "source": [
    "# Create the random grid\n",
    "xg_params = {\n",
    "    \"estimator__max_depth\": [1, 3, 5, 7, 9],\n",
    "    \"estimator__learning_rate\": [0.0001, 0.001, 0.01, 0.1, 0.2, 0.3],\n",
    "    \"estimator__n_estimators\":  [100, 200, 400, 600, 800, 1000],\n",
    "    \"estimator__colsample_bytree\": [0.3, 0.5, 0.7],\n",
    "    \"estimator__gamma\": [0, 1, 5],\n",
    "    \"estimator__subsample\": [0.5 ,0.7 ,1]\n",
    "}\n",
    "\n",
    "\n",
    "xg_params"
   ]
  },
  {
   "cell_type": "code",
   "execution_count": null,
   "id": "08162a04",
   "metadata": {},
   "outputs": [],
   "source": [
    "%%time\n",
    "xgc = OneVsRestClassifier(XGBClassifier(random_state = 1, verbosity  = 0, use_label_encoder=False, n_jobs = -1))\n",
    "\n",
    "# search across 50 different combinations, and use all available cores\n",
    "# Fit the random search model\n",
    "clf_xgc_random = RandomizedSearchCV(estimator = xgc\n",
    "                               , param_distributions = xg_params\n",
    "                               , n_iter = 5\n",
    "                               , cv = 5\n",
    "                               , verbose=0\n",
    "                               , random_state=1\n",
    "                               , n_jobs = -1\n",
    "                               , scoring = 'f1_micro'\n",
    "                               , return_train_score = True)\n",
    "\n",
    "clf_xgc_random.fit(X_train, y_train)"
   ]
  },
  {
   "cell_type": "code",
   "execution_count": null,
   "id": "7d46b3e7",
   "metadata": {},
   "outputs": [],
   "source": [
    "# Best hyperparameter values\n",
    "best_params = clf_xgc_random.best_params_\n",
    "clf_xgc_random.best_params_"
   ]
  },
  {
   "cell_type": "code",
   "execution_count": null,
   "id": "d3a7499f",
   "metadata": {},
   "outputs": [],
   "source": [
    "%%time\n",
    "# Fit final model with best parameter estimates\n",
    "xg_final = OneVsRestClassifier(XGBClassifier( max_depth = best_params['estimator__max_depth']\n",
    "                       , learning_rate = best_params['estimator__learning_rate']\n",
    "                       , n_estimators = best_params['estimator__n_estimators']\n",
    "                       , gamma = best_params['estimator__gamma']\n",
    "                       , subsample = best_params['estimator__subsample']\n",
    "                       , n_jobs = -1\n",
    "                       , random_state = 1 \n",
    "                       , use_label_encoder=False\n",
    "                       , verbosity  = 0))\n",
    "\n",
    "xg_final.fit(X_train, y_train )"
   ]
  },
  {
   "cell_type": "code",
   "execution_count": null,
   "id": "55399fcb",
   "metadata": {},
   "outputs": [],
   "source": [
    "%%time\n",
    "\n",
    "#warnings.filterwarnings(action='once')\n",
    "# Cross validated metrics\n",
    "def cv_score (score, cv):\n",
    "   # with warnings.catch_warnings():\n",
    "       # warnings.simplefilter(\"ignore\")\n",
    "        return cross_val_score(xg_final\n",
    "                            , X_train\n",
    "                            , y_train\n",
    "                            , cv = cv\n",
    "                            , scoring = score\n",
    "                            , verbose = 0\n",
    "                            , n_jobs = -1)\n",
    "\n",
    "scores_lst = []\n",
    "for i in [\"accuracy\",\"f1_micro\", \"recall_micro\", \"precision_micro\", \"roc_auc\"]:\n",
    "    scores_lst.append(cv_score(i, 5))\n",
    "    "
   ]
  },
  {
   "cell_type": "code",
   "execution_count": null,
   "id": "0e6f9271",
   "metadata": {},
   "outputs": [],
   "source": [
    "# Cross validated results\n",
    "cv_scores_xg = pd.DataFrame(scores_lst).transpose()\n",
    "cv_scores_xg.columns = [\"accuracy\",\"f1_score\", \"recall_score\", \"precision_score\", \"roc_auc\"]\n",
    "cv_scores_xg = pd.DataFrame(cv_scores_xg.mean()).transpose()\n",
    "cv_scores_xg"
   ]
  },
  {
   "cell_type": "code",
   "execution_count": null,
   "id": "9f365c13",
   "metadata": {},
   "outputs": [],
   "source": [
    "# Performance on training data\n",
    "y_pred_xg = xg_final.predict(X_train)\n",
    "\n",
    "train_scores_xg = pd.DataFrame.from_dict({'accuracy' : accuracy_score(y_train, y_pred_xg)\n",
    "                                 , 'f1_score': f1_score(y_train, y_pred_xg, average=\"micro\")\n",
    "                                 , 'recall_score': recall_score(y_train, y_pred_xg, average=\"micro\")\n",
    "                                 , 'precision_score': precision_score(y_train, y_pred_xg, average=\"micro\")\n",
    "                                 , 'roc_auc': roc_auc_score(y_train, y_pred_xg, average=\"micro\")\n",
    "                                }, orient = 'index').transpose()"
   ]
  },
  {
   "cell_type": "code",
   "execution_count": null,
   "id": "b0431300",
   "metadata": {},
   "outputs": [],
   "source": [
    "# Performance on Test data\n",
    "y_pred_xg = xg_final.predict(X_test)\n",
    "\n",
    "test_scores_xg = pd.DataFrame.from_dict({'accuracy' : accuracy_score(y_test, y_pred_xg)\n",
    "                                 , 'f1_score': f1_score(y_test, y_pred_xg, average=\"micro\")\n",
    "                                 , 'recall_score': recall_score(y_test, y_pred_xg, average=\"micro\")\n",
    "                                 , 'precision_score': precision_score(y_test, y_pred_xg, average=\"micro\")\n",
    "                                 , 'roc_auc': roc_auc_score(y_test, y_pred_xg, average=\"micro\")\n",
    "                                }, orient = 'index').transpose()"
   ]
  },
  {
   "cell_type": "code",
   "execution_count": null,
   "id": "6facf6e8",
   "metadata": {},
   "outputs": [],
   "source": [
    "# Dataframe of metric scores\n",
    "scores_xg = pd.concat([train_scores_xg, cv_scores_xg, test_scores_xg])\n",
    "scores_xg['Scores'] = ['Training', 'CV', 'Test']\n",
    "scores_xg.set_index(['Scores'])"
   ]
  },
  {
   "cell_type": "code",
   "execution_count": null,
   "id": "9dd494dd",
   "metadata": {},
   "outputs": [],
   "source": []
  },
  {
   "cell_type": "code",
   "execution_count": null,
   "id": "c5cf6e91",
   "metadata": {},
   "outputs": [],
   "source": []
  },
  {
   "cell_type": "code",
   "execution_count": null,
   "id": "db3a5a50",
   "metadata": {},
   "outputs": [],
   "source": []
  },
  {
   "cell_type": "code",
   "execution_count": null,
   "id": "f2eba8c3",
   "metadata": {},
   "outputs": [],
   "source": []
  },
  {
   "cell_type": "code",
   "execution_count": 60,
   "id": "feb2a0e7",
   "metadata": {},
   "outputs": [
    {
     "data": {
      "text/html": [
       "<div>\n",
       "<style scoped>\n",
       "    .dataframe tbody tr th:only-of-type {\n",
       "        vertical-align: middle;\n",
       "    }\n",
       "\n",
       "    .dataframe tbody tr th {\n",
       "        vertical-align: top;\n",
       "    }\n",
       "\n",
       "    .dataframe thead th {\n",
       "        text-align: right;\n",
       "    }\n",
       "</style>\n",
       "<table border=\"1\" class=\"dataframe\">\n",
       "  <thead>\n",
       "    <tr style=\"text-align: right;\">\n",
       "      <th></th>\n",
       "      <th>title</th>\n",
       "      <th>genre</th>\n",
       "      <th>sentiment</th>\n",
       "      <th>text</th>\n",
       "    </tr>\n",
       "  </thead>\n",
       "  <tbody>\n",
       "    <tr>\n",
       "      <th>0</th>\n",
       "      <td>The Hunger Games: Catching Fire (2013)</td>\n",
       "      <td>adventure, sci-fi, action</td>\n",
       "      <td>1</td>\n",
       "      <td>arriving safely home unprecedented victory th ...</td>\n",
       "    </tr>\n",
       "    <tr>\n",
       "      <th>1</th>\n",
       "      <td>The Hunger Games: Mockingjay – Part 1 (2014)</td>\n",
       "      <td>action, adventure, sci-fi</td>\n",
       "      <td>1</td>\n",
       "      <td>following rescue devastating quarter quell kat...</td>\n",
       "    </tr>\n",
       "    <tr>\n",
       "      <th>3</th>\n",
       "      <td>Forrest Gump (1994)</td>\n",
       "      <td>comedy, drama &amp; romance</td>\n",
       "      <td>1</td>\n",
       "      <td>slow witted forrest gump tom hanks never thoug...</td>\n",
       "    </tr>\n",
       "  </tbody>\n",
       "</table>\n",
       "</div>"
      ],
      "text/plain": [
       "                                          title                      genre  \\\n",
       "0        The Hunger Games: Catching Fire (2013)  adventure, sci-fi, action   \n",
       "1  The Hunger Games: Mockingjay – Part 1 (2014)  action, adventure, sci-fi   \n",
       "3                           Forrest Gump (1994)    comedy, drama & romance   \n",
       "\n",
       "   sentiment                                               text  \n",
       "0          1  arriving safely home unprecedented victory th ...  \n",
       "1          1  following rescue devastating quarter quell kat...  \n",
       "3          1  slow witted forrest gump tom hanks never thoug...  "
      ]
     },
     "execution_count": 60,
     "metadata": {},
     "output_type": "execute_result"
    }
   ],
   "source": [
    "df_model = df_merge.copy()\n",
    "\n",
    "# Binary label for overall sentiment\n",
    "df_model['sentiment']=df_model['sentiment_overall'].apply(lambda x: 1 if x=='positive' else 0)\n",
    "\n",
    "# Merge title and year columns\n",
    "df_model['title'] = df_model.apply(lambda x: x.title + ' (' + str(x.year) + ')', axis = 1)\n",
    "\n",
    "# Merge X variables\n",
    "df_model['text'] = (df_model[\"movie_description\"].astype(str)\n",
    "                    .str.cat(df_model[\"critical_consensus\"], sep =\" \")\n",
    "                    .str.cat(df_model[\"reviews\"], sep =\" \")\n",
    "                    ).str.strip()\n",
    "\n",
    "# Final DataFrame\n",
    "cols = ['title', 'genre', 'sentiment', 'text']\n",
    "df_model = df_model.loc[:, cols]\n",
    "\n",
    "df_model.head(3)"
   ]
  },
  {
   "cell_type": "code",
   "execution_count": 22,
   "id": "f6dd48ba",
   "metadata": {},
   "outputs": [
    {
     "name": "stderr",
     "output_type": "stream",
     "text": [
      "c:\\users\\james\\appdata\\local\\programs\\python\\python39\\lib\\site-packages\\gensim\\utils.py:1212: UserWarning: detected Windows; aliasing chunkize to chunkize_serial\n",
      "  warnings.warn(\"detected Windows; aliasing chunkize to chunkize_serial\")\n"
     ]
    }
   ],
   "source": [
    "# importing all necessary modules\n",
    "from nltk.tokenize import sent_tokenize, word_tokenize\n",
    "import gensim\n",
    "from gensim.models import Word2Vec\n",
    "from sklearn.decomposition import PCA"
   ]
  },
  {
   "cell_type": "code",
   "execution_count": 83,
   "id": "3afd0d57",
   "metadata": {},
   "outputs": [],
   "source": [
    "# init word2vec class (hyperparameters)\n",
    "model = Word2Vec(size = 200,    # number of dimensions of the embedding, e.g. the length of the dense vector to represent each token (word)\n",
    "                 window = 15,   # maximum number of words between a target word and words around the target word\n",
    "                 min_count = 2, # words with an occurrence less than this count will be ignored\n",
    "                 workers = 20,  # number of threads to use while training\n",
    "                 sg = 1,        # we are using Skip Gram algorithm; if you set sg = 0 then the algorithm will be CBOW\n",
    "                 negative = 5,  # negative sampling will be used - downsample words\n",
    "                 sample = 1e-5) # threshold for configuring which higher-frequency words are randomly downsampled"
   ]
  },
  {
   "cell_type": "code",
   "execution_count": 84,
   "id": "52e497f9",
   "metadata": {},
   "outputs": [],
   "source": [
    "df_model['text_lst'] = df_model['text'].apply(lambda x: list(set(x.split(' '))))"
   ]
  },
  {
   "cell_type": "code",
   "execution_count": 85,
   "id": "4457c785",
   "metadata": {},
   "outputs": [],
   "source": [
    "sent = list(df_model['text_lst'])"
   ]
  },
  {
   "cell_type": "raw",
   "id": "cf7165bc",
   "metadata": {},
   "source": [
    "sent = [row.strip().split(',') for row in df_clean['text']]"
   ]
  },
  {
   "cell_type": "code",
   "execution_count": 75,
   "id": "71fe8b65",
   "metadata": {},
   "outputs": [],
   "source": [
    "from gensim.models import KeyedVectors\n",
    "\n",
    "# step three: load the pretrained model we just downloaded and unzipped\n",
    "# model = KeyedVectors.load_word2vec_format('pretrained-model.bin', binary=True)"
   ]
  },
  {
   "cell_type": "code",
   "execution_count": null,
   "id": "31bb407c",
   "metadata": {},
   "outputs": [],
   "source": []
  },
  {
   "cell_type": "code",
   "execution_count": 77,
   "id": "0ba089b8",
   "metadata": {},
   "outputs": [
    {
     "name": "stdout",
     "output_type": "stream",
     "text": [
      "Wall time: 2min 50s\n"
     ]
    },
    {
     "data": {
      "text/plain": [
       "(16515620, 62506444)"
      ]
     },
     "execution_count": 77,
     "metadata": {},
     "output_type": "execute_result"
    }
   ],
   "source": []
  },
  {
   "cell_type": "code",
   "execution_count": 78,
   "id": "5c48866b",
   "metadata": {},
   "outputs": [
    {
     "name": "stderr",
     "output_type": "stream",
     "text": [
      "C:\\Users\\james\\AppData\\Local\\Temp/ipykernel_6576/161888465.py:4: DeprecationWarning: Call to deprecated `__getitem__` (Method will be removed in 4.0.0, use self.wv.__getitem__() instead).\n",
      "  X = model[model.wv.vocab]\n"
     ]
    }
   ],
   "source": [
    "# train model\n",
    "# model = Word2Vec(sentences, min_count=1)\n",
    "# fit a 2d PCA model to the vectors\n",
    "X = model[model.wv.vocab]\n",
    "pca = PCA(n_components=2)\n",
    "result = pca.fit_transform(X)"
   ]
  },
  {
   "cell_type": "code",
   "execution_count": null,
   "id": "21cb3ec8",
   "metadata": {},
   "outputs": [],
   "source": [
    "# Multilabel Binarizer - applied on y (target) variable\n",
    "from sklearn.preprocessing import OneHotEncoder\n",
    "multilabel_binarizer = MultiLabelBinarizer()\n",
    "multilabel_binarizer.fit(df_model['genre'])\n",
    "\n",
    "# transform target variable\n",
    "y = multilabel_binarizer.transform(df_model['genre'])\n",
    "\n",
    "# Transform text to non-numeric form.\n",
    "# TFIDF vectorizer\n",
    "tfidf_vectorizer = TfidfVectorizer(max_features = 1500)\n",
    "\n",
    "# Split into training and test data sets\n",
    "X = df_model['text']\n",
    "X_train, X_test, y_train, y_test = train_test_split(X\n",
    "                                                    , y\n",
    "                                                    , test_size = 0.2\n",
    "                                                    , random_state = 0)\n",
    "\n",
    "# Create TF-IDF features\n",
    "%%time\n",
    "model.build_vocab(X_train) \n",
    "model.train(X_train, \n",
    "                total_examples=model.corpus_count, \n",
    "                epochs=1001, \n",
    "                report_delay=1, # see a gradual output\n",
    "                compute_loss = True, # set compute_loss = True\n",
    "                )\n",
    "\n",
    "X = model[model.wv.vocab]\n",
    "\n",
    "X_train = tfidf_vectorizer.fit_transform(X_train)\n",
    "X_test = tfidf_vectorizer.transform(X_test.values.astype('U'))\n",
    "\n",
    "# Normalise X data sets\n",
    "norm = Normalizer()\n",
    "X_train = norm.fit_transform(X_train)\n",
    "X_test  = norm.transform(X_test)"
   ]
  },
  {
   "cell_type": "code",
   "execution_count": null,
   "id": "2820ea61",
   "metadata": {},
   "outputs": [],
   "source": [
    "!pip uninstall gensim\n"
   ]
  },
  {
   "cell_type": "code",
   "execution_count": 26,
   "id": "30d81f1a",
   "metadata": {},
   "outputs": [
    {
     "name": "stdout",
     "output_type": "stream",
     "text": [
      "3.6.0\n"
     ]
    }
   ],
   "source": [
    "print(gensim.__version__)"
   ]
  }
 ],
 "metadata": {
  "kernelspec": {
   "display_name": "Python 3 (ipykernel)",
   "language": "python",
   "name": "python3"
  },
  "language_info": {
   "codemirror_mode": {
    "name": "ipython",
    "version": 3
   },
   "file_extension": ".py",
   "mimetype": "text/x-python",
   "name": "python",
   "nbconvert_exporter": "python",
   "pygments_lexer": "ipython3",
   "version": "3.9.7"
  }
 },
 "nbformat": 4,
 "nbformat_minor": 5
}
