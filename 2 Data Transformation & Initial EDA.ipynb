{
 "cells": [
  {
   "cell_type": "code",
   "execution_count": 1,
   "id": "e0327028",
   "metadata": {},
   "outputs": [],
   "source": [
    "# Custom functions\n",
    "from my_functions import *\n",
    "import pickle "
   ]
  },
  {
   "cell_type": "markdown",
   "id": "389641e6",
   "metadata": {},
   "source": [
    "## Import and clean data"
   ]
  },
  {
   "cell_type": "code",
   "execution_count": 2,
   "id": "247da432",
   "metadata": {},
   "outputs": [
    {
     "data": {
      "text/html": [
       "<div>\n",
       "<style scoped>\n",
       "    .dataframe tbody tr th:only-of-type {\n",
       "        vertical-align: middle;\n",
       "    }\n",
       "\n",
       "    .dataframe tbody tr th {\n",
       "        vertical-align: top;\n",
       "    }\n",
       "\n",
       "    .dataframe thead th {\n",
       "        text-align: right;\n",
       "    }\n",
       "</style>\n",
       "<table border=\"1\" class=\"dataframe\">\n",
       "  <thead>\n",
       "    <tr style=\"text-align: right;\">\n",
       "      <th></th>\n",
       "      <th>Year</th>\n",
       "      <th>Title</th>\n",
       "      <th>Worldwide Gross</th>\n",
       "    </tr>\n",
       "  </thead>\n",
       "  <tbody>\n",
       "    <tr>\n",
       "      <th>0</th>\n",
       "      <td>2013</td>\n",
       "      <td>The Hunger Games: Catching Fire</td>\n",
       "      <td>$865,011,746</td>\n",
       "    </tr>\n",
       "    <tr>\n",
       "      <th>1</th>\n",
       "      <td>2014</td>\n",
       "      <td>The Hunger Games: Mockingjay – Part 1</td>\n",
       "      <td>$755,356,711</td>\n",
       "    </tr>\n",
       "  </tbody>\n",
       "</table>\n",
       "</div>"
      ],
      "text/plain": [
       "   Year                                  Title Worldwide Gross\n",
       "0  2013        The Hunger Games: Catching Fire    $865,011,746\n",
       "1  2014  The Hunger Games: Mockingjay – Part 1    $755,356,711"
      ]
     },
     "execution_count": 2,
     "metadata": {},
     "output_type": "execute_result"
    }
   ],
   "source": [
    "# Wikipedia movie list\n",
    "df_wiki = pd.read_csv('bk_wiki.csv', dtype=object)\n",
    "\n",
    "# Remove any duplicates\n",
    "df_wiki = df_wiki.drop_duplicates(['Title', 'Year'])\n",
    "\n",
    "df_wiki.head(2)"
   ]
  },
  {
   "cell_type": "code",
   "execution_count": 3,
   "id": "e0a22c8a",
   "metadata": {},
   "outputs": [
    {
     "name": "stdout",
     "output_type": "stream",
     "text": [
      "6756 rows of data loaded for 395 films\n",
      "Therefore, 110 films were not found by the WebCrawler\n"
     ]
    },
    {
     "data": {
      "text/html": [
       "<div>\n",
       "<style scoped>\n",
       "    .dataframe tbody tr th:only-of-type {\n",
       "        vertical-align: middle;\n",
       "    }\n",
       "\n",
       "    .dataframe tbody tr th {\n",
       "        vertical-align: top;\n",
       "    }\n",
       "\n",
       "    .dataframe thead th {\n",
       "        text-align: right;\n",
       "    }\n",
       "</style>\n",
       "<table border=\"1\" class=\"dataframe\">\n",
       "  <thead>\n",
       "    <tr style=\"text-align: right;\">\n",
       "      <th></th>\n",
       "      <th>review</th>\n",
       "      <th>wiki_name</th>\n",
       "      <th>wiki_year</th>\n",
       "      <th>rt_name</th>\n",
       "      <th>genre</th>\n",
       "      <th>release_year</th>\n",
       "      <th>stream_year</th>\n",
       "      <th>critical_consensus</th>\n",
       "      <th>description</th>\n",
       "    </tr>\n",
       "  </thead>\n",
       "  <tbody>\n",
       "    <tr>\n",
       "      <th>0</th>\n",
       "      <td>It's mainstream entertainment, but it succeeds...</td>\n",
       "      <td>The Hunger Games: Catching Fire</td>\n",
       "      <td>2013</td>\n",
       "      <td>The Hunger Games: Catching Fire - Movie Reviews</td>\n",
       "      <td>Adventure , Sci-Fi , Action</td>\n",
       "      <td>2013</td>\n",
       "      <td>2016</td>\n",
       "      <td>Smart, smoothly directed, and enriched with a ...</td>\n",
       "      <td>After arriving safely home from their unpreced...</td>\n",
       "    </tr>\n",
       "    <tr>\n",
       "      <th>1</th>\n",
       "      <td>Vivid, visceral filmmaking, twisty and enterta...</td>\n",
       "      <td>The Hunger Games: Catching Fire</td>\n",
       "      <td>2013</td>\n",
       "      <td>The Hunger Games: Catching Fire - Movie Reviews</td>\n",
       "      <td>Adventure , Sci-Fi , Action</td>\n",
       "      <td>2013</td>\n",
       "      <td>2016</td>\n",
       "      <td>Smart, smoothly directed, and enriched with a ...</td>\n",
       "      <td>After arriving safely home from their unpreced...</td>\n",
       "    </tr>\n",
       "  </tbody>\n",
       "</table>\n",
       "</div>"
      ],
      "text/plain": [
       "                                              review  \\\n",
       "0  It's mainstream entertainment, but it succeeds...   \n",
       "1  Vivid, visceral filmmaking, twisty and enterta...   \n",
       "\n",
       "                         wiki_name wiki_year  \\\n",
       "0  The Hunger Games: Catching Fire      2013   \n",
       "1  The Hunger Games: Catching Fire      2013   \n",
       "\n",
       "                                           rt_name  \\\n",
       "0  The Hunger Games: Catching Fire - Movie Reviews   \n",
       "1  The Hunger Games: Catching Fire - Movie Reviews   \n",
       "\n",
       "                         genre release_year stream_year  \\\n",
       "0  Adventure , Sci-Fi , Action         2013        2016   \n",
       "1  Adventure , Sci-Fi , Action         2013        2016   \n",
       "\n",
       "                                  critical_consensus  \\\n",
       "0  Smart, smoothly directed, and enriched with a ...   \n",
       "1  Smart, smoothly directed, and enriched with a ...   \n",
       "\n",
       "                                         description  \n",
       "0  After arriving safely home from their unpreced...  \n",
       "1  After arriving safely home from their unpreced...  "
      ]
     },
     "execution_count": 3,
     "metadata": {},
     "output_type": "execute_result"
    }
   ],
   "source": [
    "# Import Rotten Tomatoes data\n",
    "df_rt = pd.concat([pd.read_csv('Rotten Tomatoes/bk_rt_1_raw.csv', dtype=object)\n",
    "                   , pd.read_csv('Rotten Tomatoes/bk_rt_2_raw.csv', dtype=object)\n",
    "                   , pd.read_csv('Rotten Tomatoes/bk_rt_3_raw.csv', dtype=object)\n",
    "                   , pd.read_csv('Rotten Tomatoes/bk_rt_4_raw.csv', dtype=object)\n",
    "                   , pd.read_csv('Rotten Tomatoes/bk_rt_5_raw.csv', dtype=object)])\n",
    "\n",
    "# Update column names\n",
    "Cols = ['review','wiki_name','wiki_year','rt_name',\n",
    "        'genre','release_year','stream_year','critical_consensus','description']\n",
    "df_rt.columns = Cols\n",
    "\n",
    "# Remove any duplicates\n",
    "df_rt = df_rt.drop_duplicates()\n",
    "\n",
    "print(f'{len(df_rt)} rows of data loaded for {len(df_rt.wiki_name.unique())} films')\n",
    "print(f'Therefore, {len(df_wiki) - len(df_rt.wiki_name.unique())} films were not found by the WebCrawler')\n",
    "df_rt.head(2)"
   ]
  },
  {
   "cell_type": "code",
   "execution_count": 4,
   "id": "7c08a0f0",
   "metadata": {},
   "outputs": [
    {
     "name": "stdout",
     "output_type": "stream",
     "text": [
      "131 rows of removed\n"
     ]
    }
   ],
   "source": [
    "# Remove Rotten Tomato records without reviews\n",
    "df_rt_clean = df_rt.loc[~((df_rt['review'] == 'no reviews found')\n",
    "                          | (df_rt['review'] == 'misc error')\n",
    "                          | (df_rt['review'] == '')),:].dropna()\n",
    "print(f'{len(df_rt) - len(df_rt_clean)} rows of removed')"
   ]
  },
  {
   "cell_type": "code",
   "execution_count": 5,
   "id": "bdd1446c",
   "metadata": {},
   "outputs": [
    {
     "data": {
      "text/html": [
       "<div>\n",
       "<style scoped>\n",
       "    .dataframe tbody tr th:only-of-type {\n",
       "        vertical-align: middle;\n",
       "    }\n",
       "\n",
       "    .dataframe tbody tr th {\n",
       "        vertical-align: top;\n",
       "    }\n",
       "\n",
       "    .dataframe thead th {\n",
       "        text-align: right;\n",
       "    }\n",
       "</style>\n",
       "<table border=\"1\" class=\"dataframe\">\n",
       "  <thead>\n",
       "    <tr style=\"text-align: right;\">\n",
       "      <th></th>\n",
       "      <th>review</th>\n",
       "      <th>wiki_name</th>\n",
       "      <th>wiki_year</th>\n",
       "      <th>rt_name</th>\n",
       "      <th>genre</th>\n",
       "      <th>release_year</th>\n",
       "      <th>stream_year</th>\n",
       "      <th>critical_consensus</th>\n",
       "      <th>description</th>\n",
       "    </tr>\n",
       "  </thead>\n",
       "  <tbody>\n",
       "    <tr>\n",
       "      <th>842</th>\n",
       "      <td>Very terrible.</td>\n",
       "      <td>The Avengers</td>\n",
       "      <td>2012</td>\n",
       "      <td>The Avengers - Movie Reviews</td>\n",
       "      <td>Adventure</td>\n",
       "      <td>In Theaters:</td>\n",
       "      <td>2008</td>\n",
       "      <td>A TV spinoff that lacks enough energy to spin,...</td>\n",
       "      <td>A charismatic evil genius named Sir August de ...</td>\n",
       "    </tr>\n",
       "    <tr>\n",
       "      <th>843</th>\n",
       "      <td>The movie lets [Fiennes and Thurman] down with...</td>\n",
       "      <td>The Avengers</td>\n",
       "      <td>2012</td>\n",
       "      <td>The Avengers - Movie Reviews</td>\n",
       "      <td>Adventure</td>\n",
       "      <td>In Theaters:</td>\n",
       "      <td>2008</td>\n",
       "      <td>A TV spinoff that lacks enough energy to spin,...</td>\n",
       "      <td>A charismatic evil genius named Sir August de ...</td>\n",
       "    </tr>\n",
       "    <tr>\n",
       "      <th>844</th>\n",
       "      <td>The new Avengers is dismal in dispiriting, dre...</td>\n",
       "      <td>The Avengers</td>\n",
       "      <td>2012</td>\n",
       "      <td>The Avengers - Movie Reviews</td>\n",
       "      <td>Adventure</td>\n",
       "      <td>In Theaters:</td>\n",
       "      <td>2008</td>\n",
       "      <td>A TV spinoff that lacks enough energy to spin,...</td>\n",
       "      <td>A charismatic evil genius named Sir August de ...</td>\n",
       "    </tr>\n",
       "    <tr>\n",
       "      <th>845</th>\n",
       "      <td>Some bad movies are bold outrages; many others...</td>\n",
       "      <td>The Avengers</td>\n",
       "      <td>2012</td>\n",
       "      <td>The Avengers - Movie Reviews</td>\n",
       "      <td>Adventure</td>\n",
       "      <td>In Theaters:</td>\n",
       "      <td>2008</td>\n",
       "      <td>A TV spinoff that lacks enough energy to spin,...</td>\n",
       "      <td>A charismatic evil genius named Sir August de ...</td>\n",
       "    </tr>\n",
       "    <tr>\n",
       "      <th>846</th>\n",
       "      <td>This Avengers film is so horrendously, painful...</td>\n",
       "      <td>The Avengers</td>\n",
       "      <td>2012</td>\n",
       "      <td>The Avengers - Movie Reviews</td>\n",
       "      <td>Adventure</td>\n",
       "      <td>In Theaters:</td>\n",
       "      <td>2008</td>\n",
       "      <td>A TV spinoff that lacks enough energy to spin,...</td>\n",
       "      <td>A charismatic evil genius named Sir August de ...</td>\n",
       "    </tr>\n",
       "  </tbody>\n",
       "</table>\n",
       "</div>"
      ],
      "text/plain": [
       "                                                review     wiki_name  \\\n",
       "842                                     Very terrible.  The Avengers   \n",
       "843  The movie lets [Fiennes and Thurman] down with...  The Avengers   \n",
       "844  The new Avengers is dismal in dispiriting, dre...  The Avengers   \n",
       "845  Some bad movies are bold outrages; many others...  The Avengers   \n",
       "846  This Avengers film is so horrendously, painful...  The Avengers   \n",
       "\n",
       "    wiki_year                       rt_name      genre  release_year  \\\n",
       "842      2012  The Avengers - Movie Reviews  Adventure  In Theaters:   \n",
       "843      2012  The Avengers - Movie Reviews  Adventure  In Theaters:   \n",
       "844      2012  The Avengers - Movie Reviews  Adventure  In Theaters:   \n",
       "845      2012  The Avengers - Movie Reviews  Adventure  In Theaters:   \n",
       "846      2012  The Avengers - Movie Reviews  Adventure  In Theaters:   \n",
       "\n",
       "    stream_year                                 critical_consensus  \\\n",
       "842        2008  A TV spinoff that lacks enough energy to spin,...   \n",
       "843        2008  A TV spinoff that lacks enough energy to spin,...   \n",
       "844        2008  A TV spinoff that lacks enough energy to spin,...   \n",
       "845        2008  A TV spinoff that lacks enough energy to spin,...   \n",
       "846        2008  A TV spinoff that lacks enough energy to spin,...   \n",
       "\n",
       "                                           description  \n",
       "842  A charismatic evil genius named Sir August de ...  \n",
       "843  A charismatic evil genius named Sir August de ...  \n",
       "844  A charismatic evil genius named Sir August de ...  \n",
       "845  A charismatic evil genius named Sir August de ...  \n",
       "846  A charismatic evil genius named Sir August de ...  "
      ]
     },
     "execution_count": 5,
     "metadata": {},
     "output_type": "execute_result"
    }
   ],
   "source": [
    "# This film has no release year and stream year doesn't align to year from the Box Office Mojo data.\n",
    "df_rt_clean[df_rt_clean.wiki_name == 'The Avengers'].head()"
   ]
  },
  {
   "cell_type": "code",
   "execution_count": 6,
   "id": "40fe4a08",
   "metadata": {},
   "outputs": [
    {
     "name": "stdout",
     "output_type": "stream",
     "text": [
      "269 of films remaining with a total of 5111 reviews\n"
     ]
    },
    {
     "data": {
      "text/html": [
       "<div>\n",
       "<style scoped>\n",
       "    .dataframe tbody tr th:only-of-type {\n",
       "        vertical-align: middle;\n",
       "    }\n",
       "\n",
       "    .dataframe tbody tr th {\n",
       "        vertical-align: top;\n",
       "    }\n",
       "\n",
       "    .dataframe thead th {\n",
       "        text-align: right;\n",
       "    }\n",
       "</style>\n",
       "<table border=\"1\" class=\"dataframe\">\n",
       "  <thead>\n",
       "    <tr style=\"text-align: right;\">\n",
       "      <th></th>\n",
       "      <th>review</th>\n",
       "      <th>wiki_name</th>\n",
       "      <th>wiki_year</th>\n",
       "      <th>rt_name</th>\n",
       "      <th>genre</th>\n",
       "      <th>release_year</th>\n",
       "      <th>stream_year</th>\n",
       "      <th>critical_consensus</th>\n",
       "      <th>description</th>\n",
       "    </tr>\n",
       "  </thead>\n",
       "  <tbody>\n",
       "    <tr>\n",
       "      <th>1712</th>\n",
       "      <td>[ ‘Here are beauties that pierce like swords o...</td>\n",
       "      <td>The Lord of the Rings: The Fellowship of the Ring</td>\n",
       "      <td>2001</td>\n",
       "      <td>The Lord of the Rings: The Fellowship of the R...</td>\n",
       "      <td>Fantasy , Adventure</td>\n",
       "      <td>2001</td>\n",
       "      <td>2011</td>\n",
       "      <td>Full of eye-popping special effects, and featu...</td>\n",
       "      <td>The future of civilization rests in the fate o...</td>\n",
       "    </tr>\n",
       "    <tr>\n",
       "      <th>933</th>\n",
       "      <td>[\"...for me to consider Captain America: Civil...</td>\n",
       "      <td>Captain America: Civil War</td>\n",
       "      <td>2016</td>\n",
       "      <td>Captain America: Civil War - Movie Reviews</td>\n",
       "      <td>Action , Fantasy , Adventure</td>\n",
       "      <td>2016</td>\n",
       "      <td>2016</td>\n",
       "      <td>Captain America: Civil War begins the next wav...</td>\n",
       "      <td>Political pressure mounts to install a system ...</td>\n",
       "    </tr>\n",
       "    <tr>\n",
       "      <th>1675</th>\n",
       "      <td>[\"After all these years, I just sort of go wit...</td>\n",
       "      <td>Harry Potter and the Half-Blood Prince</td>\n",
       "      <td>2009</td>\n",
       "      <td>Harry Potter and the Half-Blood Prince - Movie...</td>\n",
       "      <td>Fantasy , Kids &amp; Family , Adventure</td>\n",
       "      <td>2009</td>\n",
       "      <td>2011</td>\n",
       "      <td>Dark, thrilling, and occasionally quite funny,...</td>\n",
       "      <td>As Death Eaters wreak havoc in both Muggle and...</td>\n",
       "    </tr>\n",
       "    <tr>\n",
       "      <th>172</th>\n",
       "      <td>[\"All I want is your protection,\" he says to B...</td>\n",
       "      <td>The Twilight Saga: Eclipse</td>\n",
       "      <td>2010</td>\n",
       "      <td>The Twilight Saga: Eclipse - Movie Reviews</td>\n",
       "      <td>Romance , Fantasy</td>\n",
       "      <td>2010</td>\n",
       "      <td>2014</td>\n",
       "      <td>Stuffed with characters and overly reliant on ...</td>\n",
       "      <td>Danger once again surrounds Bella (Kristen Ste...</td>\n",
       "    </tr>\n",
       "    <tr>\n",
       "      <th>1556</th>\n",
       "      <td>[\"Almost Christmas\" is an often disarmingly en...</td>\n",
       "      <td>Almost Christmas</td>\n",
       "      <td>2016</td>\n",
       "      <td>Almost Christmas - Movie Reviews</td>\n",
       "      <td>Comedy , Drama , Other</td>\n",
       "      <td>2016</td>\n",
       "      <td>2017</td>\n",
       "      <td>While far from the worst holiday dramedy audie...</td>\n",
       "      <td>Walter Meyer (Danny Glover) is a retired mecha...</td>\n",
       "    </tr>\n",
       "  </tbody>\n",
       "</table>\n",
       "</div>"
      ],
      "text/plain": [
       "                                                 review  \\\n",
       "1712  [ ‘Here are beauties that pierce like swords o...   \n",
       "933   [\"...for me to consider Captain America: Civil...   \n",
       "1675  [\"After all these years, I just sort of go wit...   \n",
       "172   [\"All I want is your protection,\" he says to B...   \n",
       "1556  [\"Almost Christmas\" is an often disarmingly en...   \n",
       "\n",
       "                                              wiki_name wiki_year  \\\n",
       "1712  The Lord of the Rings: The Fellowship of the Ring      2001   \n",
       "933                          Captain America: Civil War      2016   \n",
       "1675             Harry Potter and the Half-Blood Prince      2009   \n",
       "172                          The Twilight Saga: Eclipse      2010   \n",
       "1556                                   Almost Christmas      2016   \n",
       "\n",
       "                                                rt_name  \\\n",
       "1712  The Lord of the Rings: The Fellowship of the R...   \n",
       "933          Captain America: Civil War - Movie Reviews   \n",
       "1675  Harry Potter and the Half-Blood Prince - Movie...   \n",
       "172          The Twilight Saga: Eclipse - Movie Reviews   \n",
       "1556                   Almost Christmas - Movie Reviews   \n",
       "\n",
       "                                    genre release_year stream_year  \\\n",
       "1712                  Fantasy , Adventure         2001        2011   \n",
       "933          Action , Fantasy , Adventure         2016        2016   \n",
       "1675  Fantasy , Kids & Family , Adventure         2009        2011   \n",
       "172                     Romance , Fantasy         2010        2014   \n",
       "1556               Comedy , Drama , Other         2016        2017   \n",
       "\n",
       "                                     critical_consensus  \\\n",
       "1712  Full of eye-popping special effects, and featu...   \n",
       "933   Captain America: Civil War begins the next wav...   \n",
       "1675  Dark, thrilling, and occasionally quite funny,...   \n",
       "172   Stuffed with characters and overly reliant on ...   \n",
       "1556  While far from the worst holiday dramedy audie...   \n",
       "\n",
       "                                            description  \n",
       "1712  The future of civilization rests in the fate o...  \n",
       "933   Political pressure mounts to install a system ...  \n",
       "1675  As Death Eaters wreak havoc in both Muggle and...  \n",
       "172   Danger once again surrounds Bella (Kristen Ste...  \n",
       "1556  Walter Meyer (Danny Glover) is a retired mecha...  "
      ]
     },
     "execution_count": 6,
     "metadata": {},
     "output_type": "execute_result"
    }
   ],
   "source": [
    "# Group records into a single line per film (reviews become a list of reviews)\n",
    "df_rt_clean = rev_group_list(df_rt_clean, 'review', 'wiki_name')\n",
    "\n",
    "# Remove records where release year != mojo_year\n",
    "df_rt_clean = df_rt_clean[df_rt_clean['wiki_year'] == df_rt_clean['release_year']]\n",
    "\n",
    "# Number of reviews remaining\n",
    "n = 0\n",
    "for i in df_rt_clean['review']:\n",
    "    for j in i: \n",
    "        n+=1\n",
    "\n",
    "print(f'{len(df_rt_clean)} of films remaining with a total of {n} reviews')\n",
    "\n",
    "df_rt_clean.head()"
   ]
  },
  {
   "cell_type": "markdown",
   "id": "fc0e503b",
   "metadata": {},
   "source": [
    "## Merge DataFrames"
   ]
  },
  {
   "cell_type": "code",
   "execution_count": 7,
   "id": "65c8d71a",
   "metadata": {},
   "outputs": [
    {
     "name": "stdout",
     "output_type": "stream",
     "text": [
      "Number of films merged:  269\n"
     ]
    }
   ],
   "source": [
    "# Merge Wikipedia and Rotten Tomatoes data\n",
    "df_merge = df_wiki.merge(df_rt_clean\n",
    "                         , how='left'\n",
    "                         , left_on = ['Title', 'Year']\n",
    "                         , right_on = ['wiki_name', 'wiki_year'])\n",
    "\n",
    "# Select only the columns that we will need\n",
    "df_merge = df_merge.loc[:,['Title'\n",
    "                          , 'Year'\n",
    "                          , 'genre'\n",
    "                          , 'description'\n",
    "                          , 'critical_consensus'\n",
    "                          , 'review']]\n",
    "\n",
    "# Rename columns\n",
    "df_merge.columns = ['title'\n",
    "                    , 'year'\n",
    "                    , 'genre'\n",
    "                    , 'movie_description'\n",
    "                    , 'review'\n",
    "                    , 'critical_consensus']\n",
    "\n",
    "# Remove any empty rows remaining\n",
    "df_merge = df_merge.dropna()\n",
    "\n",
    "print('Number of films merged: ', len(df_merge))"
   ]
  },
  {
   "cell_type": "code",
   "execution_count": 8,
   "id": "9251d955",
   "metadata": {},
   "outputs": [
    {
     "data": {
      "image/png": "[encoded data removed]",
      "text/plain": [
       "<Figure size 288x576 with 1 Axes>"
      ]
     },
     "metadata": {
      "needs_background": "light"
     },
     "output_type": "display_data"
    }
   ],
   "source": [
    "# Top 50 frequently used words for reviews\n",
    "freq_words_chart(df_merge['review'].apply(lambda x: '| '.join(x)), 50, 'Reviews', 4)"
   ]
  },
  {
   "cell_type": "code",
   "execution_count": 9,
   "id": "718f266c",
   "metadata": {},
   "outputs": [
    {
     "data": {
      "image/png": "[encoded data removed]",
      "text/plain": [
       "<Figure size 288x576 with 1 Axes>"
      ]
     },
     "metadata": {
      "needs_background": "light"
     },
     "output_type": "display_data"
    }
   ],
   "source": [
    "# Top 50 frequently used words for movie descriptions\n",
    "freq_words_chart(df_merge['movie_description'], 50, 'Description', 4)"
   ]
  },
  {
   "cell_type": "code",
   "execution_count": 10,
   "id": "11fdc6ca",
   "metadata": {},
   "outputs": [
    {
     "data": {
      "image/png": "[encoded data removed]",
      "text/plain": [
       "<Figure size 288x576 with 1 Axes>"
      ]
     },
     "metadata": {
      "needs_background": "light"
     },
     "output_type": "display_data"
    }
   ],
   "source": [
    "# Top 50 frequently used words for critical consensus\n",
    "freq_words_chart(df_merge['critical_consensus'], 50, 'Critical Consensus', 4)"
   ]
  },
  {
   "cell_type": "code",
   "execution_count": 11,
   "id": "86c9526f",
   "metadata": {},
   "outputs": [
    {
     "data": {
      "text/plain": [
       "Text(0.5, 1.0, 'Description word count distribution')"
      ]
     },
     "execution_count": 11,
     "metadata": {},
     "output_type": "execute_result"
    },
    {
     "data": {
      "image/png": "[encoded data removed]",
      "text/plain": [
       "<Figure size 288x288 with 1 Axes>"
      ]
     },
     "metadata": {
      "needs_background": "light"
     },
     "output_type": "display_data"
    }
   ],
   "source": [
    "# Word count distribution for movie descriptions\n",
    "des_len = df_merge['movie_description'].apply(lambda x: len(x))\n",
    "plt.figure(figsize=(4,4))\n",
    "sns.histplot(des_len, bins=30, )\n",
    "plt.title('Description word count distribution')"
   ]
  },
  {
   "cell_type": "code",
   "execution_count": 12,
   "id": "35da388a",
   "metadata": {},
   "outputs": [
    {
     "data": {
      "text/plain": [
       "Text(0.5, 1.0, 'Review word count distribution')"
      ]
     },
     "execution_count": 12,
     "metadata": {},
     "output_type": "execute_result"
    },
    {
     "data": {
      "image/png": "[encoded data removed]",
      "text/plain": [
       "<Figure size 288x288 with 1 Axes>"
      ]
     },
     "metadata": {
      "needs_background": "light"
     },
     "output_type": "display_data"
    }
   ],
   "source": [
    "# Word count distribution for reviews\n",
    "rev_len = df_merge['review'].apply(lambda x: len(', '.join(x)))\n",
    "plt.figure(figsize=(4,4))\n",
    "sns.histplot(rev_len)\n",
    "plt.title('Review word count distribution')"
   ]
  },
  {
   "cell_type": "code",
   "execution_count": 13,
   "id": "bae30268",
   "metadata": {},
   "outputs": [
    {
     "data": {
      "text/plain": [
       "Text(0.5, 1.0, 'Critical Consensus word count distribution')"
      ]
     },
     "execution_count": 13,
     "metadata": {},
     "output_type": "execute_result"
    },
    {
     "data": {
      "image/png": "[encoded data removed]",
      "text/plain": [
       "<Figure size 288x288 with 1 Axes>"
      ]
     },
     "metadata": {
      "needs_background": "light"
     },
     "output_type": "display_data"
    }
   ],
   "source": [
    "# Word count distribution for critical consensus\n",
    "rev_len = df_merge['critical_consensus'].apply(lambda x: len(', '.join(x)))\n",
    "plt.figure(figsize=(4,4))\n",
    "sns.histplot(rev_len, bins=30)\n",
    "plt.title('Critical Consensus word count distribution')"
   ]
  },
  {
   "cell_type": "markdown",
   "id": "e7cd6c59",
   "metadata": {},
   "source": [
    "### Reducing the Genres"
   ]
  },
  {
   "cell_type": "code",
   "execution_count": 14,
   "id": "209f6894",
   "metadata": {},
   "outputs": [
    {
     "data": {
      "text/html": [
       "<style  type=\"text/css\" >\n",
       "#T_2c59e_row0_col1{\n",
       "            width:  10em;\n",
       "             height:  80%;\n",
       "            background:  linear-gradient(90deg,#d65f5f 100.0%, transparent 100.0%);\n",
       "        }#T_2c59e_row1_col1{\n",
       "            width:  10em;\n",
       "             height:  80%;\n",
       "            background:  linear-gradient(90deg,#d65f5f 74.0%, transparent 74.0%);\n",
       "        }#T_2c59e_row2_col1{\n",
       "            width:  10em;\n",
       "             height:  80%;\n",
       "            background:  linear-gradient(90deg,#d65f5f 70.7%, transparent 70.7%);\n",
       "        }#T_2c59e_row3_col1{\n",
       "            width:  10em;\n",
       "             height:  80%;\n",
       "            background:  linear-gradient(90deg,#d65f5f 61.3%, transparent 61.3%);\n",
       "        }#T_2c59e_row4_col1{\n",
       "            width:  10em;\n",
       "             height:  80%;\n",
       "            background:  linear-gradient(90deg,#d65f5f 44.7%, transparent 44.7%);\n",
       "        }#T_2c59e_row5_col1{\n",
       "            width:  10em;\n",
       "             height:  80%;\n",
       "            background:  linear-gradient(90deg,#d65f5f 40.7%, transparent 40.7%);\n",
       "        }#T_2c59e_row6_col1{\n",
       "            width:  10em;\n",
       "             height:  80%;\n",
       "            background:  linear-gradient(90deg,#d65f5f 27.3%, transparent 27.3%);\n",
       "        }#T_2c59e_row7_col1,#T_2c59e_row8_col1{\n",
       "            width:  10em;\n",
       "             height:  80%;\n",
       "            background:  linear-gradient(90deg,#d65f5f 24.7%, transparent 24.7%);\n",
       "        }#T_2c59e_row9_col1{\n",
       "            width:  10em;\n",
       "             height:  80%;\n",
       "            background:  linear-gradient(90deg,#d65f5f 16.0%, transparent 16.0%);\n",
       "        }#T_2c59e_row10_col1{\n",
       "            width:  10em;\n",
       "             height:  80%;\n",
       "            background:  linear-gradient(90deg,#d65f5f 12.7%, transparent 12.7%);\n",
       "        }#T_2c59e_row11_col1{\n",
       "            width:  10em;\n",
       "             height:  80%;\n",
       "            background:  linear-gradient(90deg,#d65f5f 7.3%, transparent 7.3%);\n",
       "        }#T_2c59e_row12_col1,#T_2c59e_row13_col1{\n",
       "            width:  10em;\n",
       "             height:  80%;\n",
       "            background:  linear-gradient(90deg,#d65f5f 3.3%, transparent 3.3%);\n",
       "        }#T_2c59e_row14_col1{\n",
       "            width:  10em;\n",
       "             height:  80%;\n",
       "            background:  linear-gradient(90deg,#d65f5f 2.7%, transparent 2.7%);\n",
       "        }#T_2c59e_row15_col1,#T_2c59e_row16_col1{\n",
       "            width:  10em;\n",
       "             height:  80%;\n",
       "            background:  linear-gradient(90deg,#d65f5f 1.3%, transparent 1.3%);\n",
       "        }#T_2c59e_row17_col1{\n",
       "            width:  10em;\n",
       "             height:  80%;\n",
       "            background:  linear-gradient(90deg,#d65f5f 0.7%, transparent 0.7%);\n",
       "        }#T_2c59e_row18_col1,#T_2c59e_row19_col1{\n",
       "            width:  10em;\n",
       "             height:  80%;\n",
       "        }</style><table id=\"T_2c59e_\" ><thead>    <tr>        <th class=\"blank level0\" ></th>        <th class=\"col_heading level0 col0\" >Genres</th>        <th class=\"col_heading level0 col1\" >Percentage</th>    </tr></thead><tbody>\n",
       "                <tr>\n",
       "                        <th id=\"T_2c59e_level0_row0\" class=\"row_heading level0 row0\" >0</th>\n",
       "                        <td id=\"T_2c59e_row0_col0\" class=\"data row0 col0\" >Adventure</td>\n",
       "                        <td id=\"T_2c59e_row0_col1\" class=\"data row0 col1\" >18.993711</td>\n",
       "            </tr>\n",
       "            <tr>\n",
       "                        <th id=\"T_2c59e_level0_row1\" class=\"row_heading level0 row1\" >1</th>\n",
       "                        <td id=\"T_2c59e_row1_col0\" class=\"data row1 col0\" >Action</td>\n",
       "                        <td id=\"T_2c59e_row1_col1\" class=\"data row1 col1\" >14.088050</td>\n",
       "            </tr>\n",
       "            <tr>\n",
       "                        <th id=\"T_2c59e_level0_row2\" class=\"row_heading level0 row2\" >2</th>\n",
       "                        <td id=\"T_2c59e_row2_col0\" class=\"data row2 col0\" >Fantasy</td>\n",
       "                        <td id=\"T_2c59e_row2_col1\" class=\"data row2 col1\" >13.459119</td>\n",
       "            </tr>\n",
       "            <tr>\n",
       "                        <th id=\"T_2c59e_level0_row3\" class=\"row_heading level0 row3\" >3</th>\n",
       "                        <td id=\"T_2c59e_row3_col0\" class=\"data row3 col0\" >Comedy</td>\n",
       "                        <td id=\"T_2c59e_row3_col1\" class=\"data row3 col1\" >11.698113</td>\n",
       "            </tr>\n",
       "            <tr>\n",
       "                        <th id=\"T_2c59e_level0_row4\" class=\"row_heading level0 row4\" >4</th>\n",
       "                        <td id=\"T_2c59e_row4_col0\" class=\"data row4 col0\" >Kids & Family</td>\n",
       "                        <td id=\"T_2c59e_row4_col1\" class=\"data row4 col1\" >8.553459</td>\n",
       "            </tr>\n",
       "            <tr>\n",
       "                        <th id=\"T_2c59e_level0_row5\" class=\"row_heading level0 row5\" >5</th>\n",
       "                        <td id=\"T_2c59e_row5_col0\" class=\"data row5 col0\" >Sci-Fi</td>\n",
       "                        <td id=\"T_2c59e_row5_col1\" class=\"data row5 col1\" >7.798742</td>\n",
       "            </tr>\n",
       "            <tr>\n",
       "                        <th id=\"T_2c59e_level0_row6\" class=\"row_heading level0 row6\" >6</th>\n",
       "                        <td id=\"T_2c59e_row6_col0\" class=\"data row6 col0\" >Animation</td>\n",
       "                        <td id=\"T_2c59e_row6_col1\" class=\"data row6 col1\" >5.283019</td>\n",
       "            </tr>\n",
       "            <tr>\n",
       "                        <th id=\"T_2c59e_level0_row7\" class=\"row_heading level0 row7\" >7</th>\n",
       "                        <td id=\"T_2c59e_row7_col0\" class=\"data row7 col0\" >Mystery & Thriller</td>\n",
       "                        <td id=\"T_2c59e_row7_col1\" class=\"data row7 col1\" >4.779874</td>\n",
       "            </tr>\n",
       "            <tr>\n",
       "                        <th id=\"T_2c59e_level0_row8\" class=\"row_heading level0 row8\" >8</th>\n",
       "                        <td id=\"T_2c59e_row8_col0\" class=\"data row8 col0\" >Drama</td>\n",
       "                        <td id=\"T_2c59e_row8_col1\" class=\"data row8 col1\" >4.779874</td>\n",
       "            </tr>\n",
       "            <tr>\n",
       "                        <th id=\"T_2c59e_level0_row9\" class=\"row_heading level0 row9\" >9</th>\n",
       "                        <td id=\"T_2c59e_row9_col0\" class=\"data row9 col0\" >Horror</td>\n",
       "                        <td id=\"T_2c59e_row9_col1\" class=\"data row9 col1\" >3.144654</td>\n",
       "            </tr>\n",
       "            <tr>\n",
       "                        <th id=\"T_2c59e_level0_row10\" class=\"row_heading level0 row10\" >10</th>\n",
       "                        <td id=\"T_2c59e_row10_col0\" class=\"data row10 col0\" >Other</td>\n",
       "                        <td id=\"T_2c59e_row10_col1\" class=\"data row10 col1\" >2.515723</td>\n",
       "            </tr>\n",
       "            <tr>\n",
       "                        <th id=\"T_2c59e_level0_row11\" class=\"row_heading level0 row11\" >11</th>\n",
       "                        <td id=\"T_2c59e_row11_col0\" class=\"data row11 col0\" >Romance</td>\n",
       "                        <td id=\"T_2c59e_row11_col1\" class=\"data row11 col1\" >1.509434</td>\n",
       "            </tr>\n",
       "            <tr>\n",
       "                        <th id=\"T_2c59e_level0_row12\" class=\"row_heading level0 row12\" >12</th>\n",
       "                        <td id=\"T_2c59e_row12_col0\" class=\"data row12 col0\" >Musical</td>\n",
       "                        <td id=\"T_2c59e_row12_col1\" class=\"data row12 col1\" >0.754717</td>\n",
       "            </tr>\n",
       "            <tr>\n",
       "                        <th id=\"T_2c59e_level0_row13\" class=\"row_heading level0 row13\" >13</th>\n",
       "                        <td id=\"T_2c59e_row13_col0\" class=\"data row13 col0\" >Biography</td>\n",
       "                        <td id=\"T_2c59e_row13_col1\" class=\"data row13 col1\" >0.754717</td>\n",
       "            </tr>\n",
       "            <tr>\n",
       "                        <th id=\"T_2c59e_level0_row14\" class=\"row_heading level0 row14\" >14</th>\n",
       "                        <td id=\"T_2c59e_row14_col0\" class=\"data row14 col0\" >History</td>\n",
       "                        <td id=\"T_2c59e_row14_col1\" class=\"data row14 col1\" >0.628931</td>\n",
       "            </tr>\n",
       "            <tr>\n",
       "                        <th id=\"T_2c59e_level0_row15\" class=\"row_heading level0 row15\" >15</th>\n",
       "                        <td id=\"T_2c59e_row15_col0\" class=\"data row15 col0\" >Crime</td>\n",
       "                        <td id=\"T_2c59e_row15_col1\" class=\"data row15 col1\" >0.377358</td>\n",
       "            </tr>\n",
       "            <tr>\n",
       "                        <th id=\"T_2c59e_level0_row16\" class=\"row_heading level0 row16\" >16</th>\n",
       "                        <td id=\"T_2c59e_row16_col0\" class=\"data row16 col0\" >Sports & Fitness</td>\n",
       "                        <td id=\"T_2c59e_row16_col1\" class=\"data row16 col1\" >0.377358</td>\n",
       "            </tr>\n",
       "            <tr>\n",
       "                        <th id=\"T_2c59e_level0_row17\" class=\"row_heading level0 row17\" >17</th>\n",
       "                        <td id=\"T_2c59e_row17_col0\" class=\"data row17 col0\" >Anime</td>\n",
       "                        <td id=\"T_2c59e_row17_col1\" class=\"data row17 col1\" >0.251572</td>\n",
       "            </tr>\n",
       "            <tr>\n",
       "                        <th id=\"T_2c59e_level0_row18\" class=\"row_heading level0 row18\" >18</th>\n",
       "                        <td id=\"T_2c59e_row18_col0\" class=\"data row18 col0\" >LGBTQ+</td>\n",
       "                        <td id=\"T_2c59e_row18_col1\" class=\"data row18 col1\" >0.125786</td>\n",
       "            </tr>\n",
       "            <tr>\n",
       "                        <th id=\"T_2c59e_level0_row19\" class=\"row_heading level0 row19\" >19</th>\n",
       "                        <td id=\"T_2c59e_row19_col0\" class=\"data row19 col0\" >Music</td>\n",
       "                        <td id=\"T_2c59e_row19_col1\" class=\"data row19 col1\" >0.125786</td>\n",
       "            </tr>\n",
       "    </tbody></table>"
      ],
      "text/plain": [
       "<pandas.io.formats.style.Styler at 0x147a8c16670>"
      ]
     },
     "execution_count": 14,
     "metadata": {},
     "output_type": "execute_result"
    }
   ],
   "source": [
    "# Change genre from a string to a list\n",
    "df_merge[\"genre\"] = df_merge[\"genre\"].apply(lambda x: x.split(' , '))\n",
    "\n",
    "# Isolate genres into individual items in a list\n",
    "a = df_merge[\"genre\"]\n",
    "b = []\n",
    "for i in a:\n",
    "    for j in i:\n",
    "        b.append(j)\n",
    "\n",
    "# Summarise genres in data table\n",
    "b_df = pd.DataFrame(b, columns=['Genres'])\n",
    "b_df = (b_df.value_counts() / len(b_df) * 100).reset_index()\n",
    "b_df.columns = ['Genres', 'Percentage']\n",
    "b_df.style.bar()"
   ]
  },
  {
   "cell_type": "code",
   "execution_count": 15,
   "id": "d422de55",
   "metadata": {},
   "outputs": [],
   "source": [
    "# Dictionary to update genres\n",
    "dict_genres = {'Adventure': 'Adventure',\n",
    "               'Action': 'Action',\n",
    "               'Fantasy': 'Fantasy',\n",
    "               'Comedy': 'Comedy',\n",
    "               'Sci-Fi': 'Sci-Fi',\n",
    "               'Kids & Family': 'Kids, Family & Animation',\n",
    "               'Animation': 'Kids, Family & Animation',\n",
    "               'Mystery & Thriller': 'Mystery, Thriller & Horror',\n",
    "               'Drama': 'Drama & Romance',\n",
    "               'Horror': 'Mystery, Thriller & Horror',\n",
    "               'Romance': 'Drama & Romance',\n",
    "               'Musical': 'Drama & Romance',\n",
    "               'Biography': '',\n",
    "               'History': '',\n",
    "               'Crime': 'Mystery, Thriller & Horror',\n",
    "               'Sports & Fitness': '',\n",
    "               'Other': '',\n",
    "               'Anime': 'Kids, Family & Animation',\n",
    "               'LGBTQ+': 'Drama & Romance',\n",
    "               'Music': 'Drama & Romance'}\n",
    "\n",
    "# Update genre names per dictionary mapping\n",
    "df_merge[\"genre\"] = df_merge[\"genre\"].apply(lambda x: [*map(dict_genres.get, x)])\n",
    "df_merge[\"genre\"] = df_merge[\"genre\"].apply(lambda x: [a for a in x if a])\n"
   ]
  },
  {
   "cell_type": "code",
   "execution_count": 17,
   "id": "6d6e74b9",
   "metadata": {},
   "outputs": [
    {
     "data": {
      "text/html": [
       "<style  type=\"text/css\" >\n",
       "#T_79d8e_row0_col1{\n",
       "            width:  10em;\n",
       "             height:  80%;\n",
       "            background:  linear-gradient(90deg,#d65f5f 100.0%, transparent 100.0%);\n",
       "        }#T_79d8e_row1_col1,#T_79d8e_row2_col1{\n",
       "            width:  10em;\n",
       "             height:  80%;\n",
       "            background:  linear-gradient(90deg,#d65f5f 58.1%, transparent 58.1%);\n",
       "        }#T_79d8e_row3_col1{\n",
       "            width:  10em;\n",
       "             height:  80%;\n",
       "            background:  linear-gradient(90deg,#d65f5f 52.7%, transparent 52.7%);\n",
       "        }#T_79d8e_row4_col1{\n",
       "            width:  10em;\n",
       "             height:  80%;\n",
       "            background:  linear-gradient(90deg,#d65f5f 37.6%, transparent 37.6%);\n",
       "        }#T_79d8e_row5_col1{\n",
       "            width:  10em;\n",
       "             height:  80%;\n",
       "            background:  linear-gradient(90deg,#d65f5f 8.6%, transparent 8.6%);\n",
       "        }#T_79d8e_row6_col1{\n",
       "            width:  10em;\n",
       "             height:  80%;\n",
       "            background:  linear-gradient(90deg,#d65f5f 4.3%, transparent 4.3%);\n",
       "        }#T_79d8e_row7_col1{\n",
       "            width:  10em;\n",
       "             height:  80%;\n",
       "        }</style><table id=\"T_79d8e_\" ><thead>    <tr>        <th class=\"blank level0\" ></th>        <th class=\"col_heading level0 col0\" >Genres</th>        <th class=\"col_heading level0 col1\" >Percentage</th>    </tr></thead><tbody>\n",
       "                <tr>\n",
       "                        <th id=\"T_79d8e_level0_row0\" class=\"row_heading level0 row0\" >0</th>\n",
       "                        <td id=\"T_79d8e_row0_col0\" class=\"data row0 col0\" >Adventure</td>\n",
       "                        <td id=\"T_79d8e_row0_col1\" class=\"data row0 col1\" >19.842313</td>\n",
       "            </tr>\n",
       "            <tr>\n",
       "                        <th id=\"T_79d8e_level0_row1\" class=\"row_heading level0 row1\" >1</th>\n",
       "                        <td id=\"T_79d8e_row1_col0\" class=\"data row1 col0\" >Action</td>\n",
       "                        <td id=\"T_79d8e_row1_col1\" class=\"data row1 col1\" >14.717477</td>\n",
       "            </tr>\n",
       "            <tr>\n",
       "                        <th id=\"T_79d8e_level0_row2\" class=\"row_heading level0 row2\" >2</th>\n",
       "                        <td id=\"T_79d8e_row2_col0\" class=\"data row2 col0\" >Kids, Family & Animation</td>\n",
       "                        <td id=\"T_79d8e_row2_col1\" class=\"data row2 col1\" >14.717477</td>\n",
       "            </tr>\n",
       "            <tr>\n",
       "                        <th id=\"T_79d8e_level0_row3\" class=\"row_heading level0 row3\" >3</th>\n",
       "                        <td id=\"T_79d8e_row3_col0\" class=\"data row3 col0\" >Fantasy</td>\n",
       "                        <td id=\"T_79d8e_row3_col1\" class=\"data row3 col1\" >14.060447</td>\n",
       "            </tr>\n",
       "            <tr>\n",
       "                        <th id=\"T_79d8e_level0_row4\" class=\"row_heading level0 row4\" >4</th>\n",
       "                        <td id=\"T_79d8e_row4_col0\" class=\"data row4 col0\" >Comedy</td>\n",
       "                        <td id=\"T_79d8e_row4_col1\" class=\"data row4 col1\" >12.220762</td>\n",
       "            </tr>\n",
       "            <tr>\n",
       "                        <th id=\"T_79d8e_level0_row5\" class=\"row_heading level0 row5\" >5</th>\n",
       "                        <td id=\"T_79d8e_row5_col0\" class=\"data row5 col0\" >Mystery, Thriller & Horror</td>\n",
       "                        <td id=\"T_79d8e_row5_col1\" class=\"data row5 col1\" >8.672799</td>\n",
       "            </tr>\n",
       "            <tr>\n",
       "                        <th id=\"T_79d8e_level0_row6\" class=\"row_heading level0 row6\" >6</th>\n",
       "                        <td id=\"T_79d8e_row6_col0\" class=\"data row6 col0\" >Sci-Fi</td>\n",
       "                        <td id=\"T_79d8e_row6_col1\" class=\"data row6 col1\" >8.147175</td>\n",
       "            </tr>\n",
       "            <tr>\n",
       "                        <th id=\"T_79d8e_level0_row7\" class=\"row_heading level0 row7\" >7</th>\n",
       "                        <td id=\"T_79d8e_row7_col0\" class=\"data row7 col0\" >Drama & Romance</td>\n",
       "                        <td id=\"T_79d8e_row7_col1\" class=\"data row7 col1\" >7.621551</td>\n",
       "            </tr>\n",
       "    </tbody></table>"
      ],
      "text/plain": [
       "<pandas.io.formats.style.Styler at 0x147a886aa90>"
      ]
     },
     "execution_count": 17,
     "metadata": {},
     "output_type": "execute_result"
    }
   ],
   "source": [
    "# Isolate genres into individual items in a list\n",
    "a = df_merge[\"genre\"]\n",
    "b = []\n",
    "for i in a:\n",
    "    for j in i:\n",
    "        b.append(j)\n",
    "\n",
    "# Summarise genres in data table\n",
    "b_df = pd.DataFrame(b, columns=['Genres'])\n",
    "b_df = (b_df.value_counts() / len(b_df) * 100).reset_index()\n",
    "b_df.columns = ['Genres', 'Percentage']\n",
    "b_df.style.bar()"
   ]
  },
  {
   "cell_type": "code",
   "execution_count": 18,
   "id": "ef81a0fc",
   "metadata": {},
   "outputs": [],
   "source": [
    "# Save dataframe to CSV\n",
    "df_merge.to_csv('bk_data_merged.csv', index=False)\n",
    "\n",
    "# Create a Pickle backup to preserve DataFrame structure\n",
    "outfile = open('bk_data_merged','wb')\n",
    "pickle.dump(df_merge, outfile)\n",
    "outfile.close()"
   ]
  }
 ],
 "metadata": {
  "kernelspec": {
   "display_name": "Python 3 (ipykernel)",
   "language": "python",
   "name": "python3"
  },
  "language_info": {
   "codemirror_mode": {
    "name": "ipython",
    "version": 3
   },
   "file_extension": ".py",
   "mimetype": "text/x-python",
   "name": "python",
   "nbconvert_exporter": "python",
   "pygments_lexer": "ipython3",
   "version": "3.9.7"
  }
 },
 "nbformat": 4,
 "nbformat_minor": 5
}