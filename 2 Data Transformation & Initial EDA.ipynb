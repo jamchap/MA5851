{
 "cells": [
  {
   "cell_type": "code",
   "execution_count": 1,
   "id": "e0327028",
   "metadata": {},
   "outputs": [],
   "source": [
    "# Custom functions\n",
    "from my_functions import *\n",
    "import pickle "
   ]
  },
  {
   "cell_type": "markdown",
   "id": "389641e6",
   "metadata": {},
   "source": [
    "### Import data"
   ]
  },
  {
   "cell_type": "code",
   "execution_count": 2,
   "id": "247da432",
   "metadata": {},
   "outputs": [
    {
     "data": {
      "text/html": [
       "<div>\n",
       "<style scoped>\n",
       "    .dataframe tbody tr th:only-of-type {\n",
       "        vertical-align: middle;\n",
       "    }\n",
       "\n",
       "    .dataframe tbody tr th {\n",
       "        vertical-align: top;\n",
       "    }\n",
       "\n",
       "    .dataframe thead th {\n",
       "        text-align: right;\n",
       "    }\n",
       "</style>\n",
       "<table border=\"1\" class=\"dataframe\">\n",
       "  <thead>\n",
       "    <tr style=\"text-align: right;\">\n",
       "      <th></th>\n",
       "      <th>Title</th>\n",
       "      <th>Year</th>\n",
       "      <th>Worldwide Gross</th>\n",
       "    </tr>\n",
       "  </thead>\n",
       "  <tbody>\n",
       "    <tr>\n",
       "      <th>0</th>\n",
       "      <td>The Hunger Games: Catching Fire</td>\n",
       "      <td>2013</td>\n",
       "      <td>$865,011,746</td>\n",
       "    </tr>\n",
       "    <tr>\n",
       "      <th>1</th>\n",
       "      <td>The Hunger Games: Mockingjay – Part 1</td>\n",
       "      <td>2014</td>\n",
       "      <td>$755,356,711</td>\n",
       "    </tr>\n",
       "  </tbody>\n",
       "</table>\n",
       "</div>"
      ],
      "text/plain": [
       "                                   Title  Year Worldwide Gross\n",
       "0        The Hunger Games: Catching Fire  2013    $865,011,746\n",
       "1  The Hunger Games: Mockingjay – Part 1  2014    $755,356,711"
      ]
     },
     "execution_count": 2,
     "metadata": {},
     "output_type": "execute_result"
    }
   ],
   "source": [
    "# Box Office Mojo list\n",
    "df_wiki = pd.read_csv('bk_wiki.csv', dtype = object)\n",
    "\n",
    "# Remove any duplicates\n",
    "df_wiki = df_wiki.drop_duplicates(['Title', 'Year'])\n",
    "\n",
    "df_wiki.head(2)"
   ]
  },
  {
   "cell_type": "code",
   "execution_count": 3,
   "id": "e0a22c8a",
   "metadata": {},
   "outputs": [
    {
     "name": "stdout",
     "output_type": "stream",
     "text": [
      "6266 rows of data loaded for 367 films\n",
      "Therefore, 98 films were not found by the WebCrawler\n"
     ]
    },
    {
     "data": {
      "text/html": [
       "<div>\n",
       "<style scoped>\n",
       "    .dataframe tbody tr th:only-of-type {\n",
       "        vertical-align: middle;\n",
       "    }\n",
       "\n",
       "    .dataframe tbody tr th {\n",
       "        vertical-align: top;\n",
       "    }\n",
       "\n",
       "    .dataframe thead th {\n",
       "        text-align: right;\n",
       "    }\n",
       "</style>\n",
       "<table border=\"1\" class=\"dataframe\">\n",
       "  <thead>\n",
       "    <tr style=\"text-align: right;\">\n",
       "      <th></th>\n",
       "      <th>review</th>\n",
       "      <th>wiki_name</th>\n",
       "      <th>wiki_year</th>\n",
       "      <th>rt_name</th>\n",
       "      <th>genre</th>\n",
       "      <th>release_year</th>\n",
       "      <th>stream_year</th>\n",
       "      <th>critical_consensus</th>\n",
       "      <th>description</th>\n",
       "    </tr>\n",
       "  </thead>\n",
       "  <tbody>\n",
       "    <tr>\n",
       "      <th>0</th>\n",
       "      <td>The serious dramatic themes ring hollow, howev...</td>\n",
       "      <td>It</td>\n",
       "      <td>2017</td>\n",
       "      <td>It - Movie Reviews</td>\n",
       "      <td>Mystery &amp; Thriller , Horror</td>\n",
       "      <td>2017</td>\n",
       "      <td>2017</td>\n",
       "      <td>Well-acted and fiendishly frightening with an ...</td>\n",
       "      <td>Seven young outcasts in Derry, Maine, are abou...</td>\n",
       "    </tr>\n",
       "    <tr>\n",
       "      <th>1</th>\n",
       "      <td>The film depends - and succeeds - entirely on ...</td>\n",
       "      <td>It</td>\n",
       "      <td>2017</td>\n",
       "      <td>It - Movie Reviews</td>\n",
       "      <td>Mystery &amp; Thriller , Horror</td>\n",
       "      <td>2017</td>\n",
       "      <td>2017</td>\n",
       "      <td>Well-acted and fiendishly frightening with an ...</td>\n",
       "      <td>Seven young outcasts in Derry, Maine, are abou...</td>\n",
       "    </tr>\n",
       "  </tbody>\n",
       "</table>\n",
       "</div>"
      ],
      "text/plain": [
       "                                              review wiki_name wiki_year  \\\n",
       "0  The serious dramatic themes ring hollow, howev...        It      2017   \n",
       "1  The film depends - and succeeds - entirely on ...        It      2017   \n",
       "\n",
       "              rt_name                        genre release_year stream_year  \\\n",
       "0  It - Movie Reviews  Mystery & Thriller , Horror         2017        2017   \n",
       "1  It - Movie Reviews  Mystery & Thriller , Horror         2017        2017   \n",
       "\n",
       "                                  critical_consensus  \\\n",
       "0  Well-acted and fiendishly frightening with an ...   \n",
       "1  Well-acted and fiendishly frightening with an ...   \n",
       "\n",
       "                                         description  \n",
       "0  Seven young outcasts in Derry, Maine, are abou...  \n",
       "1  Seven young outcasts in Derry, Maine, are abou...  "
      ]
     },
     "execution_count": 3,
     "metadata": {},
     "output_type": "execute_result"
    }
   ],
   "source": [
    "# Columns \n",
    "Cols = ['review','wiki_name','wiki_year','rt_name',\n",
    "        'genre','release_year','stream_year','critical_consensus','description']\n",
    "\n",
    "# Rotten Tomatoes\n",
    "df_rt = pd.concat([pd.read_csv('Rotten Tomatoes/bk_rt_1_raw.csv', dtype = object)\n",
    "                   , pd.read_csv('Rotten Tomatoes/bk_rt_2_raw.csv', dtype = object)\n",
    "                   , pd.read_csv('Rotten Tomatoes/bk_rt_3_raw.csv', dtype = object)\n",
    "                   , pd.read_csv('Rotten Tomatoes/bk_rt_4_raw.csv', dtype = object)\n",
    "                   , pd.read_csv('Rotten Tomatoes/bk_rt_5_raw.csv', dtype = object)\n",
    "                   , pd.read_csv(r'C:\\Users\\james\\OneDrive\\Master of Data Science\\Data Science Master Class 1\\Assessments\\A3 - WebCrawler\\Rotten Tomatoes\\bk_rt_outstanding_raw.csv', dtype = object)\n",
    "                  ])\n",
    "df_rt.columns = Cols\n",
    "\n",
    "# Remove any duplicates\n",
    "df_rt = df_rt.drop_duplicates()\n",
    "\n",
    "print(f'{len(df_rt)} rows of data loaded for {len(df_rt.wiki_name.unique())} films')\n",
    "print(f'Therefore, {len(df_wiki) - len(df_rt.wiki_name.unique())} films were not found by the WebCrawler')\n",
    "df_rt.head(2)"
   ]
  },
  {
   "cell_type": "code",
   "execution_count": 4,
   "id": "7c08a0f0",
   "metadata": {},
   "outputs": [
    {
     "name": "stdout",
     "output_type": "stream",
     "text": [
      "95 rows of removed\n"
     ]
    }
   ],
   "source": [
    "# Remove Rotten Tomato records without reviews\n",
    "df_rt_clean = df_rt.loc[~((df_rt['review'] == 'no reviews found')\n",
    "                          |\n",
    "                          (df_rt['review'] == 'misc error')\n",
    "                          |\n",
    "                          (df_rt['review'] == '')\n",
    "                         )\n",
    "                        ,:].dropna()\n",
    "print(f'{len(df_rt) - len(df_rt_clean)} rows of removed')"
   ]
  },
  {
   "cell_type": "code",
   "execution_count": 5,
   "id": "bdd1446c",
   "metadata": {},
   "outputs": [
    {
     "data": {
      "text/html": [
       "<div>\n",
       "<style scoped>\n",
       "    .dataframe tbody tr th:only-of-type {\n",
       "        vertical-align: middle;\n",
       "    }\n",
       "\n",
       "    .dataframe tbody tr th {\n",
       "        vertical-align: top;\n",
       "    }\n",
       "\n",
       "    .dataframe thead th {\n",
       "        text-align: right;\n",
       "    }\n",
       "</style>\n",
       "<table border=\"1\" class=\"dataframe\">\n",
       "  <thead>\n",
       "    <tr style=\"text-align: right;\">\n",
       "      <th></th>\n",
       "      <th>review</th>\n",
       "      <th>wiki_name</th>\n",
       "      <th>wiki_year</th>\n",
       "      <th>rt_name</th>\n",
       "      <th>genre</th>\n",
       "      <th>release_year</th>\n",
       "      <th>stream_year</th>\n",
       "      <th>critical_consensus</th>\n",
       "      <th>description</th>\n",
       "    </tr>\n",
       "  </thead>\n",
       "  <tbody>\n",
       "    <tr>\n",
       "      <th>862</th>\n",
       "      <td>Very terrible.</td>\n",
       "      <td>The Avengers</td>\n",
       "      <td>2012</td>\n",
       "      <td>The Avengers - Movie Reviews</td>\n",
       "      <td>Adventure</td>\n",
       "      <td>In Theaters:</td>\n",
       "      <td>2008</td>\n",
       "      <td>A TV spinoff that lacks enough energy to spin,...</td>\n",
       "      <td>A charismatic evil genius named Sir August de ...</td>\n",
       "    </tr>\n",
       "    <tr>\n",
       "      <th>863</th>\n",
       "      <td>The movie lets [Fiennes and Thurman] down with...</td>\n",
       "      <td>The Avengers</td>\n",
       "      <td>2012</td>\n",
       "      <td>The Avengers - Movie Reviews</td>\n",
       "      <td>Adventure</td>\n",
       "      <td>In Theaters:</td>\n",
       "      <td>2008</td>\n",
       "      <td>A TV spinoff that lacks enough energy to spin,...</td>\n",
       "      <td>A charismatic evil genius named Sir August de ...</td>\n",
       "    </tr>\n",
       "    <tr>\n",
       "      <th>864</th>\n",
       "      <td>The new Avengers is dismal in dispiriting, dre...</td>\n",
       "      <td>The Avengers</td>\n",
       "      <td>2012</td>\n",
       "      <td>The Avengers - Movie Reviews</td>\n",
       "      <td>Adventure</td>\n",
       "      <td>In Theaters:</td>\n",
       "      <td>2008</td>\n",
       "      <td>A TV spinoff that lacks enough energy to spin,...</td>\n",
       "      <td>A charismatic evil genius named Sir August de ...</td>\n",
       "    </tr>\n",
       "    <tr>\n",
       "      <th>865</th>\n",
       "      <td>Some bad movies are bold outrages; many others...</td>\n",
       "      <td>The Avengers</td>\n",
       "      <td>2012</td>\n",
       "      <td>The Avengers - Movie Reviews</td>\n",
       "      <td>Adventure</td>\n",
       "      <td>In Theaters:</td>\n",
       "      <td>2008</td>\n",
       "      <td>A TV spinoff that lacks enough energy to spin,...</td>\n",
       "      <td>A charismatic evil genius named Sir August de ...</td>\n",
       "    </tr>\n",
       "    <tr>\n",
       "      <th>866</th>\n",
       "      <td>This Avengers film is so horrendously, painful...</td>\n",
       "      <td>The Avengers</td>\n",
       "      <td>2012</td>\n",
       "      <td>The Avengers - Movie Reviews</td>\n",
       "      <td>Adventure</td>\n",
       "      <td>In Theaters:</td>\n",
       "      <td>2008</td>\n",
       "      <td>A TV spinoff that lacks enough energy to spin,...</td>\n",
       "      <td>A charismatic evil genius named Sir August de ...</td>\n",
       "    </tr>\n",
       "  </tbody>\n",
       "</table>\n",
       "</div>"
      ],
      "text/plain": [
       "                                                review     wiki_name  \\\n",
       "862                                     Very terrible.  The Avengers   \n",
       "863  The movie lets [Fiennes and Thurman] down with...  The Avengers   \n",
       "864  The new Avengers is dismal in dispiriting, dre...  The Avengers   \n",
       "865  Some bad movies are bold outrages; many others...  The Avengers   \n",
       "866  This Avengers film is so horrendously, painful...  The Avengers   \n",
       "\n",
       "    wiki_year                       rt_name      genre  release_year  \\\n",
       "862      2012  The Avengers - Movie Reviews  Adventure  In Theaters:   \n",
       "863      2012  The Avengers - Movie Reviews  Adventure  In Theaters:   \n",
       "864      2012  The Avengers - Movie Reviews  Adventure  In Theaters:   \n",
       "865      2012  The Avengers - Movie Reviews  Adventure  In Theaters:   \n",
       "866      2012  The Avengers - Movie Reviews  Adventure  In Theaters:   \n",
       "\n",
       "    stream_year                                 critical_consensus  \\\n",
       "862        2008  A TV spinoff that lacks enough energy to spin,...   \n",
       "863        2008  A TV spinoff that lacks enough energy to spin,...   \n",
       "864        2008  A TV spinoff that lacks enough energy to spin,...   \n",
       "865        2008  A TV spinoff that lacks enough energy to spin,...   \n",
       "866        2008  A TV spinoff that lacks enough energy to spin,...   \n",
       "\n",
       "                                           description  \n",
       "862  A charismatic evil genius named Sir August de ...  \n",
       "863  A charismatic evil genius named Sir August de ...  \n",
       "864  A charismatic evil genius named Sir August de ...  \n",
       "865  A charismatic evil genius named Sir August de ...  \n",
       "866  A charismatic evil genius named Sir August de ...  "
      ]
     },
     "execution_count": 5,
     "metadata": {},
     "output_type": "execute_result"
    }
   ],
   "source": [
    "# Film has no release year and stream year doesn't align to year from the Box Office Mojo data.\n",
    "df_rt_clean[df_rt_clean.wiki_name == 'The Avengers'].head()"
   ]
  },
  {
   "cell_type": "code",
   "execution_count": 6,
   "id": "40fe4a08",
   "metadata": {},
   "outputs": [
    {
     "name": "stdout",
     "output_type": "stream",
     "text": [
      "251 of films remaining with a total of 4768 reviews\n"
     ]
    },
    {
     "data": {
      "text/html": [
       "<div>\n",
       "<style scoped>\n",
       "    .dataframe tbody tr th:only-of-type {\n",
       "        vertical-align: middle;\n",
       "    }\n",
       "\n",
       "    .dataframe tbody tr th {\n",
       "        vertical-align: top;\n",
       "    }\n",
       "\n",
       "    .dataframe thead th {\n",
       "        text-align: right;\n",
       "    }\n",
       "</style>\n",
       "<table border=\"1\" class=\"dataframe\">\n",
       "  <thead>\n",
       "    <tr style=\"text-align: right;\">\n",
       "      <th></th>\n",
       "      <th>review</th>\n",
       "      <th>wiki_name</th>\n",
       "      <th>wiki_year</th>\n",
       "      <th>rt_name</th>\n",
       "      <th>genre</th>\n",
       "      <th>release_year</th>\n",
       "      <th>stream_year</th>\n",
       "      <th>critical_consensus</th>\n",
       "      <th>description</th>\n",
       "    </tr>\n",
       "  </thead>\n",
       "  <tbody>\n",
       "    <tr>\n",
       "      <th>292</th>\n",
       "      <td>[ ‘Here are beauties that pierce like swords o...</td>\n",
       "      <td>The Lord of the Rings: The Fellowship of the Ring</td>\n",
       "      <td>2001</td>\n",
       "      <td>The Lord of the Rings: The Fellowship of the R...</td>\n",
       "      <td>Fantasy , Adventure</td>\n",
       "      <td>2001</td>\n",
       "      <td>2011</td>\n",
       "      <td>Full of eye-popping special effects, and featu...</td>\n",
       "      <td>The future of civilization rests in the fate o...</td>\n",
       "    </tr>\n",
       "    <tr>\n",
       "      <th>953</th>\n",
       "      <td>[\"...for me to consider Captain America: Civil...</td>\n",
       "      <td>Captain America: Civil War</td>\n",
       "      <td>2016</td>\n",
       "      <td>Captain America: Civil War - Movie Reviews</td>\n",
       "      <td>Action , Fantasy , Adventure</td>\n",
       "      <td>2016</td>\n",
       "      <td>2016</td>\n",
       "      <td>Captain America: Civil War begins the next wav...</td>\n",
       "      <td>Political pressure mounts to install a system ...</td>\n",
       "    </tr>\n",
       "    <tr>\n",
       "      <th>255</th>\n",
       "      <td>[\"After all these years, I just sort of go wit...</td>\n",
       "      <td>Harry Potter and the Half-Blood Prince</td>\n",
       "      <td>2009</td>\n",
       "      <td>Harry Potter and the Half-Blood Prince - Movie...</td>\n",
       "      <td>Fantasy , Kids &amp; Family , Adventure</td>\n",
       "      <td>2009</td>\n",
       "      <td>2011</td>\n",
       "      <td>Dark, thrilling, and occasionally quite funny,...</td>\n",
       "      <td>As Death Eaters wreak havoc in both Muggle and...</td>\n",
       "    </tr>\n",
       "    <tr>\n",
       "      <th>592</th>\n",
       "      <td>[\"All I want is your protection,\" he says to B...</td>\n",
       "      <td>The Twilight Saga: Eclipse</td>\n",
       "      <td>2010</td>\n",
       "      <td>The Twilight Saga: Eclipse - Movie Reviews</td>\n",
       "      <td>Romance , Fantasy</td>\n",
       "      <td>2010</td>\n",
       "      <td>2014</td>\n",
       "      <td>Stuffed with characters and overly reliant on ...</td>\n",
       "      <td>Danger once again surrounds Bella (Kristen Ste...</td>\n",
       "    </tr>\n",
       "    <tr>\n",
       "      <th>763</th>\n",
       "      <td>[\"Annabelle Comes Home\" is so low stakes it's ...</td>\n",
       "      <td>Annabelle Comes Home</td>\n",
       "      <td>2019</td>\n",
       "      <td>Annabelle Comes Home - Movie Reviews</td>\n",
       "      <td>Mystery &amp; Thriller , Horror</td>\n",
       "      <td>2019</td>\n",
       "      <td>2019</td>\n",
       "      <td>Fun for fans even if it isn't as frightening a...</td>\n",
       "      <td>Determined to keep Annabelle from wreaking mor...</td>\n",
       "    </tr>\n",
       "  </tbody>\n",
       "</table>\n",
       "</div>"
      ],
      "text/plain": [
       "                                                review  \\\n",
       "292  [ ‘Here are beauties that pierce like swords o...   \n",
       "953  [\"...for me to consider Captain America: Civil...   \n",
       "255  [\"After all these years, I just sort of go wit...   \n",
       "592  [\"All I want is your protection,\" he says to B...   \n",
       "763  [\"Annabelle Comes Home\" is so low stakes it's ...   \n",
       "\n",
       "                                             wiki_name wiki_year  \\\n",
       "292  The Lord of the Rings: The Fellowship of the Ring      2001   \n",
       "953                         Captain America: Civil War      2016   \n",
       "255             Harry Potter and the Half-Blood Prince      2009   \n",
       "592                         The Twilight Saga: Eclipse      2010   \n",
       "763                               Annabelle Comes Home      2019   \n",
       "\n",
       "                                               rt_name  \\\n",
       "292  The Lord of the Rings: The Fellowship of the R...   \n",
       "953         Captain America: Civil War - Movie Reviews   \n",
       "255  Harry Potter and the Half-Blood Prince - Movie...   \n",
       "592         The Twilight Saga: Eclipse - Movie Reviews   \n",
       "763               Annabelle Comes Home - Movie Reviews   \n",
       "\n",
       "                                   genre release_year stream_year  \\\n",
       "292                  Fantasy , Adventure         2001        2011   \n",
       "953         Action , Fantasy , Adventure         2016        2016   \n",
       "255  Fantasy , Kids & Family , Adventure         2009        2011   \n",
       "592                    Romance , Fantasy         2010        2014   \n",
       "763          Mystery & Thriller , Horror         2019        2019   \n",
       "\n",
       "                                    critical_consensus  \\\n",
       "292  Full of eye-popping special effects, and featu...   \n",
       "953  Captain America: Civil War begins the next wav...   \n",
       "255  Dark, thrilling, and occasionally quite funny,...   \n",
       "592  Stuffed with characters and overly reliant on ...   \n",
       "763  Fun for fans even if it isn't as frightening a...   \n",
       "\n",
       "                                           description  \n",
       "292  The future of civilization rests in the fate o...  \n",
       "953  Political pressure mounts to install a system ...  \n",
       "255  As Death Eaters wreak havoc in both Muggle and...  \n",
       "592  Danger once again surrounds Bella (Kristen Ste...  \n",
       "763  Determined to keep Annabelle from wreaking mor...  "
      ]
     },
     "execution_count": 6,
     "metadata": {},
     "output_type": "execute_result"
    }
   ],
   "source": [
    "# Group records into a single line per film (reviews become a list of reviews)\n",
    "df_rt_clean = rev_group_list(df_rt_clean, 'review', 'wiki_name')\n",
    "\n",
    "# Remove records where release year != mojo_year\n",
    "df_rt_clean = df_rt_clean[df_rt_clean['wiki_year'] == df_rt_clean['release_year']]\n",
    "\n",
    "# Number of reviews remaining\n",
    "n = 0\n",
    "for i in df_rt_clean['review']:\n",
    "    for j in i: \n",
    "        n+=1\n",
    "\n",
    "print(f'{len(df_rt_clean)} of films remaining with a total of {n} reviews')\n",
    "\n",
    "df_rt_clean.head()"
   ]
  },
  {
   "cell_type": "markdown",
   "id": "fc0e503b",
   "metadata": {},
   "source": [
    "### Merge DataFrames"
   ]
  },
  {
   "cell_type": "code",
   "execution_count": 7,
   "id": "65c8d71a",
   "metadata": {},
   "outputs": [
    {
     "name": "stdout",
     "output_type": "stream",
     "text": [
      "Number of films merged:  251\n"
     ]
    }
   ],
   "source": [
    "# Merge Rotten Tomatoes data\n",
    "df_merge = df_wiki.merge(df_rt_clean\n",
    "                         , how='left'\n",
    "                         , left_on = ['Title', 'Year']\n",
    "                         , right_on = ['wiki_name', 'wiki_year'])\n",
    "\n",
    "# Filter to columns that we will need\n",
    "df_merge = df_merge.loc[:,['Title'\n",
    "                          , 'Year'\n",
    "                          , 'genre'\n",
    "                          , 'description'\n",
    "                          , 'critical_consensus'\n",
    "                          , 'review']]\n",
    "\n",
    "# Rename columns\n",
    "df_merge.columns = ['title'\n",
    "                  , 'year'\n",
    "                  , 'genre'\n",
    "                  , 'movie_description'\n",
    "                  , 'critical_consensus'\n",
    "                  , 'review']\n",
    "\n",
    "# Remove any empty rows remaining\n",
    "df_merge = df_merge.dropna()\n",
    "\n",
    "print('Number of films merged: ', len(df_merge))"
   ]
  },
  {
   "cell_type": "code",
   "execution_count": 8,
   "id": "9251d955",
   "metadata": {},
   "outputs": [
    {
     "data": {
      "image/png": "[encoded data removed]",
      "text/plain": [
       "<Figure size 288x576 with 1 Axes>"
      ]
     },
     "metadata": {
      "needs_background": "light"
     },
     "output_type": "display_data"
    }
   ],
   "source": [
    "freq_words_chart(df_merge['review'].apply(lambda x: '| '.join(x)), 50, 'Reviews', 4)"
   ]
  },
  {
   "cell_type": "code",
   "execution_count": 9,
   "id": "718f266c",
   "metadata": {},
   "outputs": [
    {
     "data": {
      "image/png": "[encoded data removed]",
      "text/plain": [
       "<Figure size 288x576 with 1 Axes>"
      ]
     },
     "metadata": {
      "needs_background": "light"
     },
     "output_type": "display_data"
    }
   ],
   "source": [
    "freq_words_chart(df_merge['movie_description'], 50, 'Description', 4)"
   ]
  },
  {
   "cell_type": "code",
   "execution_count": 10,
   "id": "11fdc6ca",
   "metadata": {},
   "outputs": [
    {
     "data": {
      "image/png": "[encoded data removed]",
      "text/plain": [
       "<Figure size 288x576 with 1 Axes>"
      ]
     },
     "metadata": {
      "needs_background": "light"
     },
     "output_type": "display_data"
    }
   ],
   "source": [
    "freq_words_chart(df_merge['critical_consensus'], 50, 'Critical Consensus', 4)"
   ]
  },
  {
   "cell_type": "code",
   "execution_count": 11,
   "id": "86c9526f",
   "metadata": {},
   "outputs": [
    {
     "data": {
      "text/plain": [
       "Text(0.5, 1.0, 'Description word count distribution')"
      ]
     },
     "execution_count": 11,
     "metadata": {},
     "output_type": "execute_result"
    },
    {
     "data": {
      "image/png": "[encoded data removed]",
      "text/plain": [
       "<Figure size 288x288 with 1 Axes>"
      ]
     },
     "metadata": {
      "needs_background": "light"
     },
     "output_type": "display_data"
    }
   ],
   "source": [
    "des_len = df_merge['movie_description'].apply(lambda x: len(x))\n",
    "plt.figure(figsize=(4,4))\n",
    "sns.histplot(des_len, bins = 30, )\n",
    "plt.title('Description word count distribution')"
   ]
  },
  {
   "cell_type": "code",
   "execution_count": 12,
   "id": "35da388a",
   "metadata": {},
   "outputs": [
    {
     "data": {
      "text/plain": [
       "Text(0.5, 1.0, 'Review word count distribution')"
      ]
     },
     "execution_count": 12,
     "metadata": {},
     "output_type": "execute_result"
    },
    {
     "data": {
      "image/png": "[encoded data removed]",
      "text/plain": [
       "<Figure size 288x288 with 1 Axes>"
      ]
     },
     "metadata": {
      "needs_background": "light"
     },
     "output_type": "display_data"
    }
   ],
   "source": [
    "rev_len = df_merge['review'].apply(lambda x: len(', '.join(x)))\n",
    "plt.figure(figsize=(4,4))\n",
    "sns.histplot(rev_len)\n",
    "plt.title('Review word count distribution')"
   ]
  },
  {
   "cell_type": "code",
   "execution_count": 13,
   "id": "bae30268",
   "metadata": {},
   "outputs": [
    {
     "data": {
      "text/plain": [
       "Text(0.5, 1.0, 'Critical Consensus word count distribution')"
      ]
     },
     "execution_count": 13,
     "metadata": {},
     "output_type": "execute_result"
    },
    {
     "data": {
      "image/png": "[encoded data removed]",
      "text/plain": [
       "<Figure size 288x288 with 1 Axes>"
      ]
     },
     "metadata": {
      "needs_background": "light"
     },
     "output_type": "display_data"
    }
   ],
   "source": [
    "rev_len = df_merge['critical_consensus'].apply(lambda x: len(', '.join(x)))\n",
    "plt.figure(figsize=(4,4))\n",
    "sns.histplot(rev_len, bins = 30)\n",
    "plt.title('Critical Consensus word count distribution')"
   ]
  },
  {
   "cell_type": "markdown",
   "id": "e7cd6c59",
   "metadata": {},
   "source": [
    "Reducing the Genres"
   ]
  },
  {
   "cell_type": "code",
   "execution_count": 14,
   "id": "209f6894",
   "metadata": {},
   "outputs": [
    {
     "data": {
      "text/html": [
       "<style  type=\"text/css\" >\n",
       "#T_707c4_row0_col1{\n",
       "            width:  10em;\n",
       "             height:  80%;\n",
       "            background:  linear-gradient(90deg,#d65f5f 100.0%, transparent 100.0%);\n",
       "        }#T_707c4_row1_col1{\n",
       "            width:  10em;\n",
       "             height:  80%;\n",
       "            background:  linear-gradient(90deg,#d65f5f 75.0%, transparent 75.0%);\n",
       "        }#T_707c4_row2_col1{\n",
       "            width:  10em;\n",
       "             height:  80%;\n",
       "            background:  linear-gradient(90deg,#d65f5f 67.6%, transparent 67.6%);\n",
       "        }#T_707c4_row3_col1{\n",
       "            width:  10em;\n",
       "             height:  80%;\n",
       "            background:  linear-gradient(90deg,#d65f5f 52.0%, transparent 52.0%);\n",
       "        }#T_707c4_row4_col1{\n",
       "            width:  10em;\n",
       "             height:  80%;\n",
       "            background:  linear-gradient(90deg,#d65f5f 41.2%, transparent 41.2%);\n",
       "        }#T_707c4_row5_col1{\n",
       "            width:  10em;\n",
       "             height:  80%;\n",
       "            background:  linear-gradient(90deg,#d65f5f 38.5%, transparent 38.5%);\n",
       "        }#T_707c4_row6_col1,#T_707c4_row7_col1{\n",
       "            width:  10em;\n",
       "             height:  80%;\n",
       "            background:  linear-gradient(90deg,#d65f5f 25.0%, transparent 25.0%);\n",
       "        }#T_707c4_row8_col1{\n",
       "            width:  10em;\n",
       "             height:  80%;\n",
       "            background:  linear-gradient(90deg,#d65f5f 23.0%, transparent 23.0%);\n",
       "        }#T_707c4_row9_col1{\n",
       "            width:  10em;\n",
       "             height:  80%;\n",
       "            background:  linear-gradient(90deg,#d65f5f 16.2%, transparent 16.2%);\n",
       "        }#T_707c4_row10_col1{\n",
       "            width:  10em;\n",
       "             height:  80%;\n",
       "            background:  linear-gradient(90deg,#d65f5f 6.8%, transparent 6.8%);\n",
       "        }#T_707c4_row11_col1,#T_707c4_row12_col1{\n",
       "            width:  10em;\n",
       "             height:  80%;\n",
       "            background:  linear-gradient(90deg,#d65f5f 3.4%, transparent 3.4%);\n",
       "        }#T_707c4_row13_col1{\n",
       "            width:  10em;\n",
       "             height:  80%;\n",
       "            background:  linear-gradient(90deg,#d65f5f 2.7%, transparent 2.7%);\n",
       "        }#T_707c4_row14_col1,#T_707c4_row15_col1{\n",
       "            width:  10em;\n",
       "             height:  80%;\n",
       "            background:  linear-gradient(90deg,#d65f5f 1.4%, transparent 1.4%);\n",
       "        }#T_707c4_row16_col1,#T_707c4_row17_col1{\n",
       "            width:  10em;\n",
       "             height:  80%;\n",
       "            background:  linear-gradient(90deg,#d65f5f 0.7%, transparent 0.7%);\n",
       "        }#T_707c4_row18_col1,#T_707c4_row19_col1{\n",
       "            width:  10em;\n",
       "             height:  80%;\n",
       "        }</style><table id=\"T_707c4_\" ><thead>    <tr>        <th class=\"blank level0\" ></th>        <th class=\"col_heading level0 col0\" >Genres</th>        <th class=\"col_heading level0 col1\" >Percentage</th>    </tr></thead><tbody>\n",
       "                <tr>\n",
       "                        <th id=\"T_707c4_level0_row0\" class=\"row_heading level0 row0\" >0</th>\n",
       "                        <td id=\"T_707c4_row0_col0\" class=\"data row0 col0\" >Adventure</td>\n",
       "                        <td id=\"T_707c4_row0_col1\" class=\"data row0 col1\" >20.244565</td>\n",
       "            </tr>\n",
       "            <tr>\n",
       "                        <th id=\"T_707c4_level0_row1\" class=\"row_heading level0 row1\" >1</th>\n",
       "                        <td id=\"T_707c4_row1_col0\" class=\"data row1 col0\" >Action</td>\n",
       "                        <td id=\"T_707c4_row1_col1\" class=\"data row1 col1\" >15.217391</td>\n",
       "            </tr>\n",
       "            <tr>\n",
       "                        <th id=\"T_707c4_level0_row2\" class=\"row_heading level0 row2\" >2</th>\n",
       "                        <td id=\"T_707c4_row2_col0\" class=\"data row2 col0\" >Fantasy</td>\n",
       "                        <td id=\"T_707c4_row2_col1\" class=\"data row2 col1\" >13.722826</td>\n",
       "            </tr>\n",
       "            <tr>\n",
       "                        <th id=\"T_707c4_level0_row3\" class=\"row_heading level0 row3\" >3</th>\n",
       "                        <td id=\"T_707c4_row3_col0\" class=\"data row3 col0\" >Comedy</td>\n",
       "                        <td id=\"T_707c4_row3_col1\" class=\"data row3 col1\" >10.597826</td>\n",
       "            </tr>\n",
       "            <tr>\n",
       "                        <th id=\"T_707c4_level0_row4\" class=\"row_heading level0 row4\" >4</th>\n",
       "                        <td id=\"T_707c4_row4_col0\" class=\"data row4 col0\" >Sci-Fi</td>\n",
       "                        <td id=\"T_707c4_row4_col1\" class=\"data row4 col1\" >8.423913</td>\n",
       "            </tr>\n",
       "            <tr>\n",
       "                        <th id=\"T_707c4_level0_row5\" class=\"row_heading level0 row5\" >5</th>\n",
       "                        <td id=\"T_707c4_row5_col0\" class=\"data row5 col0\" >Kids & Family</td>\n",
       "                        <td id=\"T_707c4_row5_col1\" class=\"data row5 col1\" >7.880435</td>\n",
       "            </tr>\n",
       "            <tr>\n",
       "                        <th id=\"T_707c4_level0_row6\" class=\"row_heading level0 row6\" >6</th>\n",
       "                        <td id=\"T_707c4_row6_col0\" class=\"data row6 col0\" >Animation</td>\n",
       "                        <td id=\"T_707c4_row6_col1\" class=\"data row6 col1\" >5.163043</td>\n",
       "            </tr>\n",
       "            <tr>\n",
       "                        <th id=\"T_707c4_level0_row7\" class=\"row_heading level0 row7\" >7</th>\n",
       "                        <td id=\"T_707c4_row7_col0\" class=\"data row7 col0\" >Mystery & Thriller</td>\n",
       "                        <td id=\"T_707c4_row7_col1\" class=\"data row7 col1\" >5.163043</td>\n",
       "            </tr>\n",
       "            <tr>\n",
       "                        <th id=\"T_707c4_level0_row8\" class=\"row_heading level0 row8\" >8</th>\n",
       "                        <td id=\"T_707c4_row8_col0\" class=\"data row8 col0\" >Drama</td>\n",
       "                        <td id=\"T_707c4_row8_col1\" class=\"data row8 col1\" >4.755435</td>\n",
       "            </tr>\n",
       "            <tr>\n",
       "                        <th id=\"T_707c4_level0_row9\" class=\"row_heading level0 row9\" >9</th>\n",
       "                        <td id=\"T_707c4_row9_col0\" class=\"data row9 col0\" >Horror</td>\n",
       "                        <td id=\"T_707c4_row9_col1\" class=\"data row9 col1\" >3.396739</td>\n",
       "            </tr>\n",
       "            <tr>\n",
       "                        <th id=\"T_707c4_level0_row10\" class=\"row_heading level0 row10\" >10</th>\n",
       "                        <td id=\"T_707c4_row10_col0\" class=\"data row10 col0\" >Romance</td>\n",
       "                        <td id=\"T_707c4_row10_col1\" class=\"data row10 col1\" >1.494565</td>\n",
       "            </tr>\n",
       "            <tr>\n",
       "                        <th id=\"T_707c4_level0_row11\" class=\"row_heading level0 row11\" >11</th>\n",
       "                        <td id=\"T_707c4_row11_col0\" class=\"data row11 col0\" >Musical</td>\n",
       "                        <td id=\"T_707c4_row11_col1\" class=\"data row11 col1\" >0.815217</td>\n",
       "            </tr>\n",
       "            <tr>\n",
       "                        <th id=\"T_707c4_level0_row12\" class=\"row_heading level0 row12\" >12</th>\n",
       "                        <td id=\"T_707c4_row12_col0\" class=\"data row12 col0\" >Biography</td>\n",
       "                        <td id=\"T_707c4_row12_col1\" class=\"data row12 col1\" >0.815217</td>\n",
       "            </tr>\n",
       "            <tr>\n",
       "                        <th id=\"T_707c4_level0_row13\" class=\"row_heading level0 row13\" >13</th>\n",
       "                        <td id=\"T_707c4_row13_col0\" class=\"data row13 col0\" >History</td>\n",
       "                        <td id=\"T_707c4_row13_col1\" class=\"data row13 col1\" >0.679348</td>\n",
       "            </tr>\n",
       "            <tr>\n",
       "                        <th id=\"T_707c4_level0_row14\" class=\"row_heading level0 row14\" >14</th>\n",
       "                        <td id=\"T_707c4_row14_col0\" class=\"data row14 col0\" >Crime</td>\n",
       "                        <td id=\"T_707c4_row14_col1\" class=\"data row14 col1\" >0.407609</td>\n",
       "            </tr>\n",
       "            <tr>\n",
       "                        <th id=\"T_707c4_level0_row15\" class=\"row_heading level0 row15\" >15</th>\n",
       "                        <td id=\"T_707c4_row15_col0\" class=\"data row15 col0\" >Sports & Fitness</td>\n",
       "                        <td id=\"T_707c4_row15_col1\" class=\"data row15 col1\" >0.407609</td>\n",
       "            </tr>\n",
       "            <tr>\n",
       "                        <th id=\"T_707c4_level0_row16\" class=\"row_heading level0 row16\" >16</th>\n",
       "                        <td id=\"T_707c4_row16_col0\" class=\"data row16 col0\" >Other</td>\n",
       "                        <td id=\"T_707c4_row16_col1\" class=\"data row16 col1\" >0.271739</td>\n",
       "            </tr>\n",
       "            <tr>\n",
       "                        <th id=\"T_707c4_level0_row17\" class=\"row_heading level0 row17\" >17</th>\n",
       "                        <td id=\"T_707c4_row17_col0\" class=\"data row17 col0\" >Anime</td>\n",
       "                        <td id=\"T_707c4_row17_col1\" class=\"data row17 col1\" >0.271739</td>\n",
       "            </tr>\n",
       "            <tr>\n",
       "                        <th id=\"T_707c4_level0_row18\" class=\"row_heading level0 row18\" >18</th>\n",
       "                        <td id=\"T_707c4_row18_col0\" class=\"data row18 col0\" >LGBTQ+</td>\n",
       "                        <td id=\"T_707c4_row18_col1\" class=\"data row18 col1\" >0.135870</td>\n",
       "            </tr>\n",
       "            <tr>\n",
       "                        <th id=\"T_707c4_level0_row19\" class=\"row_heading level0 row19\" >19</th>\n",
       "                        <td id=\"T_707c4_row19_col0\" class=\"data row19 col0\" >Music</td>\n",
       "                        <td id=\"T_707c4_row19_col1\" class=\"data row19 col1\" >0.135870</td>\n",
       "            </tr>\n",
       "    </tbody></table>"
      ],
      "text/plain": [
       "<pandas.io.formats.style.Styler at 0x214d1725ee0>"
      ]
     },
     "execution_count": 14,
     "metadata": {},
     "output_type": "execute_result"
    }
   ],
   "source": [
    "df_merge[\"genre\"] = df_merge[\"genre\"].apply(lambda x: x.split(' , '))\n",
    "\n",
    "# Plot genres\n",
    "a = df_merge[\"genre\"]\n",
    "b = []\n",
    "for i in a:\n",
    "    for j in i:\n",
    "        b.append(j)\n",
    "\n",
    "#freq_words_chart(b, 50, 'Description')\n",
    "b_df = pd.DataFrame(b, columns=['Genres'])\n",
    "b_df = (b_df.value_counts() / len(b_df) * 100).reset_index()\n",
    "b_df.columns = ['Genres', 'Percentage']\n",
    "b_df.style.bar()"
   ]
  },
  {
   "cell_type": "code",
   "execution_count": 15,
   "id": "d422de55",
   "metadata": {},
   "outputs": [],
   "source": [
    "dict_genres = { 'Adventure': 'Adventure',\n",
    "                'Action': 'Action',\n",
    "                'Fantasy': 'Fantasy',\n",
    "                'Comedy': 'Comedy',\n",
    "                'Sci-Fi': 'Sci-Fi',\n",
    "                'Kids & Family': 'Kids, Family & Animation',\n",
    "                'Animation': 'Kids, Family & Animation',\n",
    "                'Mystery & Thriller': 'Mystery, Thriller & Horror',\n",
    "                'Drama': 'Drama & Romance',\n",
    "                'Horror': 'Mystery, Thriller & Horror',\n",
    "                'Romance': 'Drama & Romance',\n",
    "                'Musical': 'Drama & Romance',\n",
    "                'Biography': '',\n",
    "                'History': '',\n",
    "                'Crime': 'Mystery, Thriller & Horror',\n",
    "                'Sports & Fitness': '',\n",
    "                'Other': '',\n",
    "                'Anime': 'Kids, Family & Animation',\n",
    "                'LGBTQ+': 'Drama & Romance',\n",
    "                'Music': 'Drama & Romance'}\n",
    "\n",
    "df_merge[\"genre\"] = df_merge[\"genre\"].apply(lambda x: [*map(dict_genres.get, x)])\n",
    "df_merge[\"genre\"] = df_merge[\"genre\"].apply(lambda x: [a for a in x if a])\n"
   ]
  },
  {
   "cell_type": "code",
   "execution_count": 16,
   "id": "dc87c9aa",
   "metadata": {},
   "outputs": [
    {
     "data": {
      "text/plain": [
       "{'Action',\n",
       " 'Adventure',\n",
       " 'Animation',\n",
       " 'Anime',\n",
       " 'Biography',\n",
       " 'Comedy',\n",
       " 'Crime',\n",
       " 'Drama',\n",
       " 'Fantasy',\n",
       " 'History',\n",
       " 'Horror',\n",
       " 'Kids & Family',\n",
       " 'LGBTQ+',\n",
       " 'Music',\n",
       " 'Musical',\n",
       " 'Mystery & Thriller',\n",
       " 'Other',\n",
       " 'Romance',\n",
       " 'Sci-Fi',\n",
       " 'Sports & Fitness'}"
      ]
     },
     "execution_count": 16,
     "metadata": {},
     "output_type": "execute_result"
    }
   ],
   "source": [
    "set(b)"
   ]
  },
  {
   "cell_type": "code",
   "execution_count": 17,
   "id": "6d6e74b9",
   "metadata": {},
   "outputs": [
    {
     "data": {
      "text/html": [
       "<style  type=\"text/css\" >\n",
       "#T_d655c_row0_col1{\n",
       "            width:  10em;\n",
       "             height:  80%;\n",
       "            background:  linear-gradient(90deg,#d65f5f 100.0%, transparent 100.0%);\n",
       "        }#T_d655c_row1_col1{\n",
       "            width:  10em;\n",
       "             height:  80%;\n",
       "            background:  linear-gradient(90deg,#d65f5f 61.1%, transparent 61.1%);\n",
       "        }#T_d655c_row2_col1{\n",
       "            width:  10em;\n",
       "             height:  80%;\n",
       "            background:  linear-gradient(90deg,#d65f5f 49.5%, transparent 49.5%);\n",
       "        }#T_d655c_row3_col1{\n",
       "            width:  10em;\n",
       "             height:  80%;\n",
       "            background:  linear-gradient(90deg,#d65f5f 46.3%, transparent 46.3%);\n",
       "        }#T_d655c_row4_col1{\n",
       "            width:  10em;\n",
       "             height:  80%;\n",
       "            background:  linear-gradient(90deg,#d65f5f 25.3%, transparent 25.3%);\n",
       "        }#T_d655c_row5_col1{\n",
       "            width:  10em;\n",
       "             height:  80%;\n",
       "            background:  linear-gradient(90deg,#d65f5f 12.6%, transparent 12.6%);\n",
       "        }#T_d655c_row6_col1{\n",
       "            width:  10em;\n",
       "             height:  80%;\n",
       "            background:  linear-gradient(90deg,#d65f5f 8.4%, transparent 8.4%);\n",
       "        }#T_d655c_row7_col1{\n",
       "            width:  10em;\n",
       "             height:  80%;\n",
       "        }</style><table id=\"T_d655c_\" ><thead>    <tr>        <th class=\"blank level0\" ></th>        <th class=\"col_heading level0 col0\" >Genres</th>        <th class=\"col_heading level0 col1\" >Percentage</th>    </tr></thead><tbody>\n",
       "                <tr>\n",
       "                        <th id=\"T_d655c_level0_row0\" class=\"row_heading level0 row0\" >0</th>\n",
       "                        <td id=\"T_d655c_row0_col0\" class=\"data row0 col0\" >Adventure</td>\n",
       "                        <td id=\"T_d655c_row0_col1\" class=\"data row0 col1\" >20.694444</td>\n",
       "            </tr>\n",
       "            <tr>\n",
       "                        <th id=\"T_d655c_level0_row1\" class=\"row_heading level0 row1\" >1</th>\n",
       "                        <td id=\"T_d655c_row1_col0\" class=\"data row1 col0\" >Action</td>\n",
       "                        <td id=\"T_d655c_row1_col1\" class=\"data row1 col1\" >15.555556</td>\n",
       "            </tr>\n",
       "            <tr>\n",
       "                        <th id=\"T_d655c_level0_row2\" class=\"row_heading level0 row2\" >2</th>\n",
       "                        <td id=\"T_d655c_row2_col0\" class=\"data row2 col0\" >Fantasy</td>\n",
       "                        <td id=\"T_d655c_row2_col1\" class=\"data row2 col1\" >14.027778</td>\n",
       "            </tr>\n",
       "            <tr>\n",
       "                        <th id=\"T_d655c_level0_row3\" class=\"row_heading level0 row3\" >3</th>\n",
       "                        <td id=\"T_d655c_row3_col0\" class=\"data row3 col0\" >Kids, Family & Animation</td>\n",
       "                        <td id=\"T_d655c_row3_col1\" class=\"data row3 col1\" >13.611111</td>\n",
       "            </tr>\n",
       "            <tr>\n",
       "                        <th id=\"T_d655c_level0_row4\" class=\"row_heading level0 row4\" >4</th>\n",
       "                        <td id=\"T_d655c_row4_col0\" class=\"data row4 col0\" >Comedy</td>\n",
       "                        <td id=\"T_d655c_row4_col1\" class=\"data row4 col1\" >10.833333</td>\n",
       "            </tr>\n",
       "            <tr>\n",
       "                        <th id=\"T_d655c_level0_row5\" class=\"row_heading level0 row5\" >5</th>\n",
       "                        <td id=\"T_d655c_row5_col0\" class=\"data row5 col0\" >Mystery, Thriller & Horror</td>\n",
       "                        <td id=\"T_d655c_row5_col1\" class=\"data row5 col1\" >9.166667</td>\n",
       "            </tr>\n",
       "            <tr>\n",
       "                        <th id=\"T_d655c_level0_row6\" class=\"row_heading level0 row6\" >6</th>\n",
       "                        <td id=\"T_d655c_row6_col0\" class=\"data row6 col0\" >Sci-Fi</td>\n",
       "                        <td id=\"T_d655c_row6_col1\" class=\"data row6 col1\" >8.611111</td>\n",
       "            </tr>\n",
       "            <tr>\n",
       "                        <th id=\"T_d655c_level0_row7\" class=\"row_heading level0 row7\" >7</th>\n",
       "                        <td id=\"T_d655c_row7_col0\" class=\"data row7 col0\" >Drama & Romance</td>\n",
       "                        <td id=\"T_d655c_row7_col1\" class=\"data row7 col1\" >7.500000</td>\n",
       "            </tr>\n",
       "    </tbody></table>"
      ],
      "text/plain": [
       "<pandas.io.formats.style.Styler at 0x214cf0e78e0>"
      ]
     },
     "execution_count": 17,
     "metadata": {},
     "output_type": "execute_result"
    }
   ],
   "source": [
    "# Plot genres with updates\n",
    "a = df_merge[\"genre\"]\n",
    "b = []\n",
    "for i in a:\n",
    "    for j in i:\n",
    "        b.append(j)\n",
    "\n",
    "#freq_words_chart(b, 50, 'Description')\n",
    "b_df = pd.DataFrame(b, columns=['Genres'])\n",
    "b_df = (b_df.value_counts() / len(b_df) * 100).reset_index()\n",
    "b_df.columns = ['Genres', 'Percentage']\n",
    "b_df.style.bar()"
   ]
  },
  {
   "cell_type": "code",
   "execution_count": 18,
   "id": "ef81a0fc",
   "metadata": {},
   "outputs": [],
   "source": [
    "# Save dataframe to CSV\n",
    "df_merge.to_csv('bk_data_merged.csv', index = False)\n",
    "df_merge.dtypes\n",
    "\n",
    "# Create a Pickle backup to preserve data structure\n",
    "outfile = open('bk_data_merged','wb')\n",
    "pickle.dump(df_merge, outfile)\n",
    "outfile.close()"
   ]
  }
 ],
 "metadata": {
  "kernelspec": {
   "display_name": "Python 3 (ipykernel)",
   "language": "python",
   "name": "python3"
  },
  "language_info": {
   "codemirror_mode": {
    "name": "ipython",
    "version": 3
   },
   "file_extension": ".py",
   "mimetype": "text/x-python",
   "name": "python",
   "nbconvert_exporter": "python",
   "pygments_lexer": "ipython3",
   "version": "3.9.7"
  }
 },
 "nbformat": 4,
 "nbformat_minor": 5
}
