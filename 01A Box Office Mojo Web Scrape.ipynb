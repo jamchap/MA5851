{
 "cells": [
  {
   "cell_type": "markdown",
   "id": "7d99461b",
   "metadata": {},
   "source": [
    "# Web Scraping Box Office Mojo"
   ]
  },
  {
   "cell_type": "code",
   "execution_count": 1,
   "id": "c671a765",
   "metadata": {},
   "outputs": [],
   "source": [
    "import bs4\n",
    "import requests\n",
    "import pandas as pd\n",
    "import numpy as np\n",
    "import time\n",
    "import random\n",
    "import regex as re"
   ]
  },
  {
   "cell_type": "markdown",
   "id": "ede27b85",
   "metadata": {},
   "source": [
    "Form initial list of movies based off the Box Office Mojo website"
   ]
  },
  {
   "cell_type": "code",
   "execution_count": 2,
   "id": "fc2f8d77",
   "metadata": {},
   "outputs": [],
   "source": [
    "# Pages to scrape\n",
    "url_list = ['https://www.boxofficemojo.com/chart/ww_top_lifetime_gross/'\n",
    "            ,'https://www.boxofficemojo.com/chart/ww_top_lifetime_gross/?offset=200'\n",
    "            ,'https://www.boxofficemojo.com/chart/ww_top_lifetime_gross/?offset=400'\n",
    "            ,'https://www.boxofficemojo.com/chart/ww_top_lifetime_gross/?offset=600'\n",
    "            ,'https://www.boxofficemojo.com/chart/ww_top_lifetime_gross/?offset=800']\n",
    "\n",
    "# Column names\n",
    "cols = ['Rank'\n",
    "        , 'Title'\n",
    "        ,'Worldwide Lifetime Gross'\n",
    "        , 'Domestic Lifetime Gross'\n",
    "        , 'Domestic %'\n",
    "        , 'Foreign Lifetime Gross'\n",
    "        , 'Foreign %'\n",
    "        , 'Year']\n",
    "data = []\n",
    "\n",
    "# Scrape table data from URLs\n",
    "for url in url_list:\n",
    "    html_content = requests.get(url).text\n",
    "    soup = bs4.BeautifulSoup(html_content, \"lxml\")\n",
    "    \n",
    "    table = soup.find('table') \n",
    "    table_rows = table.findAll('tr')\n",
    "    \n",
    "    data.append([[td.findChildren(text=True) for td in tr.findAll(\"td\")] for tr in table_rows])\n",
    "\n",
    "# data[-1]"
   ]
  },
  {
   "cell_type": "code",
   "execution_count": 3,
   "id": "7987cadd",
   "metadata": {},
   "outputs": [
    {
     "data": {
      "text/html": [
       "<div>\n",
       "<style scoped>\n",
       "    .dataframe tbody tr th:only-of-type {\n",
       "        vertical-align: middle;\n",
       "    }\n",
       "\n",
       "    .dataframe tbody tr th {\n",
       "        vertical-align: top;\n",
       "    }\n",
       "\n",
       "    .dataframe thead th {\n",
       "        text-align: right;\n",
       "    }\n",
       "</style>\n",
       "<table border=\"1\" class=\"dataframe\">\n",
       "  <thead>\n",
       "    <tr style=\"text-align: right;\">\n",
       "      <th></th>\n",
       "      <th>Title</th>\n",
       "      <th>Worldwide Lifetime Gross</th>\n",
       "      <th>Domestic Lifetime Gross</th>\n",
       "      <th>Domestic %</th>\n",
       "      <th>Foreign Lifetime Gross</th>\n",
       "      <th>Foreign %</th>\n",
       "      <th>Year</th>\n",
       "    </tr>\n",
       "  </thead>\n",
       "  <tbody>\n",
       "    <tr>\n",
       "      <th>0</th>\n",
       "      <td>Avatar</td>\n",
       "      <td>$2,847,246,203</td>\n",
       "      <td>$760,507,625</td>\n",
       "      <td>26.7%</td>\n",
       "      <td>$2,086,738,578</td>\n",
       "      <td>73.3%</td>\n",
       "      <td>2009</td>\n",
       "    </tr>\n",
       "    <tr>\n",
       "      <th>1</th>\n",
       "      <td>Avengers: Endgame</td>\n",
       "      <td>$2,797,501,328</td>\n",
       "      <td>$858,373,000</td>\n",
       "      <td>30.7%</td>\n",
       "      <td>$1,939,128,328</td>\n",
       "      <td>69.3%</td>\n",
       "      <td>2019</td>\n",
       "    </tr>\n",
       "    <tr>\n",
       "      <th>2</th>\n",
       "      <td>Titanic</td>\n",
       "      <td>$2,201,647,264</td>\n",
       "      <td>$659,363,944</td>\n",
       "      <td>30%</td>\n",
       "      <td>$1,542,283,320</td>\n",
       "      <td>70%</td>\n",
       "      <td>1997</td>\n",
       "    </tr>\n",
       "    <tr>\n",
       "      <th>3</th>\n",
       "      <td>Star Wars: Episode VII - The Force Awakens</td>\n",
       "      <td>$2,069,521,700</td>\n",
       "      <td>$936,662,225</td>\n",
       "      <td>45.3%</td>\n",
       "      <td>$1,132,859,475</td>\n",
       "      <td>54.7%</td>\n",
       "      <td>2015</td>\n",
       "    </tr>\n",
       "    <tr>\n",
       "      <th>4</th>\n",
       "      <td>Avengers: Infinity War</td>\n",
       "      <td>$2,048,359,754</td>\n",
       "      <td>$678,815,482</td>\n",
       "      <td>33.1%</td>\n",
       "      <td>$1,369,544,272</td>\n",
       "      <td>66.9%</td>\n",
       "      <td>2018</td>\n",
       "    </tr>\n",
       "  </tbody>\n",
       "</table>\n",
       "</div>"
      ],
      "text/plain": [
       "                                        Title Worldwide Lifetime Gross  \\\n",
       "0                                      Avatar           $2,847,246,203   \n",
       "1                           Avengers: Endgame           $2,797,501,328   \n",
       "2                                     Titanic           $2,201,647,264   \n",
       "3  Star Wars: Episode VII - The Force Awakens           $2,069,521,700   \n",
       "4                      Avengers: Infinity War           $2,048,359,754   \n",
       "\n",
       "  Domestic Lifetime Gross Domestic % Foreign Lifetime Gross Foreign %  Year  \n",
       "0            $760,507,625      26.7%         $2,086,738,578     73.3%  2009  \n",
       "1            $858,373,000      30.7%         $1,939,128,328     69.3%  2019  \n",
       "2            $659,363,944        30%         $1,542,283,320       70%  1997  \n",
       "3            $936,662,225      45.3%         $1,132,859,475     54.7%  2015  \n",
       "4            $678,815,482      33.1%         $1,369,544,272     66.9%  2018  "
      ]
     },
     "execution_count": 3,
     "metadata": {},
     "output_type": "execute_result"
    }
   ],
   "source": [
    "# Transform sraped data into a dataframe\n",
    "df = pd.DataFrame()\n",
    "\n",
    "for j in range(0,len(url_list)):\n",
    "    for i in data[j]:\n",
    "        df = df.append(pd.DataFrame(i).transpose())\n",
    "\n",
    "df.columns = cols\n",
    "df.drop(columns = 'Rank', inplace=True)\n",
    "df.reset_index(drop = True, inplace = True)\n",
    "\n",
    "df.head()"
   ]
  },
  {
   "cell_type": "code",
   "execution_count": 4,
   "id": "55775183",
   "metadata": {},
   "outputs": [],
   "source": [
    "# Backup Mojo Movie list\n",
    "df.to_csv('bk_mojo.csv', index = False)"
   ]
  }
 ],
 "metadata": {
  "kernelspec": {
   "display_name": "Python 3 (ipykernel)",
   "language": "python",
   "name": "python3"
  },
  "language_info": {
   "codemirror_mode": {
    "name": "ipython",
    "version": 3
   },
   "file_extension": ".py",
   "mimetype": "text/x-python",
   "name": "python",
   "nbconvert_exporter": "python",
   "pygments_lexer": "ipython3",
   "version": "3.9.7"
  }
 },
 "nbformat": 4,
 "nbformat_minor": 5
}
