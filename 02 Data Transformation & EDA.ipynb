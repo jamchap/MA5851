{
 "cells": [
  {
   "cell_type": "code",
   "execution_count": 23,
   "id": "e0327028",
   "metadata": {},
   "outputs": [],
   "source": [
    "import pandas as pd\n",
    "import numpy as np\n",
    "\n",
    "# Custom functions\n",
    "from my_functions import *"
   ]
  },
  {
   "cell_type": "markdown",
   "id": "389641e6",
   "metadata": {},
   "source": [
    "### Import data"
   ]
  },
  {
   "cell_type": "code",
   "execution_count": 2,
   "id": "247da432",
   "metadata": {},
   "outputs": [
    {
     "data": {
      "text/html": [
       "<div>\n",
       "<style scoped>\n",
       "    .dataframe tbody tr th:only-of-type {\n",
       "        vertical-align: middle;\n",
       "    }\n",
       "\n",
       "    .dataframe tbody tr th {\n",
       "        vertical-align: top;\n",
       "    }\n",
       "\n",
       "    .dataframe thead th {\n",
       "        text-align: right;\n",
       "    }\n",
       "</style>\n",
       "<table border=\"1\" class=\"dataframe\">\n",
       "  <thead>\n",
       "    <tr style=\"text-align: right;\">\n",
       "      <th></th>\n",
       "      <th>Title</th>\n",
       "      <th>Worldwide Lifetime Gross</th>\n",
       "      <th>Domestic Lifetime Gross</th>\n",
       "      <th>Domestic %</th>\n",
       "      <th>Foreign Lifetime Gross</th>\n",
       "      <th>Foreign %</th>\n",
       "      <th>Year</th>\n",
       "    </tr>\n",
       "  </thead>\n",
       "  <tbody>\n",
       "    <tr>\n",
       "      <th>0</th>\n",
       "      <td>Avatar</td>\n",
       "      <td>$2,847,246,203</td>\n",
       "      <td>$760,507,625</td>\n",
       "      <td>26.7%</td>\n",
       "      <td>$2,086,738,578</td>\n",
       "      <td>73.3%</td>\n",
       "      <td>2009</td>\n",
       "    </tr>\n",
       "    <tr>\n",
       "      <th>1</th>\n",
       "      <td>Avengers: Endgame</td>\n",
       "      <td>$2,797,501,328</td>\n",
       "      <td>$858,373,000</td>\n",
       "      <td>30.7%</td>\n",
       "      <td>$1,939,128,328</td>\n",
       "      <td>69.3%</td>\n",
       "      <td>2019</td>\n",
       "    </tr>\n",
       "  </tbody>\n",
       "</table>\n",
       "</div>"
      ],
      "text/plain": [
       "               Title Worldwide Lifetime Gross Domestic Lifetime Gross  \\\n",
       "0             Avatar           $2,847,246,203            $760,507,625   \n",
       "1  Avengers: Endgame           $2,797,501,328            $858,373,000   \n",
       "\n",
       "  Domestic % Foreign Lifetime Gross Foreign %  Year  \n",
       "0      26.7%         $2,086,738,578     73.3%  2009  \n",
       "1      30.7%         $1,939,128,328     69.3%  2019  "
      ]
     },
     "execution_count": 2,
     "metadata": {},
     "output_type": "execute_result"
    }
   ],
   "source": [
    "# Box Office Mojo list\n",
    "df_mojo = pd.read_csv('bk_mojo.csv', dtype = object)\n",
    "df_mojo.head(2)"
   ]
  },
  {
   "cell_type": "code",
   "execution_count": 3,
   "id": "4c47272f",
   "metadata": {},
   "outputs": [
    {
     "data": {
      "text/html": [
       "<div>\n",
       "<style scoped>\n",
       "    .dataframe tbody tr th:only-of-type {\n",
       "        vertical-align: middle;\n",
       "    }\n",
       "\n",
       "    .dataframe tbody tr th {\n",
       "        vertical-align: top;\n",
       "    }\n",
       "\n",
       "    .dataframe thead th {\n",
       "        text-align: right;\n",
       "    }\n",
       "</style>\n",
       "<table border=\"1\" class=\"dataframe\">\n",
       "  <thead>\n",
       "    <tr style=\"text-align: right;\">\n",
       "      <th></th>\n",
       "      <th>Title</th>\n",
       "      <th>Year</th>\n",
       "      <th>google_use_like</th>\n",
       "      <th>google_use_score</th>\n",
       "      <th>google_use_n_rev</th>\n",
       "      <th>movie_description</th>\n",
       "      <th>imdb_score</th>\n",
       "      <th>rotten_tom_score</th>\n",
       "      <th>metacritic_score</th>\n",
       "      <th>id</th>\n",
       "    </tr>\n",
       "  </thead>\n",
       "  <tbody>\n",
       "    <tr>\n",
       "      <th>0</th>\n",
       "      <td>Avatar</td>\n",
       "      <td>2009</td>\n",
       "      <td>0.86</td>\n",
       "      <td>0.9</td>\n",
       "      <td>4274.0</td>\n",
       "      <td>Jake, who is paraplegic, replaces his twin on ...</td>\n",
       "      <td>0.78</td>\n",
       "      <td>0.81</td>\n",
       "      <td>0.83</td>\n",
       "      <td>Avatar-2009</td>\n",
       "    </tr>\n",
       "    <tr>\n",
       "      <th>1</th>\n",
       "      <td>Avengers: Endgame</td>\n",
       "      <td>2019</td>\n",
       "      <td>0.94</td>\n",
       "      <td>0.9400000000000001</td>\n",
       "      <td>22212.0</td>\n",
       "      <td>After Thanos, an intergalactic warlord, disint...</td>\n",
       "      <td>0.8400000000000001</td>\n",
       "      <td>0.94</td>\n",
       "      <td>NaN</td>\n",
       "      <td>Avengers: Endgame-2019</td>\n",
       "    </tr>\n",
       "  </tbody>\n",
       "</table>\n",
       "</div>"
      ],
      "text/plain": [
       "               Title  Year google_use_like    google_use_score  \\\n",
       "0             Avatar  2009            0.86                 0.9   \n",
       "1  Avengers: Endgame  2019            0.94  0.9400000000000001   \n",
       "\n",
       "  google_use_n_rev                                  movie_description  \\\n",
       "0           4274.0  Jake, who is paraplegic, replaces his twin on ...   \n",
       "1          22212.0  After Thanos, an intergalactic warlord, disint...   \n",
       "\n",
       "           imdb_score rotten_tom_score metacritic_score  \\\n",
       "0                0.78             0.81             0.83   \n",
       "1  0.8400000000000001             0.94              NaN   \n",
       "\n",
       "                       id  \n",
       "0             Avatar-2009  \n",
       "1  Avengers: Endgame-2019  "
      ]
     },
     "execution_count": 3,
     "metadata": {},
     "output_type": "execute_result"
    }
   ],
   "source": [
    "# Google results\n",
    "df_google = pd.read_csv('bk_google_mojo.csv', dtype = object)\n",
    "df_google.head(2)"
   ]
  },
  {
   "cell_type": "code",
   "execution_count": 4,
   "id": "586f79a9",
   "metadata": {},
   "outputs": [
    {
     "data": {
      "text/html": [
       "<div>\n",
       "<style scoped>\n",
       "    .dataframe tbody tr th:only-of-type {\n",
       "        vertical-align: middle;\n",
       "    }\n",
       "\n",
       "    .dataframe tbody tr th {\n",
       "        vertical-align: top;\n",
       "    }\n",
       "\n",
       "    .dataframe thead th {\n",
       "        text-align: right;\n",
       "    }\n",
       "</style>\n",
       "<table border=\"1\" class=\"dataframe\">\n",
       "  <thead>\n",
       "    <tr style=\"text-align: right;\">\n",
       "      <th></th>\n",
       "      <th>review</th>\n",
       "      <th>mojo_name</th>\n",
       "      <th>mojo_year</th>\n",
       "      <th>rt_name</th>\n",
       "      <th>genre</th>\n",
       "      <th>release_year</th>\n",
       "      <th>stream_year</th>\n",
       "    </tr>\n",
       "  </thead>\n",
       "  <tbody>\n",
       "    <tr>\n",
       "      <th>0</th>\n",
       "      <td>Five hundred million dollars [wasted].</td>\n",
       "      <td>Avatar</td>\n",
       "      <td>2009</td>\n",
       "      <td>Avatar - Movie Reviews</td>\n",
       "      <td>Fantasy , Action , Adventure , Sci-Fi</td>\n",
       "      <td>2009</td>\n",
       "      <td>2016</td>\n",
       "    </tr>\n",
       "    <tr>\n",
       "      <th>1</th>\n",
       "      <td>Rewatching it with fresh eyes 10 years later, ...</td>\n",
       "      <td>Avatar</td>\n",
       "      <td>2009</td>\n",
       "      <td>Avatar - Movie Reviews</td>\n",
       "      <td>Fantasy , Action , Adventure , Sci-Fi</td>\n",
       "      <td>2009</td>\n",
       "      <td>2016</td>\n",
       "    </tr>\n",
       "  </tbody>\n",
       "</table>\n",
       "</div>"
      ],
      "text/plain": [
       "                                              review mojo_name mojo_year  \\\n",
       "0             Five hundred million dollars [wasted].    Avatar      2009   \n",
       "1  Rewatching it with fresh eyes 10 years later, ...    Avatar      2009   \n",
       "\n",
       "                  rt_name                                  genre release_year  \\\n",
       "0  Avatar - Movie Reviews  Fantasy , Action , Adventure , Sci-Fi         2009   \n",
       "1  Avatar - Movie Reviews  Fantasy , Action , Adventure , Sci-Fi         2009   \n",
       "\n",
       "  stream_year  \n",
       "0        2016  \n",
       "1        2016  "
      ]
     },
     "execution_count": 4,
     "metadata": {},
     "output_type": "execute_result"
    }
   ],
   "source": [
    "# Rotten Tomatoes\n",
    "df_rt = pd.concat([pd.read_csv('bk_rt_1_raw.csv', dtype = object)\n",
    "                   , pd.read_csv('bk_rt_2_raw.csv', dtype = object)\n",
    "                   , pd.read_csv('bk_rt_3_raw.csv', dtype = object)\n",
    "                   , pd.read_csv('bk_rt_4_raw.csv', dtype = object)])\n",
    "df_rt.head(2)"
   ]
  },
  {
   "cell_type": "code",
   "execution_count": 5,
   "id": "40fe4a08",
   "metadata": {},
   "outputs": [
    {
     "name": "stdout",
     "output_type": "stream",
     "text": [
      "Number of records remaining:  669\n"
     ]
    },
    {
     "data": {
      "text/html": [
       "<div>\n",
       "<style scoped>\n",
       "    .dataframe tbody tr th:only-of-type {\n",
       "        vertical-align: middle;\n",
       "    }\n",
       "\n",
       "    .dataframe tbody tr th {\n",
       "        vertical-align: top;\n",
       "    }\n",
       "\n",
       "    .dataframe thead th {\n",
       "        text-align: right;\n",
       "    }\n",
       "</style>\n",
       "<table border=\"1\" class=\"dataframe\">\n",
       "  <thead>\n",
       "    <tr style=\"text-align: right;\">\n",
       "      <th></th>\n",
       "      <th>review</th>\n",
       "      <th>mojo_name</th>\n",
       "      <th>mojo_year</th>\n",
       "      <th>rt_name</th>\n",
       "      <th>genre</th>\n",
       "      <th>release_year</th>\n",
       "      <th>stream_year</th>\n",
       "    </tr>\n",
       "  </thead>\n",
       "  <tbody>\n",
       "    <tr>\n",
       "      <th>1112</th>\n",
       "      <td>[ ‘Here are beauties that pierce like swords o...</td>\n",
       "      <td>The Lord of the Rings: The Fellowship of the Ring</td>\n",
       "      <td>2001</td>\n",
       "      <td>The Lord of the Rings: The Fellowship of the R...</td>\n",
       "      <td>Fantasy , Adventure</td>\n",
       "      <td>2001</td>\n",
       "      <td>2011</td>\n",
       "    </tr>\n",
       "    <tr>\n",
       "      <th>391</th>\n",
       "      <td>[\"...for me to consider Captain America: Civil...</td>\n",
       "      <td>Captain America: Civil War</td>\n",
       "      <td>2016</td>\n",
       "      <td>Captain America: Civil War - Movie Reviews</td>\n",
       "      <td>Action , Adventure , Fantasy</td>\n",
       "      <td>2016</td>\n",
       "      <td>2016</td>\n",
       "    </tr>\n",
       "    <tr>\n",
       "      <th>1477</th>\n",
       "      <td>[\"21 Jump Street\" might be yet another product...</td>\n",
       "      <td>21 Jump Street</td>\n",
       "      <td>2012</td>\n",
       "      <td>21 Jump Street - Movie Reviews</td>\n",
       "      <td>Comedy , Action</td>\n",
       "      <td>2012</td>\n",
       "      <td>2014</td>\n",
       "    </tr>\n",
       "    <tr>\n",
       "      <th>2910</th>\n",
       "      <td>[\"300: Rise of an Empire\" gets a lot of mileag...</td>\n",
       "      <td>300: Rise of an Empire</td>\n",
       "      <td>2014</td>\n",
       "      <td>300: Rise of an Empire - Movie Reviews</td>\n",
       "      <td>Action , Adventure , Drama</td>\n",
       "      <td>2014</td>\n",
       "      <td>2015</td>\n",
       "    </tr>\n",
       "    <tr>\n",
       "      <th>1140</th>\n",
       "      <td>[\"A Dog's Purpose\" left me cherishing my borde...</td>\n",
       "      <td>A Dog's Purpose</td>\n",
       "      <td>2017</td>\n",
       "      <td>A Dog's Purpose - Movie Reviews</td>\n",
       "      <td>Fantasy , Drama , Comedy</td>\n",
       "      <td>2017</td>\n",
       "      <td>2017</td>\n",
       "    </tr>\n",
       "  </tbody>\n",
       "</table>\n",
       "</div>"
      ],
      "text/plain": [
       "                                                 review  \\\n",
       "1112  [ ‘Here are beauties that pierce like swords o...   \n",
       "391   [\"...for me to consider Captain America: Civil...   \n",
       "1477  [\"21 Jump Street\" might be yet another product...   \n",
       "2910  [\"300: Rise of an Empire\" gets a lot of mileag...   \n",
       "1140  [\"A Dog's Purpose\" left me cherishing my borde...   \n",
       "\n",
       "                                              mojo_name mojo_year  \\\n",
       "1112  The Lord of the Rings: The Fellowship of the Ring      2001   \n",
       "391                          Captain America: Civil War      2016   \n",
       "1477                                     21 Jump Street      2012   \n",
       "2910                             300: Rise of an Empire      2014   \n",
       "1140                                    A Dog's Purpose      2017   \n",
       "\n",
       "                                                rt_name  \\\n",
       "1112  The Lord of the Rings: The Fellowship of the R...   \n",
       "391          Captain America: Civil War - Movie Reviews   \n",
       "1477                     21 Jump Street - Movie Reviews   \n",
       "2910             300: Rise of an Empire - Movie Reviews   \n",
       "1140                    A Dog's Purpose - Movie Reviews   \n",
       "\n",
       "                             genre release_year stream_year  \n",
       "1112           Fantasy , Adventure         2001        2011  \n",
       "391   Action , Adventure , Fantasy         2016        2016  \n",
       "1477               Comedy , Action         2012        2014  \n",
       "2910    Action , Adventure , Drama         2014        2015  \n",
       "1140      Fantasy , Drama , Comedy         2017        2017  "
      ]
     },
     "execution_count": 5,
     "metadata": {},
     "output_type": "execute_result"
    }
   ],
   "source": [
    "# Remove Rotten Tomato records without reviews\n",
    "df_rt_clean = df_rt.loc[~((df_rt['review'] == 'no reviews found')\n",
    "                          |\n",
    "                          (df_rt['review'] == 'misc error')\n",
    "                          |\n",
    "                          (df_rt['review'] == '')\n",
    "                         )\n",
    "                        ,:].dropna()\n",
    "\n",
    "# Remove records where release year != mojo_year\n",
    "df_rt_clean = df_rt_clean[df_rt_clean['mojo_year'] == df_rt_clean['release_year']]\n",
    "\n",
    "# Group records into a single line per film (reviews become a list of reviews)\n",
    "df_rt_clean = rev_group_list(df_rt_clean, 'review', 'mojo_name')\n",
    "\n",
    "print('Number of records remaining: ', len(df_rt_clean))\n",
    "\n",
    "df_rt_clean.to_csv('test.csv', index = False)\n",
    "\n",
    "df_rt_clean.head()"
   ]
  },
  {
   "cell_type": "markdown",
   "id": "fc0e503b",
   "metadata": {},
   "source": [
    "### Merge DataFrames"
   ]
  },
  {
   "cell_type": "code",
   "execution_count": 6,
   "id": "eb359100",
   "metadata": {},
   "outputs": [
    {
     "name": "stdout",
     "output_type": "stream",
     "text": [
      "All rows joined? True\n"
     ]
    }
   ],
   "source": [
    "# Merge Mojo and Google data\n",
    "df_mojo_goo = df_mojo.merge(df_google\n",
    "                           , on = ['Title', 'Year'])\n",
    "\n",
    "print('All rows joined?', 1000 == len(df_mojo_goo))"
   ]
  },
  {
   "cell_type": "code",
   "execution_count": 77,
   "id": "65c8d71a",
   "metadata": {},
   "outputs": [
    {
     "name": "stdout",
     "output_type": "stream",
     "text": [
      "Number of records remaining:  630\n"
     ]
    }
   ],
   "source": [
    "# Merge Rotten Tomatoes data\n",
    "df_merge = df_mojo_goo.merge(df_rt_clean\n",
    "                             , left_on = ['Title', 'Year']\n",
    "                             , right_on = ['mojo_name', 'mojo_year'])\n",
    "\n",
    "# Filter to columns that we will need\n",
    "df_merge = df_merge.loc[:,['Title'\n",
    "                          , 'Year'\n",
    "                          , 'Worldwide Lifetime Gross'\n",
    "                          , 'Domestic %'\n",
    "                          , 'google_use_like'\n",
    "                          , 'google_use_score'\n",
    "                          , 'google_use_n_rev'\n",
    "                          , 'imdb_score'\n",
    "                          , 'rotten_tom_score'\n",
    "                          , 'genre'\n",
    "                          , 'movie_description'\n",
    "                          , 'review']]\n",
    "\n",
    "# Rename columns\n",
    "df_merge.columns = ['title'\n",
    "                  , 'year'\n",
    "                  , 'worldwide_gross'\n",
    "                  , 'usa_percent'\n",
    "                  , 'google_use_like'\n",
    "                  , 'google_score'\n",
    "                  , 'google_use_n_rev'\n",
    "                  , 'imdb_score'\n",
    "                  , 'rotten_tom_score'\n",
    "                  , 'genre'\n",
    "                  , 'movie_description'\n",
    "                  , 'review']\n",
    "\n",
    "# Remove any empty rows remaining\n",
    "df_merge = df_merge.dropna()\n",
    "\n",
    "print('Number of records remaining: ', len(df_merge))"
   ]
  },
  {
   "cell_type": "markdown",
   "id": "701323f4",
   "metadata": {},
   "source": [
    "### Clean up DataFrame"
   ]
  },
  {
   "cell_type": "code",
   "execution_count": 71,
   "id": "718f266c",
   "metadata": {},
   "outputs": [
    {
     "data": {
      "image/png": "[encoded data removed]",
      "text/plain": [
       "<Figure size 504x576 with 1 Axes>"
      ]
     },
     "metadata": {
      "needs_background": "light"
     },
     "output_type": "display_data"
    }
   ],
   "source": [
    "freq_words_chart(df_merge['movie_description'], 50, 'Description')"
   ]
  },
  {
   "cell_type": "code",
   "execution_count": 72,
   "id": "03cb0316",
   "metadata": {},
   "outputs": [
    {
     "data": {
      "image/png": "[encoded data removed]",
      "text/plain": [
       "<Figure size 504x576 with 1 Axes>"
      ]
     },
     "metadata": {
      "needs_background": "light"
     },
     "output_type": "display_data"
    }
   ],
   "source": [
    "freq_words_chart(df_merge['review'].apply(lambda x: ', '.join(x)), 50, 'Reviews')"
   ]
  },
  {
   "cell_type": "code",
   "execution_count": 78,
   "id": "fa1410b7",
   "metadata": {},
   "outputs": [
    {
     "data": {
      "text/html": [
       "<div>\n",
       "<style scoped>\n",
       "    .dataframe tbody tr th:only-of-type {\n",
       "        vertical-align: middle;\n",
       "    }\n",
       "\n",
       "    .dataframe tbody tr th {\n",
       "        vertical-align: top;\n",
       "    }\n",
       "\n",
       "    .dataframe thead th {\n",
       "        text-align: right;\n",
       "    }\n",
       "</style>\n",
       "<table border=\"1\" class=\"dataframe\">\n",
       "  <thead>\n",
       "    <tr style=\"text-align: right;\">\n",
       "      <th></th>\n",
       "      <th>title</th>\n",
       "      <th>year</th>\n",
       "      <th>worldwide_gross</th>\n",
       "      <th>usa_percent</th>\n",
       "      <th>google_use_like</th>\n",
       "      <th>google_score</th>\n",
       "      <th>google_use_n_rev</th>\n",
       "      <th>imdb_score</th>\n",
       "      <th>rotten_tom_score</th>\n",
       "      <th>genre</th>\n",
       "      <th>movie_description</th>\n",
       "      <th>review</th>\n",
       "      <th>review_list</th>\n",
       "      <th>reviews</th>\n",
       "    </tr>\n",
       "  </thead>\n",
       "  <tbody>\n",
       "    <tr>\n",
       "      <th>0</th>\n",
       "      <td>Avatar</td>\n",
       "      <td>2009</td>\n",
       "      <td>2.847246e+09</td>\n",
       "      <td>0.267</td>\n",
       "      <td>0.86</td>\n",
       "      <td>0.90</td>\n",
       "      <td>4274.0</td>\n",
       "      <td>0.78</td>\n",
       "      <td>0.81</td>\n",
       "      <td>fantasy, action, adventure, sci-fi</td>\n",
       "      <td>jake paraplegic replaces twin navi inhabited p...</td>\n",
       "      <td>[Avatar is a joyous celebration of story craft...</td>\n",
       "      <td>[avatar joyous celebration story craft visual ...</td>\n",
       "      <td>avatar joyous celebration story craft visual p...</td>\n",
       "    </tr>\n",
       "    <tr>\n",
       "      <th>1</th>\n",
       "      <td>Avengers: Endgame</td>\n",
       "      <td>2019</td>\n",
       "      <td>2.797501e+09</td>\n",
       "      <td>0.307</td>\n",
       "      <td>0.94</td>\n",
       "      <td>0.94</td>\n",
       "      <td>22212.0</td>\n",
       "      <td>0.84</td>\n",
       "      <td>0.94</td>\n",
       "      <td>action, adventure, sci-fi, fantasy</td>\n",
       "      <td>thanos intergalactic warlord disintegrates hal...</td>\n",
       "      <td>[...A wonderful, rousing payoff in the context...</td>\n",
       "      <td>[wonderful rousing payoff context big battle w...</td>\n",
       "      <td>wonderful rousing payoff context big battle wi...</td>\n",
       "    </tr>\n",
       "    <tr>\n",
       "      <th>2</th>\n",
       "      <td>Titanic</td>\n",
       "      <td>1997</td>\n",
       "      <td>2.201647e+09</td>\n",
       "      <td>0.300</td>\n",
       "      <td>0.94</td>\n",
       "      <td>0.94</td>\n",
       "      <td>8466.0</td>\n",
       "      <td>0.78</td>\n",
       "      <td>0.89</td>\n",
       "      <td>romance, history, drama</td>\n",
       "      <td>seventeen year old rose hails aristocratic fam...</td>\n",
       "      <td>[\"Titanic\" still amazes as the kind of massive...</td>\n",
       "      <td>[titanic still amazes kind massive build destr...</td>\n",
       "      <td>titanic still amazes kind massive build destro...</td>\n",
       "    </tr>\n",
       "  </tbody>\n",
       "</table>\n",
       "</div>"
      ],
      "text/plain": [
       "               title  year  worldwide_gross  usa_percent  google_use_like  \\\n",
       "0             Avatar  2009     2.847246e+09        0.267             0.86   \n",
       "1  Avengers: Endgame  2019     2.797501e+09        0.307             0.94   \n",
       "2            Titanic  1997     2.201647e+09        0.300             0.94   \n",
       "\n",
       "   google_score  google_use_n_rev  imdb_score  rotten_tom_score  \\\n",
       "0          0.90            4274.0        0.78              0.81   \n",
       "1          0.94           22212.0        0.84              0.94   \n",
       "2          0.94            8466.0        0.78              0.89   \n",
       "\n",
       "                                genre  \\\n",
       "0  fantasy, action, adventure, sci-fi   \n",
       "1  action, adventure, sci-fi, fantasy   \n",
       "2             romance, history, drama   \n",
       "\n",
       "                                   movie_description  \\\n",
       "0  jake paraplegic replaces twin navi inhabited p...   \n",
       "1  thanos intergalactic warlord disintegrates hal...   \n",
       "2  seventeen year old rose hails aristocratic fam...   \n",
       "\n",
       "                                              review  \\\n",
       "0  [Avatar is a joyous celebration of story craft...   \n",
       "1  [...A wonderful, rousing payoff in the context...   \n",
       "2  [\"Titanic\" still amazes as the kind of massive...   \n",
       "\n",
       "                                         review_list  \\\n",
       "0  [avatar joyous celebration story craft visual ...   \n",
       "1  [wonderful rousing payoff context big battle w...   \n",
       "2  [titanic still amazes kind massive build destr...   \n",
       "\n",
       "                                             reviews  \n",
       "0  avatar joyous celebration story craft visual p...  \n",
       "1  wonderful rousing payoff context big battle wi...  \n",
       "2  titanic still amazes kind massive build destro...  "
      ]
     },
     "execution_count": 78,
     "metadata": {},
     "output_type": "execute_result"
    }
   ],
   "source": [
    "# Convert numbers to floats\n",
    "df_merge['worldwide_gross'] = df_merge['worldwide_gross'].apply(lambda x: re.sub(\"[^0-9]\", \"\",x)).astype(float)\n",
    "df_merge['usa_percent'] = df_merge['usa_percent'].apply(lambda x: usa_pc(x))\n",
    "df_merge['google_use_like'] = df_merge['google_use_like'].astype(float)\n",
    "df_merge['google_score'] = df_merge['google_score'].astype(float)\n",
    "df_merge['google_use_n_rev'] = df_merge['google_use_n_rev'].astype(float)\n",
    "df_merge['imdb_score'] = df_merge['imdb_score'].astype(float)\n",
    "df_merge['rotten_tom_score'] = df_merge['rotten_tom_score'].astype(float)\n",
    "\n",
    "# Clean text\n",
    "# 1) Remove non-letters\n",
    "# 2) Remove stop words for descriptions and reviews\n",
    "# 3) Lemmatize text for descriptions and reviews\n",
    "df_merge['genre'] = df_merge['genre'].apply(lambda x: re.sub(\" ,\",\",\", x).lower())   \n",
    "df_merge['movie_description'] = df_merge['movie_description'].apply(lambda x: clean_text(x, True))    \n",
    "df_merge['review_list'] = df_merge['review'].apply(lambda x: clean_text_list(x, True)) \n",
    "df_merge['reviews'] = df_merge['review_list'].apply(lambda x: ', '.join(x))\n",
    "\n",
    "df_merge.head(3)"
   ]
  },
  {
   "cell_type": "code",
   "execution_count": 9,
   "id": "211589a7",
   "metadata": {},
   "outputs": [],
   "source": [
    "df_merge.to_csv('test.csv', index = False)"
   ]
  },
  {
   "cell_type": "markdown",
   "id": "0aca9943",
   "metadata": {},
   "source": [
    "### Exploratory Data Analysis"
   ]
  },
  {
   "cell_type": "markdown",
   "id": "6a702050",
   "metadata": {},
   "source": [
    "#### Evaluate most frequent words\n",
    "It appears the words 'however', and 'must' are the most and forth most frequent words in the description field. This words do not add any meaning and could be removed from the corpus. "
   ]
  },
  {
   "cell_type": "code",
   "execution_count": 83,
   "id": "5c1587d5",
   "metadata": {},
   "outputs": [
    {
     "data": {
      "image/png": "[encoded data removed]",
      "text/plain": [
       "<Figure size 504x576 with 1 Axes>"
      ]
     },
     "metadata": {
      "needs_background": "light"
     },
     "output_type": "display_data"
    }
   ],
   "source": [
    "freq_words_chart(df_merge['movie_description'], 50, 'Description')"
   ]
  },
  {
   "cell_type": "code",
   "execution_count": 79,
   "id": "edd7c9ea",
   "metadata": {},
   "outputs": [
    {
     "data": {
      "image/png": "[encoded data removed]",
      "text/plain": [
       "<Figure size 504x576 with 1 Axes>"
      ]
     },
     "metadata": {
      "needs_background": "light"
     },
     "output_type": "display_data"
    }
   ],
   "source": [
    "freq_words_chart(df_merge['reviews'], 50, 'Reviews')"
   ]
  },
  {
   "cell_type": "markdown",
   "id": "adb63fa3",
   "metadata": {},
   "source": [
    "## Sentiment Analysis"
   ]
  },
  {
   "cell_type": "code",
   "execution_count": 85,
   "id": "552de997",
   "metadata": {},
   "outputs": [
    {
     "data": {
      "text/html": [
       "<div>\n",
       "<style scoped>\n",
       "    .dataframe tbody tr th:only-of-type {\n",
       "        vertical-align: middle;\n",
       "    }\n",
       "\n",
       "    .dataframe tbody tr th {\n",
       "        vertical-align: top;\n",
       "    }\n",
       "\n",
       "    .dataframe thead th {\n",
       "        text-align: right;\n",
       "    }\n",
       "</style>\n",
       "<table border=\"1\" class=\"dataframe\">\n",
       "  <thead>\n",
       "    <tr style=\"text-align: right;\">\n",
       "      <th></th>\n",
       "      <th>title</th>\n",
       "      <th>year</th>\n",
       "      <th>worldwide_gross</th>\n",
       "      <th>usa_percent</th>\n",
       "      <th>google_use_like</th>\n",
       "      <th>google_score</th>\n",
       "      <th>google_use_n_rev</th>\n",
       "      <th>imdb_score</th>\n",
       "      <th>rotten_tom_score</th>\n",
       "      <th>genre</th>\n",
       "      <th>...</th>\n",
       "      <th>review</th>\n",
       "      <th>review_list</th>\n",
       "      <th>reviews</th>\n",
       "      <th>sentiment</th>\n",
       "      <th>sentiment_all</th>\n",
       "      <th>sentiment_pos</th>\n",
       "      <th>sentiment_neg</th>\n",
       "      <th>sentiment_neu</th>\n",
       "      <th>sentiment_comp</th>\n",
       "      <th>sentiment_overall</th>\n",
       "    </tr>\n",
       "  </thead>\n",
       "  <tbody>\n",
       "    <tr>\n",
       "      <th>0</th>\n",
       "      <td>Avatar</td>\n",
       "      <td>2009</td>\n",
       "      <td>2.847246e+09</td>\n",
       "      <td>0.267</td>\n",
       "      <td>0.86</td>\n",
       "      <td>0.90</td>\n",
       "      <td>4274.0</td>\n",
       "      <td>0.78</td>\n",
       "      <td>0.81</td>\n",
       "      <td>fantasy, action, adventure, sci-fi</td>\n",
       "      <td>...</td>\n",
       "      <td>[Avatar is a joyous celebration of story craft...</td>\n",
       "      <td>[avatar joyous celebration story craft visual ...</td>\n",
       "      <td>avatar joyous celebration story craft visual p...</td>\n",
       "      <td>{'neg': 0.039, 'neu': 0.784, 'pos': 0.177, 'co...</td>\n",
       "      <td>[{'neg': 0.046, 'neu': 0.814, 'pos': 0.14, 'co...</td>\n",
       "      <td>0.177</td>\n",
       "      <td>0.039</td>\n",
       "      <td>0.784</td>\n",
       "      <td>0.9968</td>\n",
       "      <td>positive</td>\n",
       "    </tr>\n",
       "    <tr>\n",
       "      <th>1</th>\n",
       "      <td>Avengers: Endgame</td>\n",
       "      <td>2019</td>\n",
       "      <td>2.797501e+09</td>\n",
       "      <td>0.307</td>\n",
       "      <td>0.94</td>\n",
       "      <td>0.94</td>\n",
       "      <td>22212.0</td>\n",
       "      <td>0.84</td>\n",
       "      <td>0.94</td>\n",
       "      <td>action, adventure, sci-fi, fantasy</td>\n",
       "      <td>...</td>\n",
       "      <td>[...A wonderful, rousing payoff in the context...</td>\n",
       "      <td>[wonderful rousing payoff context big battle w...</td>\n",
       "      <td>wonderful rousing payoff context big battle wi...</td>\n",
       "      <td>{'neg': 0.044, 'neu': 0.822, 'pos': 0.134, 'co...</td>\n",
       "      <td>[{'neg': 0.118, 'neu': 0.588, 'pos': 0.294, 'c...</td>\n",
       "      <td>0.134</td>\n",
       "      <td>0.044</td>\n",
       "      <td>0.822</td>\n",
       "      <td>0.9910</td>\n",
       "      <td>positive</td>\n",
       "    </tr>\n",
       "  </tbody>\n",
       "</table>\n",
       "<p>2 rows × 21 columns</p>\n",
       "</div>"
      ],
      "text/plain": [
       "               title  year  worldwide_gross  usa_percent  google_use_like  \\\n",
       "0             Avatar  2009     2.847246e+09        0.267             0.86   \n",
       "1  Avengers: Endgame  2019     2.797501e+09        0.307             0.94   \n",
       "\n",
       "   google_score  google_use_n_rev  imdb_score  rotten_tom_score  \\\n",
       "0          0.90            4274.0        0.78              0.81   \n",
       "1          0.94           22212.0        0.84              0.94   \n",
       "\n",
       "                                genre  ...  \\\n",
       "0  fantasy, action, adventure, sci-fi  ...   \n",
       "1  action, adventure, sci-fi, fantasy  ...   \n",
       "\n",
       "                                              review  \\\n",
       "0  [Avatar is a joyous celebration of story craft...   \n",
       "1  [...A wonderful, rousing payoff in the context...   \n",
       "\n",
       "                                         review_list  \\\n",
       "0  [avatar joyous celebration story craft visual ...   \n",
       "1  [wonderful rousing payoff context big battle w...   \n",
       "\n",
       "                                             reviews  \\\n",
       "0  avatar joyous celebration story craft visual p...   \n",
       "1  wonderful rousing payoff context big battle wi...   \n",
       "\n",
       "                                           sentiment  \\\n",
       "0  {'neg': 0.039, 'neu': 0.784, 'pos': 0.177, 'co...   \n",
       "1  {'neg': 0.044, 'neu': 0.822, 'pos': 0.134, 'co...   \n",
       "\n",
       "                                       sentiment_all sentiment_pos  \\\n",
       "0  [{'neg': 0.046, 'neu': 0.814, 'pos': 0.14, 'co...         0.177   \n",
       "1  [{'neg': 0.118, 'neu': 0.588, 'pos': 0.294, 'c...         0.134   \n",
       "\n",
       "   sentiment_neg  sentiment_neu  sentiment_comp  sentiment_overall  \n",
       "0          0.039          0.784          0.9968           positive  \n",
       "1          0.044          0.822          0.9910           positive  \n",
       "\n",
       "[2 rows x 21 columns]"
      ]
     },
     "execution_count": 85,
     "metadata": {},
     "output_type": "execute_result"
    }
   ],
   "source": [
    "# Scoring, see (Hutto, n.d.)\n",
    "\n",
    "# Determine Sentiment of Reviews\n",
    "df_merge['sentiment'] = df_merge['review'].apply(lambda x: sid_analyser(x, True))\n",
    "df_merge['sentiment_all'] = df_merge['review'].apply(lambda x: sid_analyser(x, False))\n",
    "\n",
    "# Split overall scores into seperate columns for plotting\n",
    "df_merge['sentiment_pos'] = df_merge['sentiment'].apply(lambda x: x['pos'])\n",
    "df_merge['sentiment_neg'] = df_merge['sentiment'].apply(lambda x: x['neg'])\n",
    "df_merge['sentiment_neu'] = df_merge['sentiment'].apply(lambda x: x['neu'])\n",
    "df_merge['sentiment_comp'] = df_merge['sentiment'].apply(lambda x: x['compound'])\n",
    "\n",
    "# Apply overall sentiment classification label\n",
    "df_merge['sentiment_overall'] = df_merge['sentiment'].apply(lambda x: sentiment_overall(x['compound']))\n",
    "\n",
    "df_merge.head(2)"
   ]
  },
  {
   "cell_type": "code",
   "execution_count": 86,
   "id": "237138f9",
   "metadata": {},
   "outputs": [
    {
     "data": {
      "text/plain": [
       "positive    557\n",
       "negative     72\n",
       "neutral       1\n",
       "Name: sentiment_overall, dtype: int64"
      ]
     },
     "execution_count": 86,
     "metadata": {},
     "output_type": "execute_result"
    }
   ],
   "source": [
    "df_merge['sentiment_overall'].value_counts()"
   ]
  },
  {
   "cell_type": "code",
   "execution_count": 88,
   "id": "875351b4",
   "metadata": {},
   "outputs": [
    {
     "data": {
      "text/plain": [
       "Text(0.5, 1.0, 'Compound Sentiment')"
      ]
     },
     "execution_count": 88,
     "metadata": {},
     "output_type": "execute_result"
    },
    {
     "data": {
      "image/png": "[encoded data removed]",
      "text/plain": [
       "<Figure size 720x504 with 4 Axes>"
      ]
     },
     "metadata": {
      "needs_background": "light"
     },
     "output_type": "display_data"
    }
   ],
   "source": [
    "\n",
    "fig, axs = plt.subplots(2, 2, figsize = (10,7))\n",
    "\n",
    "# Distribution of words chart\n",
    "axs[0,0].hist(df_merge['sentiment_pos'])\n",
    "axs[0,0].set_title(\"Positive Sentiment\")\n",
    "axs[0,1].hist(df_merge['sentiment_neg'])\n",
    "axs[0,1].set_title(\"Negative Sentiment\")\n",
    "axs[1,0].hist(df_merge['sentiment_neu'])\n",
    "axs[1,0].set_title(\"Neutral Sentiment\")\n",
    "axs[1,1].hist(df_merge['sentiment_comp'])\n",
    "axs[1,1].set_title(\"Compound Sentiment\")"
   ]
  }
 ],
 "metadata": {
  "kernelspec": {
   "display_name": "Python 3 (ipykernel)",
   "language": "python",
   "name": "python3"
  },
  "language_info": {
   "codemirror_mode": {
    "name": "ipython",
    "version": 3
   },
   "file_extension": ".py",
   "mimetype": "text/x-python",
   "name": "python",
   "nbconvert_exporter": "python",
   "pygments_lexer": "ipython3",
   "version": "3.9.7"
  }
 },
 "nbformat": 4,
 "nbformat_minor": 5
}
