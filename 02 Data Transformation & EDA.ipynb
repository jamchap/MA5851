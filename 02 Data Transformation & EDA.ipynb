{
 "cells": [
  {
   "cell_type": "code",
   "execution_count": 74,
   "id": "e0327028",
   "metadata": {},
   "outputs": [],
   "source": [
    "import pandas as pd\n",
    "import numpy as np\n",
    "\n",
    "# Custom functions\n",
    "from my_functions import *"
   ]
  },
  {
   "cell_type": "markdown",
   "id": "389641e6",
   "metadata": {},
   "source": [
    "### Import data"
   ]
  },
  {
   "cell_type": "code",
   "execution_count": 75,
   "id": "247da432",
   "metadata": {},
   "outputs": [
    {
     "data": {
      "text/html": [
       "<div>\n",
       "<style scoped>\n",
       "    .dataframe tbody tr th:only-of-type {\n",
       "        vertical-align: middle;\n",
       "    }\n",
       "\n",
       "    .dataframe tbody tr th {\n",
       "        vertical-align: top;\n",
       "    }\n",
       "\n",
       "    .dataframe thead th {\n",
       "        text-align: right;\n",
       "    }\n",
       "</style>\n",
       "<table border=\"1\" class=\"dataframe\">\n",
       "  <thead>\n",
       "    <tr style=\"text-align: right;\">\n",
       "      <th></th>\n",
       "      <th>Title</th>\n",
       "      <th>Worldwide Lifetime Gross</th>\n",
       "      <th>Domestic Lifetime Gross</th>\n",
       "      <th>Domestic %</th>\n",
       "      <th>Foreign Lifetime Gross</th>\n",
       "      <th>Foreign %</th>\n",
       "      <th>Year</th>\n",
       "    </tr>\n",
       "  </thead>\n",
       "  <tbody>\n",
       "    <tr>\n",
       "      <th>0</th>\n",
       "      <td>Avatar</td>\n",
       "      <td>$2,847,246,203</td>\n",
       "      <td>$760,507,625</td>\n",
       "      <td>26.7%</td>\n",
       "      <td>$2,086,738,578</td>\n",
       "      <td>73.3%</td>\n",
       "      <td>2009</td>\n",
       "    </tr>\n",
       "    <tr>\n",
       "      <th>1</th>\n",
       "      <td>Avengers: Endgame</td>\n",
       "      <td>$2,797,501,328</td>\n",
       "      <td>$858,373,000</td>\n",
       "      <td>30.7%</td>\n",
       "      <td>$1,939,128,328</td>\n",
       "      <td>69.3%</td>\n",
       "      <td>2019</td>\n",
       "    </tr>\n",
       "  </tbody>\n",
       "</table>\n",
       "</div>"
      ],
      "text/plain": [
       "               Title Worldwide Lifetime Gross Domestic Lifetime Gross  \\\n",
       "0             Avatar           $2,847,246,203            $760,507,625   \n",
       "1  Avengers: Endgame           $2,797,501,328            $858,373,000   \n",
       "\n",
       "  Domestic % Foreign Lifetime Gross Foreign %  Year  \n",
       "0      26.7%         $2,086,738,578     73.3%  2009  \n",
       "1      30.7%         $1,939,128,328     69.3%  2019  "
      ]
     },
     "execution_count": 75,
     "metadata": {},
     "output_type": "execute_result"
    }
   ],
   "source": [
    "# Box Office Mojo list\n",
    "df_mojo = pd.read_csv('bk_mojo.csv', dtype = object)\n",
    "df_mojo.head(2)"
   ]
  },
  {
   "cell_type": "code",
   "execution_count": 76,
   "id": "586f79a9",
   "metadata": {},
   "outputs": [
    {
     "name": "stdout",
     "output_type": "stream",
     "text": [
      "16189 rows of data loaded for 886 films\n",
      "Therefore, 114 films were not found by the WebCrawler\n"
     ]
    },
    {
     "data": {
      "text/html": [
       "<div>\n",
       "<style scoped>\n",
       "    .dataframe tbody tr th:only-of-type {\n",
       "        vertical-align: middle;\n",
       "    }\n",
       "\n",
       "    .dataframe tbody tr th {\n",
       "        vertical-align: top;\n",
       "    }\n",
       "\n",
       "    .dataframe thead th {\n",
       "        text-align: right;\n",
       "    }\n",
       "</style>\n",
       "<table border=\"1\" class=\"dataframe\">\n",
       "  <thead>\n",
       "    <tr style=\"text-align: right;\">\n",
       "      <th></th>\n",
       "      <th>review</th>\n",
       "      <th>mojo_name</th>\n",
       "      <th>mojo_year</th>\n",
       "      <th>rt_name</th>\n",
       "      <th>genre</th>\n",
       "      <th>release_year</th>\n",
       "      <th>stream_year</th>\n",
       "      <th>critical_consensus</th>\n",
       "      <th>description</th>\n",
       "    </tr>\n",
       "  </thead>\n",
       "  <tbody>\n",
       "    <tr>\n",
       "      <th>0</th>\n",
       "      <td>Five hundred million dollars [wasted].</td>\n",
       "      <td>Avatar</td>\n",
       "      <td>2009</td>\n",
       "      <td>Avatar - Movie Reviews</td>\n",
       "      <td>Action , Fantasy , Adventure , Sci-Fi</td>\n",
       "      <td>2009</td>\n",
       "      <td>2016</td>\n",
       "      <td>It might be more impressive on a technical lev...</td>\n",
       "      <td>On the lush alien world of Pandora live the Na...</td>\n",
       "    </tr>\n",
       "    <tr>\n",
       "      <th>1</th>\n",
       "      <td>Rewatching it with fresh eyes 10 years later, ...</td>\n",
       "      <td>Avatar</td>\n",
       "      <td>2009</td>\n",
       "      <td>Avatar - Movie Reviews</td>\n",
       "      <td>Action , Fantasy , Adventure , Sci-Fi</td>\n",
       "      <td>2009</td>\n",
       "      <td>2016</td>\n",
       "      <td>It might be more impressive on a technical lev...</td>\n",
       "      <td>On the lush alien world of Pandora live the Na...</td>\n",
       "    </tr>\n",
       "  </tbody>\n",
       "</table>\n",
       "</div>"
      ],
      "text/plain": [
       "                                              review mojo_name mojo_year  \\\n",
       "0             Five hundred million dollars [wasted].    Avatar      2009   \n",
       "1  Rewatching it with fresh eyes 10 years later, ...    Avatar      2009   \n",
       "\n",
       "                  rt_name                                  genre release_year  \\\n",
       "0  Avatar - Movie Reviews  Action , Fantasy , Adventure , Sci-Fi         2009   \n",
       "1  Avatar - Movie Reviews  Action , Fantasy , Adventure , Sci-Fi         2009   \n",
       "\n",
       "  stream_year                                 critical_consensus  \\\n",
       "0        2016  It might be more impressive on a technical lev...   \n",
       "1        2016  It might be more impressive on a technical lev...   \n",
       "\n",
       "                                         description  \n",
       "0  On the lush alien world of Pandora live the Na...  \n",
       "1  On the lush alien world of Pandora live the Na...  "
      ]
     },
     "execution_count": 76,
     "metadata": {},
     "output_type": "execute_result"
    }
   ],
   "source": [
    "# Rotten Tomatoes\n",
    "df_rt = pd.concat([pd.read_csv('Rotten Tomatoes/bk_rt_1_raw.csv', dtype = object)\n",
    "                   , pd.read_csv('Rotten Tomatoes/bk_rt_2_raw.csv', dtype = object)\n",
    "                   , pd.read_csv('Rotten Tomatoes/bk_rt_3_raw.csv', dtype = object)\n",
    "                   , pd.read_csv('Rotten Tomatoes/bk_rt_4_raw.csv', dtype = object)\n",
    "                   , pd.read_csv('Rotten Tomatoes/bk_rt_5_raw.csv', dtype = object)])\n",
    "print(f'{len(df_rt)} rows of data loaded for {len(df_rt.mojo_name.unique())} films')\n",
    "print(f'Therefore, {len(df_mojo) - len(df_rt.mojo_name.unique())} films were not found by the WebCrawler')\n",
    "df_rt.head(2)"
   ]
  },
  {
   "cell_type": "code",
   "execution_count": 77,
   "id": "7c08a0f0",
   "metadata": {},
   "outputs": [
    {
     "name": "stdout",
     "output_type": "stream",
     "text": [
      "443 rows of removed\n"
     ]
    }
   ],
   "source": [
    "# Remove Rotten Tomato records without reviews\n",
    "df_rt_clean = df_rt.loc[~((df_rt['review'] == 'no reviews found')\n",
    "                          |\n",
    "                          (df_rt['review'] == 'misc error')\n",
    "                          |\n",
    "                          (df_rt['review'] == '')\n",
    "                         )\n",
    "                        ,:].dropna()\n",
    "print(f'{len(df_rt) - len(df_rt_clean)} rows of removed')"
   ]
  },
  {
   "cell_type": "code",
   "execution_count": 78,
   "id": "bdd1446c",
   "metadata": {},
   "outputs": [
    {
     "data": {
      "text/html": [
       "<div>\n",
       "<style scoped>\n",
       "    .dataframe tbody tr th:only-of-type {\n",
       "        vertical-align: middle;\n",
       "    }\n",
       "\n",
       "    .dataframe tbody tr th {\n",
       "        vertical-align: top;\n",
       "    }\n",
       "\n",
       "    .dataframe thead th {\n",
       "        text-align: right;\n",
       "    }\n",
       "</style>\n",
       "<table border=\"1\" class=\"dataframe\">\n",
       "  <thead>\n",
       "    <tr style=\"text-align: right;\">\n",
       "      <th></th>\n",
       "      <th>review</th>\n",
       "      <th>mojo_name</th>\n",
       "      <th>mojo_year</th>\n",
       "      <th>rt_name</th>\n",
       "      <th>genre</th>\n",
       "      <th>release_year</th>\n",
       "      <th>stream_year</th>\n",
       "      <th>critical_consensus</th>\n",
       "      <th>description</th>\n",
       "    </tr>\n",
       "  </thead>\n",
       "  <tbody>\n",
       "    <tr>\n",
       "      <th>120</th>\n",
       "      <td>Very terrible.</td>\n",
       "      <td>The Avengers</td>\n",
       "      <td>2012</td>\n",
       "      <td>The Avengers - Movie Reviews</td>\n",
       "      <td>Adventure</td>\n",
       "      <td>In Theaters:</td>\n",
       "      <td>2008</td>\n",
       "      <td>A TV spinoff that lacks enough energy to spin,...</td>\n",
       "      <td>A charismatic evil genius named Sir August de ...</td>\n",
       "    </tr>\n",
       "    <tr>\n",
       "      <th>121</th>\n",
       "      <td>The movie lets [Fiennes and Thurman] down with...</td>\n",
       "      <td>The Avengers</td>\n",
       "      <td>2012</td>\n",
       "      <td>The Avengers - Movie Reviews</td>\n",
       "      <td>Adventure</td>\n",
       "      <td>In Theaters:</td>\n",
       "      <td>2008</td>\n",
       "      <td>A TV spinoff that lacks enough energy to spin,...</td>\n",
       "      <td>A charismatic evil genius named Sir August de ...</td>\n",
       "    </tr>\n",
       "    <tr>\n",
       "      <th>122</th>\n",
       "      <td>The new Avengers is dismal in dispiriting, dre...</td>\n",
       "      <td>The Avengers</td>\n",
       "      <td>2012</td>\n",
       "      <td>The Avengers - Movie Reviews</td>\n",
       "      <td>Adventure</td>\n",
       "      <td>In Theaters:</td>\n",
       "      <td>2008</td>\n",
       "      <td>A TV spinoff that lacks enough energy to spin,...</td>\n",
       "      <td>A charismatic evil genius named Sir August de ...</td>\n",
       "    </tr>\n",
       "    <tr>\n",
       "      <th>123</th>\n",
       "      <td>Some bad movies are bold outrages; many others...</td>\n",
       "      <td>The Avengers</td>\n",
       "      <td>2012</td>\n",
       "      <td>The Avengers - Movie Reviews</td>\n",
       "      <td>Adventure</td>\n",
       "      <td>In Theaters:</td>\n",
       "      <td>2008</td>\n",
       "      <td>A TV spinoff that lacks enough energy to spin,...</td>\n",
       "      <td>A charismatic evil genius named Sir August de ...</td>\n",
       "    </tr>\n",
       "    <tr>\n",
       "      <th>124</th>\n",
       "      <td>This Avengers film is so horrendously, painful...</td>\n",
       "      <td>The Avengers</td>\n",
       "      <td>2012</td>\n",
       "      <td>The Avengers - Movie Reviews</td>\n",
       "      <td>Adventure</td>\n",
       "      <td>In Theaters:</td>\n",
       "      <td>2008</td>\n",
       "      <td>A TV spinoff that lacks enough energy to spin,...</td>\n",
       "      <td>A charismatic evil genius named Sir August de ...</td>\n",
       "    </tr>\n",
       "  </tbody>\n",
       "</table>\n",
       "</div>"
      ],
      "text/plain": [
       "                                                review     mojo_name  \\\n",
       "120                                     Very terrible.  The Avengers   \n",
       "121  The movie lets [Fiennes and Thurman] down with...  The Avengers   \n",
       "122  The new Avengers is dismal in dispiriting, dre...  The Avengers   \n",
       "123  Some bad movies are bold outrages; many others...  The Avengers   \n",
       "124  This Avengers film is so horrendously, painful...  The Avengers   \n",
       "\n",
       "    mojo_year                       rt_name      genre  release_year  \\\n",
       "120      2012  The Avengers - Movie Reviews  Adventure  In Theaters:   \n",
       "121      2012  The Avengers - Movie Reviews  Adventure  In Theaters:   \n",
       "122      2012  The Avengers - Movie Reviews  Adventure  In Theaters:   \n",
       "123      2012  The Avengers - Movie Reviews  Adventure  In Theaters:   \n",
       "124      2012  The Avengers - Movie Reviews  Adventure  In Theaters:   \n",
       "\n",
       "    stream_year                                 critical_consensus  \\\n",
       "120        2008  A TV spinoff that lacks enough energy to spin,...   \n",
       "121        2008  A TV spinoff that lacks enough energy to spin,...   \n",
       "122        2008  A TV spinoff that lacks enough energy to spin,...   \n",
       "123        2008  A TV spinoff that lacks enough energy to spin,...   \n",
       "124        2008  A TV spinoff that lacks enough energy to spin,...   \n",
       "\n",
       "                                           description  \n",
       "120  A charismatic evil genius named Sir August de ...  \n",
       "121  A charismatic evil genius named Sir August de ...  \n",
       "122  A charismatic evil genius named Sir August de ...  \n",
       "123  A charismatic evil genius named Sir August de ...  \n",
       "124  A charismatic evil genius named Sir August de ...  "
      ]
     },
     "execution_count": 78,
     "metadata": {},
     "output_type": "execute_result"
    }
   ],
   "source": [
    "# Film has no release year and stream year doesn't align to year from the Box Office Mojo data.\n",
    "df_rt_clean[df_rt_clean.mojo_name == 'The Avengers'].head()"
   ]
  },
  {
   "cell_type": "code",
   "execution_count": 79,
   "id": "40fe4a08",
   "metadata": {},
   "outputs": [
    {
     "name": "stdout",
     "output_type": "stream",
     "text": [
      "Number of films grouped:  882\n",
      "Number of films remaining:  672\n"
     ]
    },
    {
     "data": {
      "text/html": [
       "<div>\n",
       "<style scoped>\n",
       "    .dataframe tbody tr th:only-of-type {\n",
       "        vertical-align: middle;\n",
       "    }\n",
       "\n",
       "    .dataframe tbody tr th {\n",
       "        vertical-align: top;\n",
       "    }\n",
       "\n",
       "    .dataframe thead th {\n",
       "        text-align: right;\n",
       "    }\n",
       "</style>\n",
       "<table border=\"1\" class=\"dataframe\">\n",
       "  <thead>\n",
       "    <tr style=\"text-align: right;\">\n",
       "      <th></th>\n",
       "      <th>review</th>\n",
       "      <th>mojo_name</th>\n",
       "      <th>mojo_year</th>\n",
       "      <th>rt_name</th>\n",
       "      <th>genre</th>\n",
       "      <th>release_year</th>\n",
       "      <th>stream_year</th>\n",
       "      <th>critical_consensus</th>\n",
       "      <th>description</th>\n",
       "    </tr>\n",
       "  </thead>\n",
       "  <tbody>\n",
       "    <tr>\n",
       "      <th>1112</th>\n",
       "      <td>[ ‘Here are beauties that pierce like swords o...</td>\n",
       "      <td>The Lord of the Rings: The Fellowship of the Ring</td>\n",
       "      <td>2001</td>\n",
       "      <td>The Lord of the Rings: The Fellowship of the R...</td>\n",
       "      <td>Fantasy , Adventure</td>\n",
       "      <td>2001</td>\n",
       "      <td>2011</td>\n",
       "      <td>Full of eye-popping special effects, and featu...</td>\n",
       "      <td>The future of civilization rests in the fate o...</td>\n",
       "    </tr>\n",
       "    <tr>\n",
       "      <th>391</th>\n",
       "      <td>[\"...for me to consider Captain America: Civil...</td>\n",
       "      <td>Captain America: Civil War</td>\n",
       "      <td>2016</td>\n",
       "      <td>Captain America: Civil War - Movie Reviews</td>\n",
       "      <td>Action , Fantasy , Adventure</td>\n",
       "      <td>2016</td>\n",
       "      <td>2016</td>\n",
       "      <td>Captain America: Civil War begins the next wav...</td>\n",
       "      <td>Political pressure mounts to install a system ...</td>\n",
       "    </tr>\n",
       "    <tr>\n",
       "      <th>659</th>\n",
       "      <td>[\"21 Jump Street\" might be yet another product...</td>\n",
       "      <td>21 Jump Street</td>\n",
       "      <td>2012</td>\n",
       "      <td>21 Jump Street - Movie Reviews</td>\n",
       "      <td>Action , Comedy</td>\n",
       "      <td>2012</td>\n",
       "      <td>2014</td>\n",
       "      <td>A smart, affectionate satire of '80s nostalgia...</td>\n",
       "      <td>When cops Schmidt (Jonah Hill) and Jenko (Chan...</td>\n",
       "    </tr>\n",
       "    <tr>\n",
       "      <th>474</th>\n",
       "      <td>[\"300: Rise of an Empire\" gets a lot of mileag...</td>\n",
       "      <td>300: Rise of an Empire</td>\n",
       "      <td>2014</td>\n",
       "      <td>300: Rise of an Empire - Movie Reviews</td>\n",
       "      <td>Action , Adventure , Drama</td>\n",
       "      <td>2014</td>\n",
       "      <td>2015</td>\n",
       "      <td>It's bound to hit some viewers as an empty exe...</td>\n",
       "      <td>While King Leonidas and his 300 Spartans have ...</td>\n",
       "    </tr>\n",
       "    <tr>\n",
       "      <th>322</th>\n",
       "      <td>[\"A Dog's Purpose\" left me cherishing my borde...</td>\n",
       "      <td>A Dog's Purpose</td>\n",
       "      <td>2017</td>\n",
       "      <td>A Dog's Purpose - Movie Reviews</td>\n",
       "      <td>Comedy , Fantasy , Drama</td>\n",
       "      <td>2017</td>\n",
       "      <td>2017</td>\n",
       "      <td>A Dog's Purpose offers an awkward blend of sug...</td>\n",
       "      <td>A devoted dog (Josh Gad) discovers the meaning...</td>\n",
       "    </tr>\n",
       "  </tbody>\n",
       "</table>\n",
       "</div>"
      ],
      "text/plain": [
       "                                                 review  \\\n",
       "1112  [ ‘Here are beauties that pierce like swords o...   \n",
       "391   [\"...for me to consider Captain America: Civil...   \n",
       "659   [\"21 Jump Street\" might be yet another product...   \n",
       "474   [\"300: Rise of an Empire\" gets a lot of mileag...   \n",
       "322   [\"A Dog's Purpose\" left me cherishing my borde...   \n",
       "\n",
       "                                              mojo_name mojo_year  \\\n",
       "1112  The Lord of the Rings: The Fellowship of the Ring      2001   \n",
       "391                          Captain America: Civil War      2016   \n",
       "659                                      21 Jump Street      2012   \n",
       "474                              300: Rise of an Empire      2014   \n",
       "322                                     A Dog's Purpose      2017   \n",
       "\n",
       "                                                rt_name  \\\n",
       "1112  The Lord of the Rings: The Fellowship of the R...   \n",
       "391          Captain America: Civil War - Movie Reviews   \n",
       "659                      21 Jump Street - Movie Reviews   \n",
       "474              300: Rise of an Empire - Movie Reviews   \n",
       "322                     A Dog's Purpose - Movie Reviews   \n",
       "\n",
       "                             genre release_year stream_year  \\\n",
       "1112           Fantasy , Adventure         2001        2011   \n",
       "391   Action , Fantasy , Adventure         2016        2016   \n",
       "659                Action , Comedy         2012        2014   \n",
       "474     Action , Adventure , Drama         2014        2015   \n",
       "322       Comedy , Fantasy , Drama         2017        2017   \n",
       "\n",
       "                                     critical_consensus  \\\n",
       "1112  Full of eye-popping special effects, and featu...   \n",
       "391   Captain America: Civil War begins the next wav...   \n",
       "659   A smart, affectionate satire of '80s nostalgia...   \n",
       "474   It's bound to hit some viewers as an empty exe...   \n",
       "322   A Dog's Purpose offers an awkward blend of sug...   \n",
       "\n",
       "                                            description  \n",
       "1112  The future of civilization rests in the fate o...  \n",
       "391   Political pressure mounts to install a system ...  \n",
       "659   When cops Schmidt (Jonah Hill) and Jenko (Chan...  \n",
       "474   While King Leonidas and his 300 Spartans have ...  \n",
       "322   A devoted dog (Josh Gad) discovers the meaning...  "
      ]
     },
     "execution_count": 79,
     "metadata": {},
     "output_type": "execute_result"
    }
   ],
   "source": [
    "# Group records into a single line per film (reviews become a list of reviews)\n",
    "df_rt_clean = rev_group_list(df_rt_clean, 'review', 'mojo_name')\n",
    "\n",
    "print('Number of films grouped: ', len(df_rt_clean))\n",
    "\n",
    "# Remove records where release year != mojo_year\n",
    "df_rt_clean = df_rt_clean[df_rt_clean['mojo_year'] == df_rt_clean['release_year']]\n",
    "\n",
    "print('Number of films remaining: ', len(df_rt_clean))\n",
    "\n",
    "df_rt_clean.head()"
   ]
  },
  {
   "cell_type": "markdown",
   "id": "fc0e503b",
   "metadata": {},
   "source": [
    "### Merge DataFrames"
   ]
  },
  {
   "cell_type": "code",
   "execution_count": 80,
   "id": "65c8d71a",
   "metadata": {},
   "outputs": [
    {
     "name": "stdout",
     "output_type": "stream",
     "text": [
      "Number of records remaining:  672\n"
     ]
    }
   ],
   "source": [
    "# Merge Rotten Tomatoes data\n",
    "df_merge = df_mojo.merge(df_rt_clean\n",
    "                         , how='left'\n",
    "                         , left_on = ['Title', 'Year']\n",
    "                         , right_on = ['mojo_name', 'mojo_year'])\n",
    "\n",
    "# Filter to columns that we will need\n",
    "df_merge = df_merge.loc[:,['Title'\n",
    "                          , 'Year'\n",
    "                          , 'Worldwide Lifetime Gross'\n",
    "                          , 'Domestic %'\n",
    "                          , 'genre'\n",
    "                          , 'description'\n",
    "                          , 'critical_consensus'\n",
    "                          , 'review']]\n",
    "\n",
    "# Rename columns\n",
    "df_merge.columns = ['title'\n",
    "                  , 'year'\n",
    "                  , 'worldwide_gross'\n",
    "                  , 'usa_percent'\n",
    "                  , 'genre'\n",
    "                  , 'movie_description'\n",
    "                  , 'critical_consensus'\n",
    "                  , 'review']\n",
    "\n",
    "# Remove any empty rows remaining\n",
    "df_merge = df_merge.dropna()\n",
    "\n",
    "print('Number of records remaining: ', len(df_merge))"
   ]
  },
  {
   "cell_type": "markdown",
   "id": "701323f4",
   "metadata": {},
   "source": [
    "### Clean up DataFrame"
   ]
  },
  {
   "cell_type": "code",
   "execution_count": 81,
   "id": "9251d955",
   "metadata": {},
   "outputs": [],
   "source": [
    "# freq_words_chart(df_merge['review'].apply(lambda x: '| '.join(x)), 50, 'Reviews')"
   ]
  },
  {
   "cell_type": "code",
   "execution_count": 82,
   "id": "718f266c",
   "metadata": {},
   "outputs": [],
   "source": [
    "# freq_words_chart(df_merge['movie_description'], 50, 'Description')"
   ]
  },
  {
   "cell_type": "code",
   "execution_count": 83,
   "id": "fa1410b7",
   "metadata": {},
   "outputs": [
    {
     "data": {
      "text/html": [
       "<div>\n",
       "<style scoped>\n",
       "    .dataframe tbody tr th:only-of-type {\n",
       "        vertical-align: middle;\n",
       "    }\n",
       "\n",
       "    .dataframe tbody tr th {\n",
       "        vertical-align: top;\n",
       "    }\n",
       "\n",
       "    .dataframe thead th {\n",
       "        text-align: right;\n",
       "    }\n",
       "</style>\n",
       "<table border=\"1\" class=\"dataframe\">\n",
       "  <thead>\n",
       "    <tr style=\"text-align: right;\">\n",
       "      <th></th>\n",
       "      <th>title</th>\n",
       "      <th>year</th>\n",
       "      <th>worldwide_gross</th>\n",
       "      <th>usa_percent</th>\n",
       "      <th>genre</th>\n",
       "      <th>movie_description</th>\n",
       "      <th>critical_consensus</th>\n",
       "      <th>review</th>\n",
       "      <th>review_list</th>\n",
       "      <th>reviews</th>\n",
       "    </tr>\n",
       "  </thead>\n",
       "  <tbody>\n",
       "    <tr>\n",
       "      <th>0</th>\n",
       "      <td>Avatar</td>\n",
       "      <td>2009</td>\n",
       "      <td>2.847246e+09</td>\n",
       "      <td>0.267</td>\n",
       "      <td>action fantasy adventure sci-fi</td>\n",
       "      <td>lush alien world pandora live navi beings appe...</td>\n",
       "      <td>might impressive technical level piece storyte...</td>\n",
       "      <td>[Avatar is a joyous celebration of story craft...</td>\n",
       "      <td>[avatar joyous celebration story craft visual ...</td>\n",
       "      <td>avatar joyous celebration story craft visual p...</td>\n",
       "    </tr>\n",
       "    <tr>\n",
       "      <th>1</th>\n",
       "      <td>Avengers: Endgame</td>\n",
       "      <td>2019</td>\n",
       "      <td>2.797501e+09</td>\n",
       "      <td>0.307</td>\n",
       "      <td>action fantasy adventure sci-fi</td>\n",
       "      <td>adrift space food water tony stark sends messa...</td>\n",
       "      <td>exciting entertaining emotionally impactful av...</td>\n",
       "      <td>[...A wonderful, rousing payoff in the context...</td>\n",
       "      <td>[wonderful rousing payoff context big battle w...</td>\n",
       "      <td>wonderful rousing payoff context big battle wi...</td>\n",
       "    </tr>\n",
       "    <tr>\n",
       "      <th>2</th>\n",
       "      <td>Titanic</td>\n",
       "      <td>1997</td>\n",
       "      <td>2.201647e+09</td>\n",
       "      <td>0.300</td>\n",
       "      <td>history drama romance</td>\n",
       "      <td>james camerons titanic epic action packed roma...</td>\n",
       "      <td>mostly unqualified triumph james cameron offer...</td>\n",
       "      <td>[\"Titanic\" still amazes as the kind of massive...</td>\n",
       "      <td>[titanic still amazes kind massive build destr...</td>\n",
       "      <td>titanic still amazes kind massive build destro...</td>\n",
       "    </tr>\n",
       "  </tbody>\n",
       "</table>\n",
       "</div>"
      ],
      "text/plain": [
       "               title  year  worldwide_gross  usa_percent  \\\n",
       "0             Avatar  2009     2.847246e+09        0.267   \n",
       "1  Avengers: Endgame  2019     2.797501e+09        0.307   \n",
       "2            Titanic  1997     2.201647e+09        0.300   \n",
       "\n",
       "                             genre  \\\n",
       "0  action fantasy adventure sci-fi   \n",
       "1  action fantasy adventure sci-fi   \n",
       "2            history drama romance   \n",
       "\n",
       "                                   movie_description  \\\n",
       "0  lush alien world pandora live navi beings appe...   \n",
       "1  adrift space food water tony stark sends messa...   \n",
       "2  james camerons titanic epic action packed roma...   \n",
       "\n",
       "                                  critical_consensus  \\\n",
       "0  might impressive technical level piece storyte...   \n",
       "1  exciting entertaining emotionally impactful av...   \n",
       "2  mostly unqualified triumph james cameron offer...   \n",
       "\n",
       "                                              review  \\\n",
       "0  [Avatar is a joyous celebration of story craft...   \n",
       "1  [...A wonderful, rousing payoff in the context...   \n",
       "2  [\"Titanic\" still amazes as the kind of massive...   \n",
       "\n",
       "                                         review_list  \\\n",
       "0  [avatar joyous celebration story craft visual ...   \n",
       "1  [wonderful rousing payoff context big battle w...   \n",
       "2  [titanic still amazes kind massive build destr...   \n",
       "\n",
       "                                             reviews  \n",
       "0  avatar joyous celebration story craft visual p...  \n",
       "1  wonderful rousing payoff context big battle wi...  \n",
       "2  titanic still amazes kind massive build destro...  "
      ]
     },
     "execution_count": 83,
     "metadata": {},
     "output_type": "execute_result"
    }
   ],
   "source": [
    "# Convert numbers to floats\n",
    "df_merge['worldwide_gross'] = df_merge['worldwide_gross'].apply(lambda x: re.sub(\"[^0-9]\", \"\",x)).astype(float)\n",
    "df_merge['usa_percent'] = df_merge['usa_percent'].apply(lambda x: usa_pc(x))\n",
    "\n",
    "# Clean text\n",
    "# 1) Remove non-letters\n",
    "# 2) Remove stop words for descriptions and reviews\n",
    "# 3) Lemmatize text for descriptions and reviews\n",
    "df_merge['genre'] = df_merge['genre'].apply(lambda x: re.sub(\" ,\",\"\", x).lower())   \n",
    "df_merge['movie_description'] = df_merge['movie_description'].apply(lambda x: clean_text(x, True)) \n",
    "df_merge['critical_consensus'] = df_merge['critical_consensus'].apply(lambda x: clean_text(x, True))\n",
    "df_merge['review_list'] = df_merge['review'].apply(lambda x: clean_text_list(x, True)) \n",
    "df_merge['reviews'] = df_merge['review_list'].apply(lambda x: ', '.join(x))\n",
    "\n",
    "df_merge.head(3)"
   ]
  },
  {
   "cell_type": "markdown",
   "id": "0aca9943",
   "metadata": {},
   "source": [
    "### Exploratory Data Analysis"
   ]
  },
  {
   "cell_type": "markdown",
   "id": "6a702050",
   "metadata": {},
   "source": [
    "#### Evaluate most frequent words\n",
    "The removal of the stop words has reduced the skew in the distribution of frequency of words."
   ]
  },
  {
   "cell_type": "code",
   "execution_count": 84,
   "id": "5c1587d5",
   "metadata": {},
   "outputs": [
    {
     "data": {
      "image/png": "[encoded data removed]",
      "text/plain": [
       "<Figure size 504x576 with 1 Axes>"
      ]
     },
     "metadata": {
      "needs_background": "light"
     },
     "output_type": "display_data"
    }
   ],
   "source": [
    "freq_words_chart(df_merge['movie_description'], 50, 'Description')"
   ]
  },
  {
   "cell_type": "code",
   "execution_count": 85,
   "id": "edd7c9ea",
   "metadata": {},
   "outputs": [
    {
     "data": {
      "image/png": "[encoded data removed]",
      "text/plain": [
       "<Figure size 504x576 with 1 Axes>"
      ]
     },
     "metadata": {
      "needs_background": "light"
     },
     "output_type": "display_data"
    }
   ],
   "source": [
    "figsize = (1,7)\n",
    "freq_words_chart(df_merge['reviews'], 50, 'Reviews')"
   ]
  },
  {
   "cell_type": "code",
   "execution_count": 86,
   "id": "a70a4fcf",
   "metadata": {},
   "outputs": [
    {
     "data": {
      "image/png": "[encoded data removed]",
      "text/plain": [
       "<Figure size 504x576 with 1 Axes>"
      ]
     },
     "metadata": {
      "needs_background": "light"
     },
     "output_type": "display_data"
    }
   ],
   "source": [
    "freq_words_chart(df_merge['genre'], 50, 'Genre')"
   ]
  },
  {
   "cell_type": "code",
   "execution_count": 87,
   "id": "1d3a9f6a",
   "metadata": {},
   "outputs": [
    {
     "data": {
      "text/html": [
       "<div>\n",
       "<style scoped>\n",
       "    .dataframe tbody tr th:only-of-type {\n",
       "        vertical-align: middle;\n",
       "    }\n",
       "\n",
       "    .dataframe tbody tr th {\n",
       "        vertical-align: top;\n",
       "    }\n",
       "\n",
       "    .dataframe thead th {\n",
       "        text-align: right;\n",
       "    }\n",
       "</style>\n",
       "<table border=\"1\" class=\"dataframe\">\n",
       "  <thead>\n",
       "    <tr style=\"text-align: right;\">\n",
       "      <th></th>\n",
       "      <th>worldwide_gross</th>\n",
       "      <th>usa_percent</th>\n",
       "    </tr>\n",
       "  </thead>\n",
       "  <tbody>\n",
       "    <tr>\n",
       "      <th>count</th>\n",
       "      <td>672</td>\n",
       "      <td>672.00</td>\n",
       "    </tr>\n",
       "    <tr>\n",
       "      <th>mean</th>\n",
       "      <td>430943846</td>\n",
       "      <td>0.39</td>\n",
       "    </tr>\n",
       "    <tr>\n",
       "      <th>std</th>\n",
       "      <td>317680755</td>\n",
       "      <td>0.14</td>\n",
       "    </tr>\n",
       "    <tr>\n",
       "      <th>min</th>\n",
       "      <td>173469516</td>\n",
       "      <td>0.00</td>\n",
       "    </tr>\n",
       "    <tr>\n",
       "      <th>25%</th>\n",
       "      <td>222361331</td>\n",
       "      <td>0.30</td>\n",
       "    </tr>\n",
       "    <tr>\n",
       "      <th>50%</th>\n",
       "      <td>320585814</td>\n",
       "      <td>0.39</td>\n",
       "    </tr>\n",
       "    <tr>\n",
       "      <th>75%</th>\n",
       "      <td>520953571</td>\n",
       "      <td>0.49</td>\n",
       "    </tr>\n",
       "    <tr>\n",
       "      <th>max</th>\n",
       "      <td>2847246203</td>\n",
       "      <td>0.87</td>\n",
       "    </tr>\n",
       "  </tbody>\n",
       "</table>\n",
       "</div>"
      ],
      "text/plain": [
       "       worldwide_gross  usa_percent\n",
       "count              672       672.00\n",
       "mean         430943846         0.39\n",
       "std          317680755         0.14\n",
       "min          173469516         0.00\n",
       "25%          222361331         0.30\n",
       "50%          320585814         0.39\n",
       "75%          520953571         0.49\n",
       "max         2847246203         0.87"
      ]
     },
     "execution_count": 87,
     "metadata": {},
     "output_type": "execute_result"
    }
   ],
   "source": [
    "desc_stats = round(df_merge.describe(),2)\n",
    "desc_stats['worldwide_gross'] = desc_stats['worldwide_gross'].astype(np.int64) \n",
    "desc_stats"
   ]
  },
  {
   "cell_type": "code",
   "execution_count": 88,
   "id": "1bb4730d",
   "metadata": {
    "scrolled": true
   },
   "outputs": [
    {
     "data": {
      "image/png": "[encoded data removed]",
      "text/plain": [
       "<Figure size 360x360 with 6 Axes>"
      ]
     },
     "metadata": {
      "needs_background": "light"
     },
     "output_type": "display_data"
    }
   ],
   "source": [
    "# plot the pair plot of salary, balance and age in data dataframe.\n",
    "sns.pairplot(data = df_merge, vars=list(desc_stats.columns))\n",
    "plt.show()"
   ]
  },
  {
   "cell_type": "code",
   "execution_count": 89,
   "id": "86c9526f",
   "metadata": {},
   "outputs": [
    {
     "data": {
      "text/plain": [
       "Text(0.5, 1.0, 'Description word count distribution')"
      ]
     },
     "execution_count": 89,
     "metadata": {},
     "output_type": "execute_result"
    },
    {
     "data": {
      "image/png": "[encoded data removed]",
      "text/plain": [
       "<Figure size 432x288 with 1 Axes>"
      ]
     },
     "metadata": {
      "needs_background": "light"
     },
     "output_type": "display_data"
    }
   ],
   "source": [
    "des_len = df_merge['movie_description'].apply(lambda x: len(x))\n",
    "sns.histplot(des_len)\n",
    "plt.title('Description word count distribution')"
   ]
  },
  {
   "cell_type": "code",
   "execution_count": 90,
   "id": "35da388a",
   "metadata": {},
   "outputs": [
    {
     "data": {
      "text/plain": [
       "Text(0.5, 1.0, 'Review word count distribution')"
      ]
     },
     "execution_count": 90,
     "metadata": {},
     "output_type": "execute_result"
    },
    {
     "data": {
      "image/png": "[encoded data removed]",
      "text/plain": [
       "<Figure size 432x288 with 1 Axes>"
      ]
     },
     "metadata": {
      "needs_background": "light"
     },
     "output_type": "display_data"
    }
   ],
   "source": [
    "rev_len = df_merge['reviews'].apply(lambda x: len(x))\n",
    "sns.histplot(rev_len)\n",
    "plt.title('Review word count distribution')"
   ]
  },
  {
   "cell_type": "markdown",
   "id": "adb63fa3",
   "metadata": {},
   "source": [
    "## Sentiment Analysis\n",
    "#### Labelling the reviews "
   ]
  },
  {
   "cell_type": "code",
   "execution_count": 93,
   "id": "552de997",
   "metadata": {
    "scrolled": true
   },
   "outputs": [
    {
     "data": {
      "text/html": [
       "<div>\n",
       "<style scoped>\n",
       "    .dataframe tbody tr th:only-of-type {\n",
       "        vertical-align: middle;\n",
       "    }\n",
       "\n",
       "    .dataframe tbody tr th {\n",
       "        vertical-align: top;\n",
       "    }\n",
       "\n",
       "    .dataframe thead th {\n",
       "        text-align: right;\n",
       "    }\n",
       "</style>\n",
       "<table border=\"1\" class=\"dataframe\">\n",
       "  <thead>\n",
       "    <tr style=\"text-align: right;\">\n",
       "      <th></th>\n",
       "      <th>title</th>\n",
       "      <th>year</th>\n",
       "      <th>worldwide_gross</th>\n",
       "      <th>usa_percent</th>\n",
       "      <th>genre</th>\n",
       "      <th>movie_description</th>\n",
       "      <th>critical_consensus</th>\n",
       "      <th>review</th>\n",
       "      <th>review_list</th>\n",
       "      <th>reviews</th>\n",
       "      <th>sentiment</th>\n",
       "      <th>sentiment_all</th>\n",
       "      <th>sentiment_pos</th>\n",
       "      <th>sentiment_neg</th>\n",
       "      <th>sentiment_neu</th>\n",
       "      <th>sentiment_comp</th>\n",
       "      <th>sentiment_overall</th>\n",
       "    </tr>\n",
       "  </thead>\n",
       "  <tbody>\n",
       "    <tr>\n",
       "      <th>0</th>\n",
       "      <td>Avatar</td>\n",
       "      <td>2009</td>\n",
       "      <td>2.847246e+09</td>\n",
       "      <td>0.267</td>\n",
       "      <td>action fantasy adventure sci-fi</td>\n",
       "      <td>lush alien world pandora live navi beings appe...</td>\n",
       "      <td>might impressive technical level piece storyte...</td>\n",
       "      <td>[Avatar is a joyous celebration of story craft...</td>\n",
       "      <td>[avatar joyous celebration story craft visual ...</td>\n",
       "      <td>avatar joyous celebration story craft visual p...</td>\n",
       "      <td>{'neg': 0.039, 'neu': 0.784, 'pos': 0.177, 'co...</td>\n",
       "      <td>[{'neg': 0.046, 'neu': 0.814, 'pos': 0.14, 'co...</td>\n",
       "      <td>0.177</td>\n",
       "      <td>0.039</td>\n",
       "      <td>0.784</td>\n",
       "      <td>0.9968</td>\n",
       "      <td>positive</td>\n",
       "    </tr>\n",
       "    <tr>\n",
       "      <th>1</th>\n",
       "      <td>Avengers: Endgame</td>\n",
       "      <td>2019</td>\n",
       "      <td>2.797501e+09</td>\n",
       "      <td>0.307</td>\n",
       "      <td>action fantasy adventure sci-fi</td>\n",
       "      <td>adrift space food water tony stark sends messa...</td>\n",
       "      <td>exciting entertaining emotionally impactful av...</td>\n",
       "      <td>[...A wonderful, rousing payoff in the context...</td>\n",
       "      <td>[wonderful rousing payoff context big battle w...</td>\n",
       "      <td>wonderful rousing payoff context big battle wi...</td>\n",
       "      <td>{'neg': 0.044, 'neu': 0.822, 'pos': 0.134, 'co...</td>\n",
       "      <td>[{'neg': 0.118, 'neu': 0.588, 'pos': 0.294, 'c...</td>\n",
       "      <td>0.134</td>\n",
       "      <td>0.044</td>\n",
       "      <td>0.822</td>\n",
       "      <td>0.9910</td>\n",
       "      <td>positive</td>\n",
       "    </tr>\n",
       "  </tbody>\n",
       "</table>\n",
       "</div>"
      ],
      "text/plain": [
       "               title  year  worldwide_gross  usa_percent  \\\n",
       "0             Avatar  2009     2.847246e+09        0.267   \n",
       "1  Avengers: Endgame  2019     2.797501e+09        0.307   \n",
       "\n",
       "                             genre  \\\n",
       "0  action fantasy adventure sci-fi   \n",
       "1  action fantasy adventure sci-fi   \n",
       "\n",
       "                                   movie_description  \\\n",
       "0  lush alien world pandora live navi beings appe...   \n",
       "1  adrift space food water tony stark sends messa...   \n",
       "\n",
       "                                  critical_consensus  \\\n",
       "0  might impressive technical level piece storyte...   \n",
       "1  exciting entertaining emotionally impactful av...   \n",
       "\n",
       "                                              review  \\\n",
       "0  [Avatar is a joyous celebration of story craft...   \n",
       "1  [...A wonderful, rousing payoff in the context...   \n",
       "\n",
       "                                         review_list  \\\n",
       "0  [avatar joyous celebration story craft visual ...   \n",
       "1  [wonderful rousing payoff context big battle w...   \n",
       "\n",
       "                                             reviews  \\\n",
       "0  avatar joyous celebration story craft visual p...   \n",
       "1  wonderful rousing payoff context big battle wi...   \n",
       "\n",
       "                                           sentiment  \\\n",
       "0  {'neg': 0.039, 'neu': 0.784, 'pos': 0.177, 'co...   \n",
       "1  {'neg': 0.044, 'neu': 0.822, 'pos': 0.134, 'co...   \n",
       "\n",
       "                                       sentiment_all  sentiment_pos  \\\n",
       "0  [{'neg': 0.046, 'neu': 0.814, 'pos': 0.14, 'co...          0.177   \n",
       "1  [{'neg': 0.118, 'neu': 0.588, 'pos': 0.294, 'c...          0.134   \n",
       "\n",
       "   sentiment_neg  sentiment_neu  sentiment_comp sentiment_overall  \n",
       "0          0.039          0.784          0.9968          positive  \n",
       "1          0.044          0.822          0.9910          positive  "
      ]
     },
     "execution_count": 93,
     "metadata": {},
     "output_type": "execute_result"
    }
   ],
   "source": [
    "# Determine Sentiment of Reviews; see (Hutto, n.d.)\n",
    "df_merge['sentiment'] = df_merge['review'].apply(lambda x: sid_analyser(x, True))\n",
    "df_merge['sentiment_all'] = df_merge['review'].apply(lambda x: sid_analyser(x, False))\n",
    "\n",
    "# Split overall scores into seperate columns for plotting\n",
    "df_merge['sentiment_pos'] = df_merge['sentiment'].apply(lambda x: x['pos'])\n",
    "df_merge['sentiment_neg'] = df_merge['sentiment'].apply(lambda x: x['neg'])\n",
    "df_merge['sentiment_neu'] = df_merge['sentiment'].apply(lambda x: x['neu'])\n",
    "df_merge['sentiment_comp'] = df_merge['sentiment'].apply(lambda x: x['compound'])\n",
    "\n",
    "# Apply overall sentiment classification label\n",
    "df_merge['sentiment_overall'] = df_merge['sentiment'].apply(lambda x: sentiment_overall(x['compound']))\n",
    "\n",
    "df_merge.head(2)"
   ]
  },
  {
   "cell_type": "code",
   "execution_count": 94,
   "id": "237138f9",
   "metadata": {},
   "outputs": [
    {
     "data": {
      "text/plain": [
       "positive    592\n",
       "negative     79\n",
       "neutral       1\n",
       "Name: sentiment_overall, dtype: int64"
      ]
     },
     "execution_count": 94,
     "metadata": {},
     "output_type": "execute_result"
    }
   ],
   "source": [
    "# note the data are imbalanced\n",
    "df_merge['sentiment_overall'].value_counts()"
   ]
  },
  {
   "cell_type": "code",
   "execution_count": 95,
   "id": "875351b4",
   "metadata": {},
   "outputs": [
    {
     "data": {
      "text/plain": [
       "Text(0.5, 1.0, 'Compound Sentiment')"
      ]
     },
     "execution_count": 95,
     "metadata": {},
     "output_type": "execute_result"
    },
    {
     "data": {
      "image/png": "[encoded data removed]",
      "text/plain": [
       "<Figure size 720x504 with 4 Axes>"
      ]
     },
     "metadata": {
      "needs_background": "light"
     },
     "output_type": "display_data"
    }
   ],
   "source": [
    "fig, axs = plt.subplots(2, 2, figsize = (10,7))\n",
    "\n",
    "# Plot the distribution of sentiment\n",
    "axs[0,0].hist(df_merge['sentiment_pos'])\n",
    "axs[0,0].set_title(\"Positive Sentiment\")\n",
    "axs[0,1].hist(df_merge['sentiment_neg'])\n",
    "axs[0,1].set_title(\"Negative Sentiment\")\n",
    "axs[1,0].hist(df_merge['sentiment_neu'])\n",
    "axs[1,0].set_title(\"Neutral Sentiment\")\n",
    "axs[1,1].hist(df_merge['sentiment_comp'])\n",
    "axs[1,1].set_title(\"Compound Sentiment\")"
   ]
  },
  {
   "cell_type": "markdown",
   "id": "63e64997",
   "metadata": {},
   "source": [
    "**What is the neutral review?**\n",
    "\n",
    "It looks like the reviews are balanced between positive and negative. \n",
    "\n",
    "As this is the only film that VADER has classified as neutral, we will remove it from the dataset."
   ]
  },
  {
   "cell_type": "code",
   "execution_count": 96,
   "id": "8aa2bab0",
   "metadata": {},
   "outputs": [
    {
     "name": "stdout",
     "output_type": "stream",
     "text": [
      "Film:  ['The Matrix Revolutions']\n"
     ]
    }
   ],
   "source": [
    "# What is the neutral review?\n",
    "print('Film: ', df_merge[df_merge['sentiment_overall'] == 'neutral']['title'].values)"
   ]
  },
  {
   "cell_type": "code",
   "execution_count": 97,
   "id": "e5852357",
   "metadata": {},
   "outputs": [
    {
     "data": {
      "text/plain": [
       "negative    7\n",
       "positive    7\n",
       "neutral     5\n",
       "Name: 1, dtype: int64"
      ]
     },
     "execution_count": 97,
     "metadata": {},
     "output_type": "execute_result"
    }
   ],
   "source": [
    "# How are the reviews scored individually?\n",
    "df_merge.head()\n",
    "\n",
    "sent = []\n",
    "for i in list(df_merge[df_merge['sentiment_overall'] == 'neutral']['sentiment_all'])[0]:\n",
    "    sent.append([i['compound'], sentiment_overall(np.mean(i['compound']))])\n",
    "    \n",
    "pd.DataFrame(sent)[1].value_counts()"
   ]
  },
  {
   "cell_type": "code",
   "execution_count": 98,
   "id": "358cd8f5",
   "metadata": {},
   "outputs": [],
   "source": [
    "# Remove film\n",
    "df_merge = df_merge[df_merge.title != 'The Matrix Revolutions']"
   ]
  },
  {
   "cell_type": "code",
   "execution_count": 99,
   "id": "97d5d898",
   "metadata": {},
   "outputs": [],
   "source": [
    "# Save dataframe to CSV\n",
    "df_merge.to_csv('bk_data_merged.csv', index = False)"
   ]
  },
  {
   "cell_type": "code",
   "execution_count": null,
   "id": "78f9a2f4",
   "metadata": {},
   "outputs": [],
   "source": []
  }
 ],
 "metadata": {
  "kernelspec": {
   "display_name": "Python 3 (ipykernel)",
   "language": "python",
   "name": "python3"
  },
  "language_info": {
   "codemirror_mode": {
    "name": "ipython",
    "version": 3
   },
   "file_extension": ".py",
   "mimetype": "text/x-python",
   "name": "python",
   "nbconvert_exporter": "python",
   "pygments_lexer": "ipython3",
   "version": "3.9.7"
  }
 },
 "nbformat": 4,
 "nbformat_minor": 5
}
